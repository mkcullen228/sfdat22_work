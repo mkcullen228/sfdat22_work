{
 "cells": [
  {
   "cell_type": "code",
   "execution_count": 394,
   "metadata": {
    "collapsed": false
   },
   "outputs": [],
   "source": [
    "import pandas as pd\n",
    "import numpy as np\n",
    "import matplotlib.pyplot as plt\n",
    "%matplotlib inline\n",
    "from sklearn import metrics\n",
    "from datetime import date\n",
    "\n",
    "# import modelling from sklearn\n",
    "from sklearn.neighbors import KNeighborsClassifier\n",
    "from sklearn.linear_model import LogisticRegression\n",
    "from sklearn.naive_bayes import MultinomialNB\n",
    "from sklearn.tree import DecisionTreeClassifier\n",
    "from sklearn.ensemble import RandomForestClassifier\n",
    "\n",
    "from sklearn.grid_search import GridSearchCV\n",
    "from sklearn.cross_validation import cross_val_score\n",
    "from sklearn.tree import export_graphviz\n",
    "from sklearn.cross_validation import train_test_split\n",
    "\n",
    "from sklearn.metrics import confusion_matrix\n",
    "from sklearn.metrics import classification_report\n",
    "from sklearn.metrics import accuracy_score"
   ]
  },
  {
   "cell_type": "code",
   "execution_count": 395,
   "metadata": {
    "collapsed": false
   },
   "outputs": [],
   "source": [
    "# From Kaggle Competition. Expedia Hotel Recommendations\n",
    "# https://www.kaggle.com/c/expedia-hotel-recommendations\n",
    "\n",
    "## Load the data from expedia kaggle Challenge\n",
    "destinations = pd.read_csv('../Final_Project/data/destinations.csv') \n",
    "# Read data into pandas and explore\n",
    "# expedia = pd.read_csv('../Final_Project/data/train.csv') # takes a LONG time to load the full dataset! \n",
    "expedia = pd.read_csv('../Final_Project/data/train.csv',nrows=5000) # test code with smaller set first for faster code check. \n",
    "# other dataset provided: testing dataset\n",
    "# df_test = pd.read_csv('../Final_Project/data/test.csv'); # will read this is later when/if needed. "
   ]
  },
  {
   "cell_type": "code",
   "execution_count": 396,
   "metadata": {
    "collapsed": false
   },
   "outputs": [
    {
     "name": "stdout",
     "output_type": "stream",
     "text": [
      "Expedia Site Dataframe Shape\n",
      "(5000, 24)\n",
      "Destinations Dataframe Shape\n",
      "(62106, 150)\n"
     ]
    },
    {
     "data": {
      "text/html": [
       "<div>\n",
       "<table border=\"1\" class=\"dataframe\">\n",
       "  <thead>\n",
       "    <tr style=\"text-align: right;\">\n",
       "      <th></th>\n",
       "      <th>srch_destination_id</th>\n",
       "      <th>d1</th>\n",
       "      <th>d2</th>\n",
       "      <th>d3</th>\n",
       "      <th>d4</th>\n",
       "      <th>d5</th>\n",
       "      <th>d6</th>\n",
       "      <th>d7</th>\n",
       "      <th>d8</th>\n",
       "      <th>d9</th>\n",
       "      <th>...</th>\n",
       "      <th>d140</th>\n",
       "      <th>d141</th>\n",
       "      <th>d142</th>\n",
       "      <th>d143</th>\n",
       "      <th>d144</th>\n",
       "      <th>d145</th>\n",
       "      <th>d146</th>\n",
       "      <th>d147</th>\n",
       "      <th>d148</th>\n",
       "      <th>d149</th>\n",
       "    </tr>\n",
       "  </thead>\n",
       "  <tbody>\n",
       "    <tr>\n",
       "      <th>0</th>\n",
       "      <td>0</td>\n",
       "      <td>-2.198657</td>\n",
       "      <td>-2.198657</td>\n",
       "      <td>-2.198657</td>\n",
       "      <td>-2.198657</td>\n",
       "      <td>-2.198657</td>\n",
       "      <td>-1.897627</td>\n",
       "      <td>-2.198657</td>\n",
       "      <td>-2.198657</td>\n",
       "      <td>-1.897627</td>\n",
       "      <td>...</td>\n",
       "      <td>-2.198657</td>\n",
       "      <td>-2.198657</td>\n",
       "      <td>-2.198657</td>\n",
       "      <td>-2.198657</td>\n",
       "      <td>-2.198657</td>\n",
       "      <td>-2.198657</td>\n",
       "      <td>-2.198657</td>\n",
       "      <td>-2.198657</td>\n",
       "      <td>-2.198657</td>\n",
       "      <td>-2.198657</td>\n",
       "    </tr>\n",
       "    <tr>\n",
       "      <th>1</th>\n",
       "      <td>1</td>\n",
       "      <td>-2.181690</td>\n",
       "      <td>-2.181690</td>\n",
       "      <td>-2.181690</td>\n",
       "      <td>-2.082564</td>\n",
       "      <td>-2.181690</td>\n",
       "      <td>-2.165028</td>\n",
       "      <td>-2.181690</td>\n",
       "      <td>-2.181690</td>\n",
       "      <td>-2.031597</td>\n",
       "      <td>...</td>\n",
       "      <td>-2.165028</td>\n",
       "      <td>-2.181690</td>\n",
       "      <td>-2.165028</td>\n",
       "      <td>-2.181690</td>\n",
       "      <td>-2.181690</td>\n",
       "      <td>-2.165028</td>\n",
       "      <td>-2.181690</td>\n",
       "      <td>-2.181690</td>\n",
       "      <td>-2.181690</td>\n",
       "      <td>-2.181690</td>\n",
       "    </tr>\n",
       "  </tbody>\n",
       "</table>\n",
       "<p>2 rows × 150 columns</p>\n",
       "</div>"
      ],
      "text/plain": [
       "   srch_destination_id        d1        d2        d3        d4        d5  \\\n",
       "0                    0 -2.198657 -2.198657 -2.198657 -2.198657 -2.198657   \n",
       "1                    1 -2.181690 -2.181690 -2.181690 -2.082564 -2.181690   \n",
       "\n",
       "         d6        d7        d8        d9    ...         d140      d141  \\\n",
       "0 -1.897627 -2.198657 -2.198657 -1.897627    ...    -2.198657 -2.198657   \n",
       "1 -2.165028 -2.181690 -2.181690 -2.031597    ...    -2.165028 -2.181690   \n",
       "\n",
       "       d142      d143      d144      d145      d146      d147      d148  \\\n",
       "0 -2.198657 -2.198657 -2.198657 -2.198657 -2.198657 -2.198657 -2.198657   \n",
       "1 -2.165028 -2.181690 -2.181690 -2.165028 -2.181690 -2.181690 -2.181690   \n",
       "\n",
       "       d149  \n",
       "0 -2.198657  \n",
       "1 -2.181690  \n",
       "\n",
       "[2 rows x 150 columns]"
      ]
     },
     "execution_count": 396,
     "metadata": {},
     "output_type": "execute_result"
    }
   ],
   "source": [
    "print 'Expedia Site Dataframe Shape'\n",
    "print expedia.shape\n",
    "expedia.head(2)\n",
    "print 'Destinations Dataframe Shape'\n",
    "print destinations.shape\n",
    "destinations.head(2)"
   ]
  },
  {
   "cell_type": "markdown",
   "metadata": {},
   "source": [
    "Explaination of Columns from https://www.kaggle.com/c/expedia-hotel-recommendations/data \n",
    "\n",
    "date_time - Timestamp - string\n",
    "site_name - ID of the Expedia point of sale - int\n",
    "posa_continent - ID of continent associated with site_name\t- int\n",
    "user_location_country - The ID of the country the customer is located - int\n",
    "user_location_region - The ID of the region the customer is located - int\n",
    "user_location_city - The ID of the city the customer is located - int\n",
    "orig_destination_distance - Physical distance between a hotel and a customer at the time of search. A null means the distance could not be calculated- double\n",
    "user_id - ID of user - int\n",
    "is_mobile - 1 when a user connected from a mobile device, 0 otherwise - tinyint\n",
    "is_package - 1 if the click/booking was generated as a part of a package, 0 otherwise - int\n",
    "channel  - \tID of a marketing channel\n",
    "srch_ci - Checkin date - string\n",
    "srch_co - Checkout date - string\n",
    "srch_adults_cnt - The number of adults specified in the hotel room - int\n",
    "srch_children_cnt - The number of (extra occupancy) children specified in the hotel room - int\n",
    "srch_rm_cnt - The number of hotel rooms specified in the search - int\n",
    "srch_destination_id - ID of the destination where the hotel search was performed - int\n",
    "srch_destination_type_id - Type of destination - int\n",
    "hotel_continent - Hotel continent - int\n",
    "hotel_country - Hotel country - int\n",
    "hotel_market - Hotel market - int\n",
    "is_booking - 1 if a booking, 0 if a click - tinyint\n",
    "cnt - Numer of similar events in the context of the same user session  -bigint\n",
    "hotel_cluster - ID of a hotel cluster - int"
   ]
  },
  {
   "cell_type": "code",
   "execution_count": 397,
   "metadata": {
    "collapsed": false
   },
   "outputs": [
    {
     "name": "stdout",
     "output_type": "stream",
     "text": [
      "Dataset Stats\n",
      "Size of Dataframe (5000, 24)\n",
      "Unique Users:  177\n",
      "Mean entries per user:  28.2485875706\n",
      "Number of entries where users book 393 total 5000\n",
      "Unique Hotel Cluter IDs:  100\n"
     ]
    }
   ],
   "source": [
    "# Print some info about dataset\n",
    "\n",
    "# user IDs. \n",
    "print 'Dataset Stats'\n",
    "print 'Size of Dataframe', expedia.shape\n",
    "\n",
    "# unique User counts. \n",
    "user = expedia.groupby('user_id').user_id.count()\n",
    "muser = user.mean()\n",
    "print 'Unique Users: ', len(user)\n",
    "print 'Mean entries per user: ', muser\n",
    "\n",
    "# Number of bookings vs. other entries. \n",
    "lbook = len(expedia.loc[(expedia['is_booking']  == 1)])\n",
    "num_book = expedia.groupby('is_booking').is_booking.count()\n",
    "print 'Number of entries where users book', lbook, 'total', len(expedia)\n",
    "\n",
    "# unique hotel cluster counts. \n",
    "hc = expedia.groupby('hotel_cluster').hotel_cluster.count()\n",
    "print 'Unique Hotel Cluter IDs: ', len(hc)"
   ]
  },
  {
   "cell_type": "code",
   "execution_count": 398,
   "metadata": {
    "collapsed": false
   },
   "outputs": [
    {
     "data": {
      "text/html": [
       "<div>\n",
       "<table border=\"1\" class=\"dataframe\">\n",
       "  <thead>\n",
       "    <tr style=\"text-align: right;\">\n",
       "      <th></th>\n",
       "      <th>date_time</th>\n",
       "      <th>site_name</th>\n",
       "      <th>posa_continent</th>\n",
       "      <th>user_location_country</th>\n",
       "      <th>user_location_region</th>\n",
       "      <th>user_location_city</th>\n",
       "      <th>orig_destination_distance</th>\n",
       "      <th>user_id</th>\n",
       "      <th>is_mobile</th>\n",
       "      <th>is_package</th>\n",
       "      <th>...</th>\n",
       "      <th>srch_destination_id</th>\n",
       "      <th>srch_destination_type_id</th>\n",
       "      <th>is_booking</th>\n",
       "      <th>cnt</th>\n",
       "      <th>hotel_continent</th>\n",
       "      <th>hotel_country</th>\n",
       "      <th>hotel_market</th>\n",
       "      <th>hotel_cluster</th>\n",
       "      <th>search_time_epoch</th>\n",
       "      <th>tos</th>\n",
       "    </tr>\n",
       "  </thead>\n",
       "  <tbody>\n",
       "    <tr>\n",
       "      <th>0</th>\n",
       "      <td>2014-08-11 07:46:59</td>\n",
       "      <td>2</td>\n",
       "      <td>3</td>\n",
       "      <td>66</td>\n",
       "      <td>348</td>\n",
       "      <td>48862</td>\n",
       "      <td>2234.2641</td>\n",
       "      <td>12</td>\n",
       "      <td>0</td>\n",
       "      <td>1</td>\n",
       "      <td>...</td>\n",
       "      <td>8250</td>\n",
       "      <td>1</td>\n",
       "      <td>0</td>\n",
       "      <td>3</td>\n",
       "      <td>2</td>\n",
       "      <td>50</td>\n",
       "      <td>628</td>\n",
       "      <td>1</td>\n",
       "      <td>1407768419</td>\n",
       "      <td>0</td>\n",
       "    </tr>\n",
       "    <tr>\n",
       "      <th>1</th>\n",
       "      <td>2014-08-11 08:22:12</td>\n",
       "      <td>2</td>\n",
       "      <td>3</td>\n",
       "      <td>66</td>\n",
       "      <td>348</td>\n",
       "      <td>48862</td>\n",
       "      <td>2234.2641</td>\n",
       "      <td>12</td>\n",
       "      <td>0</td>\n",
       "      <td>1</td>\n",
       "      <td>...</td>\n",
       "      <td>8250</td>\n",
       "      <td>1</td>\n",
       "      <td>1</td>\n",
       "      <td>1</td>\n",
       "      <td>2</td>\n",
       "      <td>50</td>\n",
       "      <td>628</td>\n",
       "      <td>1</td>\n",
       "      <td>1407770532</td>\n",
       "      <td>2113</td>\n",
       "    </tr>\n",
       "  </tbody>\n",
       "</table>\n",
       "<p>2 rows × 26 columns</p>\n",
       "</div>"
      ],
      "text/plain": [
       "             date_time  site_name  posa_continent  user_location_country  \\\n",
       "0  2014-08-11 07:46:59          2               3                     66   \n",
       "1  2014-08-11 08:22:12          2               3                     66   \n",
       "\n",
       "   user_location_region  user_location_city  orig_destination_distance  \\\n",
       "0                   348               48862                  2234.2641   \n",
       "1                   348               48862                  2234.2641   \n",
       "\n",
       "   user_id  is_mobile  is_package  ...   srch_destination_id  \\\n",
       "0       12          0           1  ...                  8250   \n",
       "1       12          0           1  ...                  8250   \n",
       "\n",
       "  srch_destination_type_id is_booking  cnt  hotel_continent  hotel_country  \\\n",
       "0                        1          0    3                2             50   \n",
       "1                        1          1    1                2             50   \n",
       "\n",
       "   hotel_market  hotel_cluster  search_time_epoch   tos  \n",
       "0           628              1         1407768419     0  \n",
       "1           628              1         1407770532  2113  \n",
       "\n",
       "[2 rows x 26 columns]"
      ]
     },
     "execution_count": 398,
     "metadata": {},
     "output_type": "execute_result"
    }
   ],
   "source": [
    "# Prep Expedia Train Dataset \n",
    "# Add a column for the epoch time to dataset. \n",
    "# Need to do this before time is changed from a string to a date time\n",
    "import time, os\n",
    "# search time epoch\n",
    "epochs = []\n",
    "d = expedia.date_time\n",
    "p='%Y-%m-%d %H:%M:%S'\n",
    "for dts in d:\n",
    "    epoch = int(time.mktime(time.strptime(dts,p)))\n",
    "    epochs.append(epoch)\n",
    "expedia['search_time_epoch'] = epochs\n",
    "\n",
    "# time on site column\n",
    "# using time the user first searched as t0. i.e. 0 time = first search\n",
    "expedia['tos'] = expedia.search_time_epoch\n",
    "user = expedia.user_id\n",
    "for u in user: \n",
    "    t0 = min(expedia.loc[expedia.user_id == u].search_time_epoch)\n",
    "    expedia.loc[expedia['user_id']==u,'tos'] = expedia.search_time_epoch - t0\n",
    "\n",
    "# check-in time epoch\n",
    "# Do not have hh:mm:ss for check in and out. \n",
    "# Using 4:00 pm as default for checkout\n",
    "# epochs = []\n",
    "# d = expedia.srch_ci\n",
    "# p='%Y-%m-%d %H:%M:%S'\n",
    "# for dts in d:\n",
    "#    epoch = int(time.mktime(time.strptime(dts,p)))\n",
    "#    epochs.append(epoch)\n",
    "# expedia['srch_ci_epoch'] = epochs\n",
    "\n",
    "# check-out time epoch\n",
    "# Using 11:59 am as default for checkout\n",
    "# epochs = []\n",
    "# d = expedia.srch_co\n",
    "# p='%Y-%m-%d %H:%M:%S'\n",
    "# for dts in d:\n",
    "#    epoch = int(time.mktime(time.strptime(dts,p)))\n",
    "#    epochs.append(epoch)\n",
    "# expedia['srch_co_epoch'] = epochs\n",
    "\n",
    "expedia.head(2)"
   ]
  },
  {
   "cell_type": "code",
   "execution_count": 399,
   "metadata": {
    "collapsed": false
   },
   "outputs": [],
   "source": [
    "# define function to find the day of the week. \n",
    "# Monday = 1, Sunday = 7\n",
    "def find_dow(date_col):\n",
    "    dow = []\n",
    "    for d in date_col: \n",
    "        dow.append(d.isoweekday()) \n",
    "    return dow"
   ]
  },
  {
   "cell_type": "code",
   "execution_count": 400,
   "metadata": {
    "collapsed": false
   },
   "outputs": [
    {
     "data": {
      "text/html": [
       "<div>\n",
       "<table border=\"1\" class=\"dataframe\">\n",
       "  <thead>\n",
       "    <tr style=\"text-align: right;\">\n",
       "      <th></th>\n",
       "      <th>date_time</th>\n",
       "      <th>site_name</th>\n",
       "      <th>posa_continent</th>\n",
       "      <th>user_location_country</th>\n",
       "      <th>user_location_region</th>\n",
       "      <th>user_location_city</th>\n",
       "      <th>orig_destination_distance</th>\n",
       "      <th>user_id</th>\n",
       "      <th>is_mobile</th>\n",
       "      <th>is_package</th>\n",
       "      <th>...</th>\n",
       "      <th>search_time_epoch</th>\n",
       "      <th>tos</th>\n",
       "      <th>year</th>\n",
       "      <th>month</th>\n",
       "      <th>day</th>\n",
       "      <th>dow_search</th>\n",
       "      <th>dow_ci</th>\n",
       "      <th>dow_co</th>\n",
       "      <th>length_of_stay</th>\n",
       "      <th>is_business_trip</th>\n",
       "    </tr>\n",
       "  </thead>\n",
       "  <tbody>\n",
       "    <tr>\n",
       "      <th>0</th>\n",
       "      <td>2014-08-11 07:46:59</td>\n",
       "      <td>2</td>\n",
       "      <td>3</td>\n",
       "      <td>66</td>\n",
       "      <td>348</td>\n",
       "      <td>48862</td>\n",
       "      <td>2234.2641</td>\n",
       "      <td>12</td>\n",
       "      <td>0</td>\n",
       "      <td>1</td>\n",
       "      <td>...</td>\n",
       "      <td>1407768419</td>\n",
       "      <td>0</td>\n",
       "      <td>2014</td>\n",
       "      <td>8</td>\n",
       "      <td>11</td>\n",
       "      <td>1</td>\n",
       "      <td>3</td>\n",
       "      <td>7</td>\n",
       "      <td>4.0</td>\n",
       "      <td>0.0</td>\n",
       "    </tr>\n",
       "    <tr>\n",
       "      <th>1</th>\n",
       "      <td>2014-08-11 08:22:12</td>\n",
       "      <td>2</td>\n",
       "      <td>3</td>\n",
       "      <td>66</td>\n",
       "      <td>348</td>\n",
       "      <td>48862</td>\n",
       "      <td>2234.2641</td>\n",
       "      <td>12</td>\n",
       "      <td>0</td>\n",
       "      <td>1</td>\n",
       "      <td>...</td>\n",
       "      <td>1407770532</td>\n",
       "      <td>2113</td>\n",
       "      <td>2014</td>\n",
       "      <td>8</td>\n",
       "      <td>11</td>\n",
       "      <td>1</td>\n",
       "      <td>5</td>\n",
       "      <td>2</td>\n",
       "      <td>4.0</td>\n",
       "      <td>0.0</td>\n",
       "    </tr>\n",
       "  </tbody>\n",
       "</table>\n",
       "<p>2 rows × 34 columns</p>\n",
       "</div>"
      ],
      "text/plain": [
       "            date_time  site_name  posa_continent  user_location_country  \\\n",
       "0 2014-08-11 07:46:59          2               3                     66   \n",
       "1 2014-08-11 08:22:12          2               3                     66   \n",
       "\n",
       "   user_location_region  user_location_city  orig_destination_distance  \\\n",
       "0                   348               48862                  2234.2641   \n",
       "1                   348               48862                  2234.2641   \n",
       "\n",
       "   user_id  is_mobile  is_package        ...         search_time_epoch   tos  \\\n",
       "0       12          0           1        ...                1407768419     0   \n",
       "1       12          0           1        ...                1407770532  2113   \n",
       "\n",
       "   year  month  day  dow_search  dow_ci  dow_co  length_of_stay  \\\n",
       "0  2014      8   11           1       3       7             4.0   \n",
       "1  2014      8   11           1       5       2             4.0   \n",
       "\n",
       "   is_business_trip  \n",
       "0               0.0  \n",
       "1               0.0  \n",
       "\n",
       "[2 rows x 34 columns]"
      ]
     },
     "execution_count": 400,
     "metadata": {},
     "output_type": "execute_result"
    }
   ],
   "source": [
    "# Adding Time Feature columns to Dataset \n",
    "\n",
    "# Replacing NaN/None values in check in and out search. \n",
    "expedia['srch_ci'] = np.where(pd.isnull(expedia.srch_ci) == 1, 0, expedia.srch_ci)\n",
    "expedia['srch_co'] = np.where(pd.isnull(expedia.srch_co) == 1, 0, expedia.srch_co)\n",
    "\n",
    "expedia['date_time'] = pd.to_datetime(expedia['date_time'])\n",
    "expedia['year'] = expedia['date_time'].dt.year\n",
    "expedia['month'] = expedia['date_time'].dt.month\n",
    "expedia['day'] = expedia['date_time'].dt.day\n",
    "\n",
    "# -------------------\n",
    "# Adding Day of the week the search occured\n",
    "# Monday = 1, Sunday = 7\n",
    "date_time = expedia.date_time\n",
    "dow = find_dow(date_time)\n",
    "expedia['dow_search'] = dow\n",
    "\n",
    "# -------------------\n",
    "# Adding Day of the week check-in date\n",
    "expedia['srch_ci'] = pd.to_datetime(expedia['srch_ci'])\n",
    "date_ci = expedia.srch_ci\n",
    "dow = find_dow(date_ci)\n",
    "expedia['dow_ci'] = dow\n",
    "\n",
    "# -------------------\n",
    "# Adding Day of the week check-out date\n",
    "expedia['srch_co'] = pd.to_datetime(expedia['srch_co'])\n",
    "date_co = expedia.srch_co\n",
    "dow = find_dow(date_co)\n",
    "expedia['dow_co'] = dow\n",
    "\n",
    "# -------------------\n",
    "# length of stay in days\n",
    "delta = date_co - date_ci\n",
    "los = np.zeros(len(delta))\n",
    "c = 0\n",
    "for d in date_ci:\n",
    "    los[c] = delta[c].days\n",
    "    c += 1    \n",
    "expedia['length_of_stay'] = los\n",
    "\n",
    "# -------------------\n",
    "# Adding a feature that guesses if it is a  business_trip. (questionable column)\n",
    "# definition: checkin Sunday(7) - Thursday(4) and must check out same week Monday(!) - Friday(5). \n",
    "# 1 = weekend, 0 = during week trip. \n",
    "# los = expedia.length_of_stay\n",
    "dow_ci = expedia.dow_ci\n",
    "dow_co = expedia.dow_co\n",
    "bt = np.zeros(len(dow_ci))\n",
    "c = 0;\n",
    "for ci in dow_ci:\n",
    "    # if check in sunday - Check that check out is Monday - Friday of the same week\n",
    "    if ci == 7:\n",
    "        if los[c] < 5 and dow_co[c] < 6:\n",
    "            bt[c] = 1\n",
    "    elif ci < 4:\n",
    "        if los[c] < 5 and dow_co[c] <= 5:\n",
    "            bt[c] = 1\n",
    "    c += 1\n",
    "expedia['is_business_trip'] = bt \n",
    "expedia\n",
    "\n",
    "\n",
    "expedia.head(2)"
   ]
  },
  {
   "cell_type": "markdown",
   "metadata": {
    "collapsed": true
   },
   "source": [
    " feature ideas: \n",
    " number or clicks before purchase\n",
    " repeat clicks? user visits same hotel cluster again \n",
    " \n",
    " if user books more than one hotel - is it in the same cluster, same location? \n",
    " time on site searching column (from time_epoch)\n",
    " \n",
    " add dictionary look up for user.\n",
    " Recommendation engine? "
   ]
  },
  {
   "cell_type": "code",
   "execution_count": 401,
   "metadata": {
    "collapsed": false
   },
   "outputs": [
    {
     "data": {
      "text/html": [
       "<div>\n",
       "<table border=\"1\" class=\"dataframe\">\n",
       "  <thead>\n",
       "    <tr style=\"text-align: right;\">\n",
       "      <th></th>\n",
       "      <th>date_time</th>\n",
       "      <th>site_name</th>\n",
       "      <th>posa_continent</th>\n",
       "      <th>user_location_country</th>\n",
       "      <th>user_location_region</th>\n",
       "      <th>user_location_city</th>\n",
       "      <th>orig_destination_distance</th>\n",
       "      <th>user_id</th>\n",
       "      <th>is_mobile</th>\n",
       "      <th>is_package</th>\n",
       "      <th>...</th>\n",
       "      <th>year</th>\n",
       "      <th>month</th>\n",
       "      <th>day</th>\n",
       "      <th>dow_search</th>\n",
       "      <th>dow_ci</th>\n",
       "      <th>dow_co</th>\n",
       "      <th>length_of_stay</th>\n",
       "      <th>is_business_trip</th>\n",
       "      <th>is_family</th>\n",
       "      <th>booking_clust</th>\n",
       "    </tr>\n",
       "  </thead>\n",
       "  <tbody>\n",
       "    <tr>\n",
       "      <th>0</th>\n",
       "      <td>2014-08-11 07:46:59</td>\n",
       "      <td>2</td>\n",
       "      <td>3</td>\n",
       "      <td>66</td>\n",
       "      <td>348</td>\n",
       "      <td>48862</td>\n",
       "      <td>2234.2641</td>\n",
       "      <td>12</td>\n",
       "      <td>0</td>\n",
       "      <td>1</td>\n",
       "      <td>...</td>\n",
       "      <td>2014</td>\n",
       "      <td>8</td>\n",
       "      <td>11</td>\n",
       "      <td>1</td>\n",
       "      <td>3</td>\n",
       "      <td>7</td>\n",
       "      <td>4.0</td>\n",
       "      <td>0.0</td>\n",
       "      <td>0</td>\n",
       "      <td>0</td>\n",
       "    </tr>\n",
       "    <tr>\n",
       "      <th>1</th>\n",
       "      <td>2014-08-11 08:22:12</td>\n",
       "      <td>2</td>\n",
       "      <td>3</td>\n",
       "      <td>66</td>\n",
       "      <td>348</td>\n",
       "      <td>48862</td>\n",
       "      <td>2234.2641</td>\n",
       "      <td>12</td>\n",
       "      <td>0</td>\n",
       "      <td>1</td>\n",
       "      <td>...</td>\n",
       "      <td>2014</td>\n",
       "      <td>8</td>\n",
       "      <td>11</td>\n",
       "      <td>1</td>\n",
       "      <td>5</td>\n",
       "      <td>2</td>\n",
       "      <td>4.0</td>\n",
       "      <td>0.0</td>\n",
       "      <td>0</td>\n",
       "      <td>101</td>\n",
       "    </tr>\n",
       "  </tbody>\n",
       "</table>\n",
       "<p>2 rows × 36 columns</p>\n",
       "</div>"
      ],
      "text/plain": [
       "            date_time  site_name  posa_continent  user_location_country  \\\n",
       "0 2014-08-11 07:46:59          2               3                     66   \n",
       "1 2014-08-11 08:22:12          2               3                     66   \n",
       "\n",
       "   user_location_region  user_location_city  orig_destination_distance  \\\n",
       "0                   348               48862                  2234.2641   \n",
       "1                   348               48862                  2234.2641   \n",
       "\n",
       "   user_id  is_mobile  is_package      ...        year month day  dow_search  \\\n",
       "0       12          0           1      ...        2014     8  11           1   \n",
       "1       12          0           1      ...        2014     8  11           1   \n",
       "\n",
       "   dow_ci  dow_co  length_of_stay  is_business_trip  is_family  booking_clust  \n",
       "0       3       7             4.0               0.0          0              0  \n",
       "1       5       2             4.0               0.0          0            101  \n",
       "\n",
       "[2 rows x 36 columns]"
      ]
     },
     "execution_count": 401,
     "metadata": {},
     "output_type": "execute_result"
    }
   ],
   "source": [
    "# Adding feature columns to dataset. \n",
    "\n",
    "# if there are children - making a binary column of family\n",
    "is_family = np.where(expedia.srch_children_cnt >= 1, 1, 0)\n",
    "expedia['is_family'] = is_family\n",
    "\n",
    "# Adding column for search and is booking. \n",
    "# booking cluster  = 100 + cluster ID if booked,  0 if not booking\n",
    "expedia['booking_clust'] = np.where(expedia.is_booking == 1,(100+ expedia.hotel_cluster) ,0)\n",
    "\n",
    "expedia.head(2)"
   ]
  },
  {
   "cell_type": "code",
   "execution_count": 402,
   "metadata": {
    "collapsed": false
   },
   "outputs": [
    {
     "name": "stdout",
     "output_type": "stream",
     "text": [
      "(62106, 158)\n",
      "(62106, 9)\n",
      "srch_destination_id    0\n",
      "mean_latent            0\n",
      "median_latent          0\n",
      "std_latent             0\n",
      "mean_p_std_latent      0\n",
      "max_latent             0\n",
      "min_latent             0\n",
      "is_positive_review     0\n",
      "range_latent           0\n",
      "dtype: int64\n"
     ]
    },
    {
     "data": {
      "text/html": [
       "<div>\n",
       "<table border=\"1\" class=\"dataframe\">\n",
       "  <thead>\n",
       "    <tr style=\"text-align: right;\">\n",
       "      <th></th>\n",
       "      <th>srch_destination_id</th>\n",
       "      <th>mean_latent</th>\n",
       "      <th>median_latent</th>\n",
       "      <th>std_latent</th>\n",
       "      <th>mean_p_std_latent</th>\n",
       "      <th>max_latent</th>\n",
       "      <th>min_latent</th>\n",
       "      <th>is_positive_review</th>\n",
       "      <th>range_latent</th>\n",
       "    </tr>\n",
       "  </thead>\n",
       "  <tbody>\n",
       "    <tr>\n",
       "      <th>0</th>\n",
       "      <td>0</td>\n",
       "      <td>-2.180474</td>\n",
       "      <td>-2.198657</td>\n",
       "      <td>0.190054</td>\n",
       "      <td>2.370529</td>\n",
       "      <td>-1.897627</td>\n",
       "      <td>-2.198657</td>\n",
       "      <td>0</td>\n",
       "      <td>0.301030</td>\n",
       "    </tr>\n",
       "    <tr>\n",
       "      <th>1</th>\n",
       "      <td>1</td>\n",
       "      <td>-2.173926</td>\n",
       "      <td>-2.181690</td>\n",
       "      <td>0.257733</td>\n",
       "      <td>2.431660</td>\n",
       "      <td>-2.031597</td>\n",
       "      <td>-2.181690</td>\n",
       "      <td>0</td>\n",
       "      <td>0.150093</td>\n",
       "    </tr>\n",
       "    <tr>\n",
       "      <th>2</th>\n",
       "      <td>2</td>\n",
       "      <td>-2.179064</td>\n",
       "      <td>-2.224164</td>\n",
       "      <td>0.344545</td>\n",
       "      <td>2.523609</td>\n",
       "      <td>-1.903782</td>\n",
       "      <td>-2.224164</td>\n",
       "      <td>0</td>\n",
       "      <td>0.320382</td>\n",
       "    </tr>\n",
       "    <tr>\n",
       "      <th>3</th>\n",
       "      <td>3</td>\n",
       "      <td>-2.173419</td>\n",
       "      <td>-2.177409</td>\n",
       "      <td>0.418466</td>\n",
       "      <td>2.591885</td>\n",
       "      <td>-2.101291</td>\n",
       "      <td>-2.177409</td>\n",
       "      <td>0</td>\n",
       "      <td>0.076118</td>\n",
       "    </tr>\n",
       "    <tr>\n",
       "      <th>4</th>\n",
       "      <td>4</td>\n",
       "      <td>-2.175013</td>\n",
       "      <td>-2.191779</td>\n",
       "      <td>0.500622</td>\n",
       "      <td>2.675635</td>\n",
       "      <td>-1.946523</td>\n",
       "      <td>-2.194008</td>\n",
       "      <td>0</td>\n",
       "      <td>0.247485</td>\n",
       "    </tr>\n",
       "  </tbody>\n",
       "</table>\n",
       "</div>"
      ],
      "text/plain": [
       "   srch_destination_id  mean_latent  median_latent  std_latent  \\\n",
       "0                    0    -2.180474      -2.198657    0.190054   \n",
       "1                    1    -2.173926      -2.181690    0.257733   \n",
       "2                    2    -2.179064      -2.224164    0.344545   \n",
       "3                    3    -2.173419      -2.177409    0.418466   \n",
       "4                    4    -2.175013      -2.191779    0.500622   \n",
       "\n",
       "   mean_p_std_latent  max_latent  min_latent  is_positive_review  range_latent  \n",
       "0           2.370529   -1.897627   -2.198657                   0      0.301030  \n",
       "1           2.431660   -2.031597   -2.181690                   0      0.150093  \n",
       "2           2.523609   -1.903782   -2.224164                   0      0.320382  \n",
       "3           2.591885   -2.101291   -2.177409                   0      0.076118  \n",
       "4           2.675635   -1.946523   -2.194008                   0      0.247485  "
      ]
     },
     "execution_count": 402,
     "metadata": {},
     "output_type": "execute_result"
    }
   ],
   "source": [
    "# Prep Destinations Dataset\n",
    "# Adding Mean, Meadian, stdev, is_positive columns \n",
    "d = destinations\n",
    "d = d.drop('srch_destination_id',axis = 1)\n",
    "\n",
    "destinations['mean_latent'] = np.nanmean(d, axis=1)\n",
    "destinations['median_latent'] = np.nanmedian(d, axis=1)\n",
    "destinations['std_latent'] = np.nanstd(destinations, axis=1)\n",
    "destinations['mean_p_std_latent'] = abs(destinations.mean_latent) + destinations.std_latent\n",
    "destinations['max_latent'] = np.nanmax(d, axis=1)\n",
    "destinations['min_latent'] = np.nanmin(d, axis=1)\n",
    "destinations['is_positive_review'] = np.where(destinations.mean_latent > 0, 1, 0)\n",
    "destinations['range_latent'] = destinations.max_latent - destinations.min_latent\n",
    "\n",
    "# use only summary columns in training. \n",
    "use = ['srch_destination_id', 'mean_latent', 'median_latent', 'std_latent',\\\n",
    "       'mean_p_std_latent', 'max_latent', 'min_latent','is_positive_review',\\\n",
    "       'range_latent']\n",
    "destinations_use =  destinations[use]\n",
    "\n",
    "print destinations.shape\n",
    "print destinations_use.shape\n",
    "print destinations_use.isnull().sum()\n",
    "destinations_use.head(5)"
   ]
  },
  {
   "cell_type": "code",
   "execution_count": 403,
   "metadata": {
    "collapsed": false
   },
   "outputs": [
    {
     "name": "stdout",
     "output_type": "stream",
     "text": [
      "(5000, 44)\n"
     ]
    },
    {
     "data": {
      "text/html": [
       "<div>\n",
       "<table border=\"1\" class=\"dataframe\">\n",
       "  <thead>\n",
       "    <tr style=\"text-align: right;\">\n",
       "      <th></th>\n",
       "      <th>date_time</th>\n",
       "      <th>site_name</th>\n",
       "      <th>posa_continent</th>\n",
       "      <th>user_location_country</th>\n",
       "      <th>user_location_region</th>\n",
       "      <th>user_location_city</th>\n",
       "      <th>orig_destination_distance</th>\n",
       "      <th>user_id</th>\n",
       "      <th>is_mobile</th>\n",
       "      <th>is_package</th>\n",
       "      <th>...</th>\n",
       "      <th>is_family</th>\n",
       "      <th>booking_clust</th>\n",
       "      <th>mean_latent</th>\n",
       "      <th>median_latent</th>\n",
       "      <th>std_latent</th>\n",
       "      <th>mean_p_std_latent</th>\n",
       "      <th>max_latent</th>\n",
       "      <th>min_latent</th>\n",
       "      <th>is_positive_review</th>\n",
       "      <th>range_latent</th>\n",
       "    </tr>\n",
       "  </thead>\n",
       "  <tbody>\n",
       "    <tr>\n",
       "      <th>0</th>\n",
       "      <td>2014-08-11 07:46:59</td>\n",
       "      <td>2</td>\n",
       "      <td>3</td>\n",
       "      <td>66</td>\n",
       "      <td>348</td>\n",
       "      <td>48862</td>\n",
       "      <td>2234.2641</td>\n",
       "      <td>12</td>\n",
       "      <td>0</td>\n",
       "      <td>1</td>\n",
       "      <td>...</td>\n",
       "      <td>0</td>\n",
       "      <td>0</td>\n",
       "      <td>-2.282679</td>\n",
       "      <td>-2.381387</td>\n",
       "      <td>667.143168</td>\n",
       "      <td>669.425846</td>\n",
       "      <td>-1.140066</td>\n",
       "      <td>-2.400912</td>\n",
       "      <td>0.0</td>\n",
       "      <td>1.260846</td>\n",
       "    </tr>\n",
       "    <tr>\n",
       "      <th>1</th>\n",
       "      <td>2014-08-11 08:22:12</td>\n",
       "      <td>2</td>\n",
       "      <td>3</td>\n",
       "      <td>66</td>\n",
       "      <td>348</td>\n",
       "      <td>48862</td>\n",
       "      <td>2234.2641</td>\n",
       "      <td>12</td>\n",
       "      <td>0</td>\n",
       "      <td>1</td>\n",
       "      <td>...</td>\n",
       "      <td>0</td>\n",
       "      <td>101</td>\n",
       "      <td>-2.282679</td>\n",
       "      <td>-2.381387</td>\n",
       "      <td>667.143168</td>\n",
       "      <td>669.425846</td>\n",
       "      <td>-1.140066</td>\n",
       "      <td>-2.400912</td>\n",
       "      <td>0.0</td>\n",
       "      <td>1.260846</td>\n",
       "    </tr>\n",
       "  </tbody>\n",
       "</table>\n",
       "<p>2 rows × 44 columns</p>\n",
       "</div>"
      ],
      "text/plain": [
       "            date_time  site_name  posa_continent  user_location_country  \\\n",
       "0 2014-08-11 07:46:59          2               3                     66   \n",
       "1 2014-08-11 08:22:12          2               3                     66   \n",
       "\n",
       "   user_location_region  user_location_city  orig_destination_distance  \\\n",
       "0                   348               48862                  2234.2641   \n",
       "1                   348               48862                  2234.2641   \n",
       "\n",
       "   user_id  is_mobile  is_package      ...       is_family booking_clust  \\\n",
       "0       12          0           1      ...               0             0   \n",
       "1       12          0           1      ...               0           101   \n",
       "\n",
       "  mean_latent  median_latent  std_latent  mean_p_std_latent  max_latent  \\\n",
       "0   -2.282679      -2.381387  667.143168         669.425846   -1.140066   \n",
       "1   -2.282679      -2.381387  667.143168         669.425846   -1.140066   \n",
       "\n",
       "   min_latent  is_positive_review  range_latent  \n",
       "0   -2.400912                 0.0      1.260846  \n",
       "1   -2.400912                 0.0      1.260846  \n",
       "\n",
       "[2 rows x 44 columns]"
      ]
     },
     "execution_count": 403,
     "metadata": {},
     "output_type": "execute_result"
    }
   ],
   "source": [
    "# Add Destination Data Information to Expedia Dataset\n",
    "# Adding by search destination ID\n",
    "\n",
    "# print expedia.shape\n",
    "# print destinations_use.shape\n",
    "expedia = pd.merge(expedia, destinations_use, left_on='srch_destination_id', \\\n",
    "                   right_on='srch_destination_id', how='left')\n",
    "\n",
    "print expedia.shape\n",
    "expedia.head(2)"
   ]
  },
  {
   "cell_type": "code",
   "execution_count": 404,
   "metadata": {
    "collapsed": true
   },
   "outputs": [],
   "source": [
    "# fix NaN and Null values\n",
    "expedia['mean_latent'] = np.where(pd.isnull(expedia.mean_latent) == 1, 0, expedia.mean_latent)\n",
    "expedia['median_latent'] = np.where(pd.isnull(expedia.median_latent) == 1, 0, expedia.median_latent)\n",
    "expedia['std_latent'] = np.where(pd.isnull(expedia.std_latent) == 1, 0, expedia.std_latent)\n",
    "expedia['mean_p_std_latent'] = np.where(pd.isnull(expedia.mean_p_std_latent) == 1, 0, expedia.mean_p_std_latent)\n",
    "expedia['max_latent'] = np.where(pd.isnull(expedia.max_latent) == 1, 0, expedia.max_latent)\n",
    "expedia['min_latent'] = np.where(pd.isnull(expedia.min_latent) == 1, 0, expedia.min_latent)\n",
    "expedia['is_positive_review'] = np.where(pd.isnull(expedia.is_positive_review) == 1, 0, expedia.is_positive_review)\n",
    "expedia['range_latent'] = np.where(pd.isnull(expedia.range_latent) == 1, 0, expedia.range_latent)\n",
    "\n",
    "# some features have negative values. making abs(features) for NB  \n",
    "expedia['abs_mean_latent'] = expedia['mean_latent'].abs()\n",
    "expedia['abs_median_latent'] = expedia['median_latent'].abs()\n",
    "expedia['abs_max_latent'] = expedia['max_latent'].abs()\n",
    "expedia['abs_min_latent'] = expedia['min_latent'].abs()"
   ]
  },
  {
   "cell_type": "code",
   "execution_count": 405,
   "metadata": {
    "collapsed": false
   },
   "outputs": [
    {
     "name": "stdout",
     "output_type": "stream",
     "text": [
      "date_time                       0\n",
      "site_name                       0\n",
      "posa_continent                  0\n",
      "user_location_country           0\n",
      "user_location_region            0\n",
      "user_location_city              0\n",
      "orig_destination_distance    2131\n",
      "user_id                         0\n",
      "is_mobile                       0\n",
      "is_package                      0\n",
      "channel                         0\n",
      "srch_ci                         0\n",
      "srch_co                         0\n",
      "srch_adults_cnt                 0\n",
      "srch_children_cnt               0\n",
      "srch_rm_cnt                     0\n",
      "srch_destination_id             0\n",
      "srch_destination_type_id        0\n",
      "is_booking                      0\n",
      "cnt                             0\n",
      "hotel_continent                 0\n",
      "hotel_country                   0\n",
      "hotel_market                    0\n",
      "hotel_cluster                   0\n",
      "search_time_epoch               0\n",
      "tos                             0\n",
      "year                            0\n",
      "month                           0\n",
      "day                             0\n",
      "dow_search                      0\n",
      "dow_ci                          0\n",
      "dow_co                          0\n",
      "length_of_stay                  0\n",
      "is_business_trip                0\n",
      "is_family                       0\n",
      "booking_clust                   0\n",
      "mean_latent                     0\n",
      "median_latent                   0\n",
      "std_latent                      0\n",
      "mean_p_std_latent               0\n",
      "max_latent                      0\n",
      "min_latent                      0\n",
      "is_positive_review              0\n",
      "range_latent                    0\n",
      "abs_mean_latent                 0\n",
      "abs_median_latent               0\n",
      "abs_max_latent                  0\n",
      "abs_min_latent                  0\n",
      "dtype: int64\n",
      "Index([u'date_time', u'site_name', u'posa_continent', u'user_location_country',\n",
      "       u'user_location_region', u'user_location_city',\n",
      "       u'orig_destination_distance', u'user_id', u'is_mobile', u'is_package',\n",
      "       u'channel', u'srch_ci', u'srch_co', u'srch_adults_cnt',\n",
      "       u'srch_children_cnt', u'srch_rm_cnt', u'srch_destination_id',\n",
      "       u'srch_destination_type_id', u'is_booking', u'cnt', u'hotel_continent',\n",
      "       u'hotel_country', u'hotel_market', u'hotel_cluster',\n",
      "       u'search_time_epoch', u'tos', u'year', u'month', u'day', u'dow_search',\n",
      "       u'dow_ci', u'dow_co', u'length_of_stay', u'is_business_trip',\n",
      "       u'is_family', u'booking_clust', u'mean_latent', u'median_latent',\n",
      "       u'std_latent', u'mean_p_std_latent', u'max_latent', u'min_latent',\n",
      "       u'is_positive_review', u'range_latent', u'abs_mean_latent',\n",
      "       u'abs_median_latent', u'abs_max_latent', u'abs_min_latent'],\n",
      "      dtype='object')\n"
     ]
    }
   ],
   "source": [
    "print expedia.isnull().sum()\n",
    "print expedia.columns"
   ]
  },
  {
   "cell_type": "code",
   "execution_count": 406,
   "metadata": {
    "collapsed": false
   },
   "outputs": [],
   "source": [
    "# Predict if a person is booking or not.  DO NOT NEED TO DO THIS\n",
    "# We do not care what hotel cluster a person is looking at unless they book. \n",
    "\n",
    "# print expedia.hotel_cluster.max()\n",
    "# print expedia.hotel_cluster.min()\n",
    "# expedia.corr()\n",
    "\n",
    "# labels = expedia.columns # features to train with \n",
    "# full list\n",
    "# X = ['date_time', u'site_name', u'posa_continent', u'user_location_country',\n",
    "#       'user_location_region', 'user_location_city',\n",
    "#        'orig_destination_distance', 'user_id', 'is_mobile', u'is_package',\n",
    "#        'channel', 'srch_ci', 'srch_co', 'srch_adults_cnt',\n",
    "#        'srch_children_cnt', 'srch_rm_cnt', 'srch_destination_id',\n",
    "#        'srch_destination_type_id', 'is_booking', u'cnt', u'hotel_continent',\n",
    "#        'hotel_country', 'hotel_market', 'hotel_cluster',\n",
    "#        'search_time_epoch', 'tos', 'year', 'month', 'day', 'dow_search',\n",
    "#       'dow_ci', 'dow_co', 'length_of_stay', 'is_business_trip',\n",
    "#       'is_family', 'booking_clust', 'mean_latent_x', 'median_latent_x',\n",
    "#       'std_latent_x', 'mean_p_std_latent_x', 'max_latent_x',\n",
    "#       'min_latent_x', 'is_positive_review_x', 'range_latent_x',\n",
    "#       'mean_latent_y', 'median_latent_y', 'std_latent_y',\n",
    "#       'mean_p_std_latent_y', 'max_latent_y', 'min_latent_y',\n",
    "#       'is_positive_review_y', 'range_latent_y', 'abs_mean_latent',\n",
    "#       'abs_median_latent', 'abs_max_latent','abs_min_latent']\n",
    "        \n",
    "# ignore = ['is_booking','date_time','srch_ci','srch_co','orig_destination_distance']\n",
    "# X = expedia.drop(ignore, axis = 1) # features\n",
    "# feature_cols = X.columns # get colnames for use later\n",
    "# np.array(expedia) \n",
    "# target = expedia.is_booking # y "
   ]
  },
  {
   "cell_type": "code",
   "execution_count": 407,
   "metadata": {
    "collapsed": false
   },
   "outputs": [],
   "source": [
    "# add a null model for comparison of baseline \n",
    "# 1 - expedia.is_booking.mean()\n"
   ]
  },
  {
   "cell_type": "code",
   "execution_count": null,
   "metadata": {
    "collapsed": false
   },
   "outputs": [],
   "source": []
  },
  {
   "cell_type": "code",
   "execution_count": 408,
   "metadata": {
    "collapsed": false
   },
   "outputs": [],
   "source": [
    "# train a classification model with existing columns\n",
    "# trying KNN and log reg to start. \n",
    "# Note: do not need to test_train_split because Kaggle provides a separate traing set. \n",
    "\n",
    "# knn\n",
    "# k = 3\n",
    "# knn = KNeighborsClassifier(n_neighbors=k)\n",
    "# knn.fit(X, target)\n",
    "# knn.score(X, target)\n",
    "\n",
    "\n",
    "# k_range = range(2, 30, 1)\n",
    "# param_grid = dict(n_neighbors=k_range)\n",
    "# grid = GridSearchCV(knn, param_grid, cv=5, scoring='accuracy')\n",
    "# grid.fit(X_train, y_train)\n",
    "# grid.grid_scores_\n",
    "# grid_mean_scores = [result[1] for result in grid.grid_scores_] # get scores from grid.grid_scores_\n",
    "# visualize results\n",
    "# plt.figure()\n",
    "# plt.plot(k_range, grid_mean_scores)\n",
    "\n",
    "# retraining with added column\n",
    "# knn\n",
    "\n",
    "# k = 3\n",
    "# knn = KNeighborsClassifier(n_neighbors=k)\n",
    "# knn.fit(X, target)\n",
    "# knn.score(X, target)\n",
    "# preds_knn = knn.predict(X)\n",
    "# print 'Accuracy for KNN model'\n",
    "# print accuracy_score(target, preds_knn)\n",
    "# print 'KNN Confusion Matrix'\n",
    "# print metrics.confusion_matrix(target, preds_knn)\n",
    "# target_names = ['Did not Book 0','Booked 1']\n",
    "# print(classification_report(target, preds_knn, target_names=target_names))\n",
    "\n",
    "# test set \n",
    "# preds_knn = knn.predict(X_test)\n",
    "# print 'Accuracy for KNN model'\n",
    "# print accuracy_score(y_test, preds_knn)\n",
    "# print 'KNN Confusion Matrix'\n",
    "# print metrics.confusion_matrix(y_test, preds_knn)\n",
    "# print(classification_report(y_test, preds_knn, target_names=target_names))\n"
   ]
  },
  {
   "cell_type": "code",
   "execution_count": 409,
   "metadata": {
    "collapsed": false
   },
   "outputs": [],
   "source": [
    "# LogReg\n",
    "# logreg = LogisticRegression(C=1e9)\n",
    "# logreg.fit(X, target)\n",
    "# assorted_pred_class = logreg.predict(X)\n",
    "# logregm = zip(feature_cols,logreg.coef_[0])\n",
    "# preds_logreg = logreg.predict(X)\n",
    "# print 'Accuracy for Logistic Regression model'\n",
    "# print accuracy_score(target, preds_logreg)\n",
    "# print 'Logistic Regression Confusion Matrix'\n",
    "# print metrics.confusion_matrix(target, preds_logreg)\n",
    "# print(classification_report(target, preds_logreg, target_names=target_names))"
   ]
  },
  {
   "cell_type": "code",
   "execution_count": null,
   "metadata": {
    "collapsed": false
   },
   "outputs": [],
   "source": []
  },
  {
   "cell_type": "markdown",
   "metadata": {},
   "source": [
    "Predicting which cluster the user will book.  \n",
    "Assuming We know they are booking at the moment. "
   ]
  },
  {
   "cell_type": "code",
   "execution_count": 410,
   "metadata": {
    "collapsed": false
   },
   "outputs": [
    {
     "name": "stdout",
     "output_type": "stream",
     "text": [
      "(393, 48)\n"
     ]
    }
   ],
   "source": [
    "# For predicting which hotel cluster the person will book. \n",
    "\n",
    "# X = ['date_time', u'site_name', u'posa_continent', u'user_location_country',\n",
    "#       'user_location_region', 'user_location_city',\n",
    "#        'orig_destination_distance', 'user_id', 'is_mobile', u'is_package',\n",
    "#        'channel', 'srch_ci', 'srch_co', 'srch_adults_cnt',\n",
    "#        'srch_children_cnt', 'srch_rm_cnt', 'srch_destination_id',\n",
    "#        'srch_destination_type_id', 'is_booking', u'cnt', u'hotel_continent',\n",
    "#        'hotel_country', 'hotel_market', 'hotel_cluster',\n",
    "#        'search_time_epoch', 'tos', 'year', 'month', 'day', 'dow_search',\n",
    "#       'dow_ci', 'dow_co', 'length_of_stay', 'is_business_trip',\n",
    "#       'is_family', 'booking_clust', 'mean_latent_x', 'median_latent_x',\n",
    "#       'std_latent_x', 'mean_p_std_latent_x', 'max_latent_x',\n",
    "#       'min_latent_x', 'is_positive_review_x', 'range_latent_x',\n",
    "#       'mean_latent_y', 'median_latent_y', 'std_latent_y',\n",
    "#       'mean_p_std_latent_y', 'max_latent_y', 'min_latent_y',\n",
    "#       'is_positive_review_y', 'range_latent_y']\n",
    "\n",
    "features = ['site_name', 'posa_continent', 'user_location_country',\\\n",
    "            'user_location_region', 'user_location_city',\\\n",
    "            'user_id', 'is_mobile', 'is_package',\\\n",
    "            'channel', 'srch_adults_cnt',\\\n",
    "            'srch_children_cnt', 'srch_rm_cnt', 'srch_destination_id',\\\n",
    "            'srch_destination_type_id', 'cnt', 'hotel_continent',\\\n",
    "            'hotel_country', 'hotel_market', 'hotel_cluster',\\\n",
    "            'search_time_epoch', 'tos', 'year', 'month', 'day', 'dow_search',\\\n",
    "            'dow_ci', 'dow_co', 'length_of_stay', 'is_business_trip',\\\n",
    "            'is_family', 'mean_latent', 'median_latent',\\\n",
    "            'std_latent', 'mean_p_std_latent', 'max_latent',\\\n",
    "            'min_latent', 'is_positive_review', 'range_latent',\\\n",
    "            'abs_mean_latent','abs_median_latent', 'abs_max_latent','abs_min_latent']\n",
    "\n",
    "# Select df only when the user is booking the hotel. \n",
    "# only look at when a person is booking. \n",
    "df_book = expedia.loc[expedia.is_booking == 1]\n",
    "print df_book.shape\n",
    "# df_book.corr()\n",
    "\n",
    "ignore = ['hotel_cluster', 'date_time', 'srch_ci', 'srch_co',\\\n",
    "          'booking_clust', 'orig_destination_distance']\n",
    "X = df_book.drop(ignore, axis = 1) # features\n",
    "target = df_book.hotel_cluster"
   ]
  },
  {
   "cell_type": "code",
   "execution_count": 411,
   "metadata": {
    "collapsed": false
   },
   "outputs": [
    {
     "name": "stdout",
     "output_type": "stream",
     "text": [
      "Hypthesis Value:  91\n",
      "Null Hypothesis RMSE:  50.0759982223\n"
     ]
    },
    {
     "name": "stderr",
     "output_type": "stream",
     "text": [
      "/Users/mcullen/anaconda/lib/python2.7/site-packages/ipykernel/__main__.py:10: SettingWithCopyWarning: \n",
      "A value is trying to be set on a copy of a slice from a DataFrame.\n",
      "Try using .loc[row_indexer,col_indexer] = value instead\n",
      "\n",
      "See the caveats in the documentation: http://pandas.pydata.org/pandas-docs/stable/indexing.html#indexing-view-versus-copy\n"
     ]
    }
   ],
   "source": [
    "# Null model\n",
    "# Compare your best RMSE on testing set with the RMSE for the \"null model\", which is the model that ignores\n",
    "#   all features and simply predicts the mean rating in the training set for all observations in the testing set.\n",
    "\n",
    "# Cross-Validation by\n",
    "cvn = 10\n",
    "\n",
    "predv = (df_book.hotel_cluster.mode()[0])\n",
    "null_pred = np.ones(len(df_book.hotel_cluster)) * predv\n",
    "df_book['prediction'] = null_pred\n",
    "# y_train['prediction'] = np.ones(len(y_train.hotel_cluster)) * predv\n",
    "# print df_book.isnull().sum()\n",
    "\n",
    "# calculate RMSE for those predictions\n",
    "rmse_null = np.sqrt(metrics.mean_squared_error(df_book.hotel_cluster, df_book.prediction))\n",
    "\n",
    "# rmse_null_test = np.sqrt(metrics.mean_squared_error(y_test.hotel_cluster, y_train.prediction))\n",
    "print 'Hypthesis Value: ', predv \n",
    "print 'Null Hypothesis RMSE: ', rmse_null\n"
   ]
  },
  {
   "cell_type": "code",
   "execution_count": 412,
   "metadata": {
    "collapsed": false
   },
   "outputs": [
    {
     "name": "stdout",
     "output_type": "stream",
     "text": [
      "best grid score 0.0432569974555\n",
      "Using K =  3\n",
      "Accuracy for KNN model\n",
      "0.384223918575\n",
      "KNN RMSE 36.3383520123\n",
      "KNN RMSE CV 43.8160964675\n"
     ]
    },
    {
     "data": {
      "image/png": "[encoded data removed]",
      "text/plain": [
       "<matplotlib.figure.Figure at 0x11984c210>"
      ]
     },
     "metadata": {},
     "output_type": "display_data"
    }
   ],
   "source": [
    "# find best K to use Grid Search 2:50 by 1\n",
    "k = 3\n",
    "knn = KNeighborsClassifier(n_neighbors=k)\n",
    "\n",
    "k_range = range(2, 50, 1)\n",
    "param_grid = dict(n_neighbors=k_range)\n",
    "grid = GridSearchCV(knn, param_grid, cv=5, scoring='accuracy')\n",
    "grid.fit(X, target)\n",
    "grid.grid_scores_\n",
    "grid_mean_scores = [result[1] for result in grid.grid_scores_] # get scores from grid.grid_scores_\n",
    "# visualize results\n",
    "plt.figure()\n",
    "plt.plot(k_range, grid_mean_scores)\n",
    "\n",
    "print 'best grid score', grid.best_score_ \n",
    "best_k = grid.best_params_['n_neighbors']\n",
    "\n",
    "print 'Using K = ', best_k\n",
    "# knn = KNeighborsClassifier(n_neighbors=best_k)\n",
    "knn.fit(X, target)\n",
    "knn.score(X, target)\n",
    "preds_knn = knn.predict(X)\n",
    "knn_model = grid.best_estimator_ \n",
    "\n",
    "print 'Accuracy for KNN model'\n",
    "print accuracy_score(target, preds_knn)\n",
    "# print 'KNN Confusion Matrix'\n",
    "# print metrics.confusion_matrix(target, preds_knn)\n",
    "rmse_knn = np.sqrt(metrics.mean_squared_error(target, preds_knn)) \n",
    "print 'KNN RMSE', rmse_knn\n",
    "\n",
    "scores = cross_val_score(knn, X, target, cv=cvn, scoring='mean_squared_error')\n",
    "rmse_knn_cv = np.mean(np.sqrt(-scores))\n",
    "print 'KNN RMSE CV', rmse_knn_cv"
   ]
  },
  {
   "cell_type": "code",
   "execution_count": 413,
   "metadata": {
    "collapsed": false
   },
   "outputs": [
    {
     "name": "stdout",
     "output_type": "stream",
     "text": [
      "Accuracy for Logistic Regression model\n",
      "0.0483460559796\n",
      "Logistic Regression Confusion Matrix\n",
      "[[0 0 0 ..., 1 0 0]\n",
      " [0 0 0 ..., 1 0 0]\n",
      " [0 0 0 ..., 0 0 0]\n",
      " ..., \n",
      " [0 0 0 ..., 5 0 0]\n",
      " [0 0 0 ..., 0 0 0]\n",
      " [0 0 0 ..., 3 0 0]]\n",
      "Log Reg RMSE 48.4635431301\n",
      "Log Reg RMSE CV 48.5745323069\n"
     ]
    }
   ],
   "source": [
    "logreg = LogisticRegression(C=1e9)\n",
    "logreg.fit(X, target)\n",
    "assorted_pred_class = logreg.predict(X)\n",
    "assorted_pred_prob = logreg.predict_proba(X)[:, 1]\n",
    "intercept = logreg.intercept_\n",
    "logregm = zip(X,logreg.coef_[0]) # examine coeff\n",
    "preds_logreg = logreg.predict(X)\n",
    "\n",
    "logodds = logreg.intercept_\n",
    "odds = np.exp(logodds)\n",
    "prob = odds/(1 + odds)\n",
    "prob\n",
    "\n",
    "print 'Accuracy for Logistic Regression model'\n",
    "print accuracy_score(target, preds_logreg)\n",
    "print 'Logistic Regression Confusion Matrix'\n",
    "print metrics.confusion_matrix(target, preds_logreg)\n",
    "# print(classification_report(target, preds_logreg))\n",
    "rmse_logreg = np.sqrt(metrics.mean_squared_error(target, preds_logreg)) \n",
    "print 'Log Reg RMSE', rmse_logreg\n",
    "\n",
    "scores = cross_val_score(logreg, X, target, cv=cvn, scoring='mean_squared_error')\n",
    "rmse_logreg_cv = np.mean(np.sqrt(-scores))\n",
    "print 'Log Reg RMSE CV', rmse_logreg_cv\n"
   ]
  },
  {
   "cell_type": "code",
   "execution_count": 416,
   "metadata": {
    "collapsed": false
   },
   "outputs": [
    {
     "data": {
      "text/plain": [
       "<bound method MultinomialNB.get_params of MultinomialNB(alpha=1.0, class_prior=None, fit_prior=True)>"
      ]
     },
     "execution_count": 416,
     "metadata": {},
     "output_type": "execute_result"
    }
   ],
   "source": [
    "# sort DataFrame by al\n",
    "# df_book.sort(df_book., inplace=True)\n",
    "# plt.scatter(target, assorted_pred_class, color = 'red')\n",
    "# plt.plot(target, assorted_pred_prob, color='red')\n"
   ]
  },
  {
   "cell_type": "code",
   "execution_count": 434,
   "metadata": {
    "collapsed": false
   },
   "outputs": [
    {
     "name": "stdout",
     "output_type": "stream",
     "text": [
      "0.0661577608142\n",
      "[[1 0 0 ..., 0 0 0]\n",
      " [0 0 0 ..., 0 0 0]\n",
      " [0 0 0 ..., 0 0 0]\n",
      " ..., \n",
      " [0 0 0 ..., 0 0 0]\n",
      " [0 0 0 ..., 0 0 0]\n",
      " [0 0 3 ..., 0 0 0]]\n",
      "RMSE for NB 39.6139127898\n",
      "CV RMSE for NB 41.7095118017\n"
     ]
    }
   ],
   "source": [
    "# Using default settings for NB model\n",
    "# ignoring negative channels for nb. \n",
    "ignore_nb = ['hotel_cluster', 'date_time', 'srch_ci', 'srch_co',\\\n",
    "             'booking_clust', 'orig_destination_distance',\\\n",
    "             'mean_latent','median_latent', 'max_latent','min_latent']\n",
    "X_nb = df_book.drop(ignore_nb, axis = 1) # features\n",
    "\n",
    "nb = MultinomialNB()\n",
    "nb.fit(X_nb, target)\n",
    "\n",
    "# three paramaters you can set: \n",
    "# alpha=1.0, \n",
    "# class_prior=None, \n",
    "# fit_prior=True - estimates the likelihood function - counting the probability for each. \n",
    "\n",
    "preds_nb = nb.predict(X_nb)\n",
    "print metrics.accuracy_score(target, preds_nb)\n",
    "print metrics.confusion_matrix(target, preds_nb)\n",
    "\n",
    "rmse_nb = np.sqrt(metrics.mean_squared_error(target, preds_nb)) \n",
    "print 'RMSE for NB', rmse_nb\n",
    "\n",
    "scores = cross_val_score(nb, X_nb, target, cv=cvn, scoring='mean_squared_error')\n",
    "rmse_nb_cv = np.mean(np.sqrt(-scores))\n",
    "print 'CV RMSE for NB', rmse_nb_cv\n",
    "\n",
    "# probs_nb = nb.predict_proba(X)[:, 1]\n",
    "# probs_nb\n",
    "# print metrics.roc_auc_score(target, probs_nb)"
   ]
  },
  {
   "cell_type": "code",
   "execution_count": 435,
   "metadata": {
    "collapsed": false
   },
   "outputs": [
    {
     "name": "stdout",
     "output_type": "stream",
     "text": [
      "(41.709511801682218, 1)\n",
      "Best Max Features to use 1\n"
     ]
    },
    {
     "data": {
      "image/png": "[encoded data removed]",
      "text/plain": [
       "<matplotlib.figure.Figure at 0x1375a0050>"
      ]
     },
     "metadata": {},
     "output_type": "display_data"
    }
   ],
   "source": [
    "# Trying differnt values for Alpha \n",
    "# three paramaters you can set: \n",
    "# alpha=1.0, \n",
    "# class_prior=None, \n",
    "# fit_prior=True - estimates the likelihood function - counting the probability for each. \n",
    "MSE_scores = []\n",
    "RMSE_scores = []\n",
    "alpha_range = range(1,30,2)\n",
    "for a in alpha_range:\n",
    "    nb = MultinomialNB(alpha = a)\n",
    "    nb.fit(X_nb, target)\n",
    "    MSE_scores = cross_val_score(nb, X_nb, target, cv=cvn, scoring='mean_squared_error')\n",
    "    RMSE_scores.append(np.mean(np.sqrt(-MSE_scores)))\n",
    "\n",
    "plt.plot(alpha_range, RMSE_scores)\n",
    "plt.xlabel('Alpha')\n",
    "plt.ylabel('RMSE (lower is better)')\n",
    "\n",
    "feature_scores = sorted(zip(RMSE_scores, alpha_range))[0]\n",
    "best_alpha = feature_scores[1]\n",
    "\n",
    "print feature_scores\n",
    "print 'Best Alpha to use', best_alpha"
   ]
  },
  {
   "cell_type": "code",
   "execution_count": 437,
   "metadata": {
    "collapsed": false
   },
   "outputs": [
    {
     "name": "stdout",
     "output_type": "stream",
     "text": [
      "(41.709511801682218, 1)\n",
      "Best Max Features to use 1\n"
     ]
    },
    {
     "data": {
      "image/png": "[encoded data removed]",
      "text/plain": [
       "<matplotlib.figure.Figure at 0x138e0d2d0>"
      ]
     },
     "metadata": {},
     "output_type": "display_data"
    }
   ],
   "source": [
    "# Trying differnt values for Alpha, fit_prior = false\n",
    "# three paramaters you can set: \n",
    "# alpha=1.0, \n",
    "# class_prior=None, \n",
    "# fit_prior=True - estimates the likelihood function - counting the probability for each. \n",
    "MSE_scores = []\n",
    "RMSE_scores = []\n",
    "alpha_range = range(1,30,2)\n",
    "for a in alpha_range:\n",
    "    nb = MultinomialNB(alpha = a, fit_prior = False)\n",
    "    nb.fit(X_nb, target)\n",
    "    MSE_scores = cross_val_score(nb, X_nb, target, cv=cvn, scoring='mean_squared_error')\n",
    "    RMSE_scores.append(np.mean(np.sqrt(-MSE_scores)))\n",
    "\n",
    "plt.plot(alpha_range, RMSE_scores)\n",
    "plt.xlabel('Alpha')\n",
    "plt.ylabel('RMSE (lower is better)')\n",
    "\n",
    "feature_scores = sorted(zip(RMSE_scores, alpha_range))[0]\n",
    "best_alpha = feature_scores[1]\n",
    "\n",
    "print feature_scores\n",
    "print 'Best Alpha to use', best_alpha"
   ]
  },
  {
   "cell_type": "code",
   "execution_count": 387,
   "metadata": {
    "collapsed": false
   },
   "outputs": [
    {
     "name": "stdout",
     "output_type": "stream",
     "text": [
      "Mean Accuracy on Test Data and Labels 0.106870229008\n",
      "RMSE DTREE 33.2571903875\n",
      "CV RMSE DTREE 39.5965753619\n"
     ]
    }
   ],
   "source": [
    "# Decision Tree\n",
    "treeclf = DecisionTreeClassifier(max_depth=3, random_state=1)\n",
    "treeclf.fit(X, target)\n",
    "preds_dtree = treeclf.predict(X)\n",
    "predic_proba = treeclf.predict_proba(X)\n",
    "sc = treeclf.score(X,target)\n",
    "\n",
    "# export_graphviz(treeclf, out_file='tree_titanic.dot', feature_names=features)\n",
    "# At the command line, run this to convert to PNG:\n",
    "#   dot -Tpng tree_titanic.dot -o tree_titanic.png\n",
    "\n",
    "# compute the feature importances\n",
    "# importaces are on a scale on 0 to 1\n",
    "pd.DataFrame({'feature':features, 'importance':treeclf.feature_importances_})\n",
    "\n",
    "print 'Mean Accuracy on Test Data and Labels', sc\n",
    "rmse_dtree = np.sqrt(metrics.mean_squared_error(target, preds_dtree))\n",
    "print 'RMSE DTREE', rmse_dtree\n",
    "\n",
    "scores = cross_val_score(treeclf, X, target, cv=cvn, scoring='mean_squared_error')\n",
    "rmse_dtree_cv = np.mean(np.sqrt(-scores))\n",
    "print 'CV RMSE DTREE', rmse_dtree_cv\n",
    "\n",
    "# test data \n",
    "# X_test = test[features]\n",
    "# y_test = test.price\n",
    "# y_pred = treereg.predict(X_test)\n",
    "# y_pred\n",
    "\n",
    "# np.sqrt(metrics.mean_squared_error(y_test, y_pred))"
   ]
  },
  {
   "cell_type": "markdown",
   "metadata": {},
   "source": [
    "DecisionTreeClassifier(criterion='gini', splitter='best', max_depth=None, min_samples_split=2,\\\n",
    "                       min_samples_leaf=1, min_weight_fraction_leaf=0.0, max_features=None, \\\n",
    "                       random_state=None, max_leaf_nodes=None, class_weight=None, presort=False)"
   ]
  },
  {
   "cell_type": "code",
   "execution_count": 448,
   "metadata": {
    "collapsed": false
   },
   "outputs": [
    {
     "name": "stdout",
     "output_type": "stream",
     "text": [
      "Best Max Depth Score (37.943742554891251, 2)\n",
      "Best Max Depth to use 2\n",
      "Best Min Samples Score (32.139981412774773, 86)\n",
      "Best Min Samples to use 86\n",
      "Mean Accuracy on Test Data and Labels 0.0839694656489\n",
      "RMSE DTREE Best Set 37.8190414767\n",
      "CV RMSE DTREE Best Set 32.1399814128\n"
     ]
    },
    {
     "data": {
      "image/png": "[encoded data removed]",
      "text/plain": [
       "<matplotlib.figure.Figure at 0x1192a3250>"
      ]
     },
     "metadata": {},
     "output_type": "display_data"
    }
   ],
   "source": [
    "# Search For better settings for Decision Tree\n",
    "# searching for max_depth and min_samples_leaf\n",
    "\n",
    "# search max_depth\n",
    "max_depth_range = range(1,30,1)\n",
    "MSE_scores = []\n",
    "RMSE_scores= []\n",
    "for md in max_depth_range: \n",
    "    treeclf = DecisionTreeClassifier(max_depth=md, random_state=1)\n",
    "    treeclf.fit(X, target)\n",
    "    MSE_scores = cross_val_score(treeclf, X, target, cv=cvn, scoring='mean_squared_error')\n",
    "    RMSE_scores.append(np.mean(np.sqrt(-MSE_scores)))\n",
    "\n",
    "plt.plot(max_depth_range, RMSE_scores)\n",
    "plt.xlabel('Max Depth Allowed')\n",
    "plt.ylabel('RMSE (lower is better)')\n",
    "\n",
    "depth_scores = sorted(zip(RMSE_scores, max_depth_range))[0]\n",
    "best_depth = depth_scores[1]\n",
    "print 'Best Max Depth Score', depth_scores\n",
    "print 'Best Max Depth to use', best_depth\n",
    "\n",
    "\n",
    "# search min_samples_leaf\n",
    "min_samples_leaf_range = range(1,215,5)\n",
    "MSE_scores = []\n",
    "RMSE_scores= []\n",
    "for msl in min_samples_leaf_range: \n",
    "    treeclf = DecisionTreeClassifier(min_samples_leaf=msl, random_state=1)\n",
    "    treeclf.fit(X, target)\n",
    "    MSE_scores = cross_val_score(treeclf, X, target, cv=cvn, scoring='mean_squared_error')\n",
    "    RMSE_scores.append(np.mean(np.sqrt(-MSE_scores)))\n",
    "\n",
    "\n",
    "plt.plot(min_samples_leaf_range, RMSE_scores)\n",
    "plt.xlabel('Max Depth Allowed')\n",
    "plt.ylabel('RMSE (lower is better)')\n",
    "\n",
    "min_samp_scores = sorted(zip(RMSE_scores, min_samples_leaf_range))[0]\n",
    "best_min_samp = min_samp_scores[1]\n",
    "print 'Best Min Samples Score', min_samp_scores\n",
    "print 'Best Min Samples to use', best_min_samp\n",
    "\n",
    "\n",
    "# combine best settings discovered in two separate searches \n",
    "treeclf = DecisionTreeClassifier(max_depth=best_depth, min_samples_leaf = best_min_samp, random_state=1)\n",
    "treeclf.fit(X, target)\n",
    "preds_dtree = treeclf.predict(X)\n",
    "# predic_proba = treeclf.predict_proba(X)\n",
    "sc = treeclf.score(X,target)\n",
    "\n",
    "# compute the feature importances\n",
    "# importaces are on a scale on 0 to 1\n",
    "pd.DataFrame({'feature':features, 'importance':treeclf.feature_importances_})\n",
    "\n",
    "print 'Mean Accuracy on Test Data and Labels', sc\n",
    "rmse_dtree_best_set = np.sqrt(metrics.mean_squared_error(target, preds_dtree))\n",
    "print 'RMSE DTREE Best Set', rmse_dtree_best_set\n",
    "\n",
    "scores = cross_val_score(treeclf, X, target, cv=cvn, scoring='mean_squared_error')\n",
    "rmse_dtree_best_set_cv = np.mean(np.sqrt(-scores))\n",
    "print 'CV RMSE DTREE Best Set', rmse_dtree_best_set_cv\n"
   ]
  },
  {
   "cell_type": "code",
   "execution_count": null,
   "metadata": {
    "collapsed": true
   },
   "outputs": [],
   "source": [
    "# Nested Search For better settings for Decision Tree\n",
    "# searching for max_depth and min_samples_leaf\n",
    "\n",
    "# search max_depth\n",
    "max_depth_range = range(1,30,1)\n",
    "min_samples_leaf_range = range(1,215,5)\n",
    "MSE_loop1_scores = []\n",
    "MSE_loop2_scores = []\n",
    "RMSE_loop1_scores= []\n",
    "RMSE_loop2_scores= []\n",
    "\n",
    "for msl in min_samples_leaf_range: \n",
    "    for md in max_depth_range: \n",
    "        treeclf = DecisionTreeClassifier(max_depth=md, min_samples_leaf=msl, random_state=1)\n",
    "        treeclf.fit(X, target)\n",
    "        MSE_loop2_scores = cross_val_score(treeclf, X, target, cv=cvn, scoring='mean_squared_error')\n",
    "        RMSE_loop2_scores.append(np.mean(np.sqrt(-MSE_scores)))\n",
    "    RMSE_loop1_scores.append(min(RMSE_loop1_scores))\n",
    "    \n",
    "\n",
    "plt.plot(min_samples_leaf_range, RMSE_loop1_scores)\n",
    "plt.xlabel('Min Samples allowed')\n",
    "plt.ylabel('RMSE (lower is better)')\n",
    "\n",
    "# depth_scores = sorted(zip(RMSE_loop1_scores, max_depth_range))[0]\n",
    "# best_depth = depth_scores[1]\n",
    "# print 'Best Max Depth Score', depth_scores\n",
    "# print 'Best Max Depth to use', best_depth\n",
    "\n",
    "\n",
    "min_samp_scores = sorted(zip(RMSE_scores, min_samples_leaf_range))[0]\n",
    "best_min_samp = min_samp_scores[1]\n",
    "print 'Best Min Samples Score', min_samp_scores\n",
    "print 'Best Min Samples to use', best_min_samp\n",
    "\n",
    "\n",
    "# combine best settings discovered in two separate searches \n",
    "treeclf = DecisionTreeClassifier(max_depth=best_depth, min_samples_leaf = best_min_samp, random_state=1)\n",
    "treeclf.fit(X, target)\n",
    "preds_dtree = treeclf.predict(X)\n",
    "# predic_proba = treeclf.predict_proba(X)\n",
    "sc = treeclf.score(X,target)\n",
    "\n",
    "# compute the feature importances\n",
    "# importaces are on a scale on 0 to 1\n",
    "pd.DataFrame({'feature':features, 'importance':treeclf.feature_importances_})\n",
    "\n",
    "print 'Mean Accuracy on Test Data and Labels', sc\n",
    "rmse_dtree_best_set = np.sqrt(metrics.mean_squared_error(target, preds_dtree))\n",
    "print 'RMSE DTREE Best Set', rmse_dtree_best_set\n",
    "\n",
    "scores = cross_val_score(treeclf, X, target, cv=cvn, scoring='mean_squared_error')\n",
    "rmse_dtree_best_set_cv = np.mean(np.sqrt(-scores))\n",
    "print 'CV RMSE DTREE Best Set', rmse_dtree_best_set_cv\n"
   ]
  },
  {
   "cell_type": "code",
   "execution_count": 388,
   "metadata": {
    "collapsed": false
   },
   "outputs": [],
   "source": [
    "\n"
   ]
  },
  {
   "cell_type": "code",
   "execution_count": 389,
   "metadata": {
    "collapsed": false
   },
   "outputs": [
    {
     "data": {
      "text/plain": [
       "<matplotlib.text.Text at 0x118f5a910>"
      ]
     },
     "execution_count": 389,
     "metadata": {},
     "output_type": "execute_result"
    },
    {
     "data": {
      "image/png": "[encoded data removed]",
      "text/plain": [
       "<matplotlib.figure.Figure at 0x13768a090>"
      ]
     },
     "metadata": {},
     "output_type": "display_data"
    }
   ],
   "source": [
    "# Random Forest \n",
    "rfreg = RandomForestClassifier()\n",
    "\n",
    "# Tuning n_estimators\n",
    "# list of values to try for n_estimators\n",
    "estimator_range = range(10, 310, 10)\n",
    "\n",
    "# list to store the average RMSE for each value of n_estimators\n",
    "RMSE_scores = []\n",
    "\n",
    "# use 5-fold cross-validation with each value of n_estimators (WARNING: SLOW!)\n",
    "for estimator in estimator_range:\n",
    "    rfreg = RandomForestClassifier(n_estimators=estimator, random_state=1)\n",
    "    MSE_scores = cross_val_score(rfreg, X, target, cv=5, scoring='mean_squared_error')\n",
    "    RMSE_scores.append(np.mean(np.sqrt(-MSE_scores)))\n",
    "    \n",
    "plt.plot(estimator_range, RMSE_scores)\n",
    "plt.xlabel('n_estimators')\n",
    "plt.ylabel('RMSE (lower is better)')"
   ]
  },
  {
   "cell_type": "code",
   "execution_count": 390,
   "metadata": {
    "collapsed": false
   },
   "outputs": [
    {
     "name": "stdout",
     "output_type": "stream",
     "text": [
      "(38.087779398158858, 14)\n",
      "Best Max Features to use 14\n"
     ]
    },
    {
     "data": {
      "image/png": "[encoded data removed]",
      "text/plain": [
       "<matplotlib.figure.Figure at 0x11c3a2050>"
      ]
     },
     "metadata": {},
     "output_type": "display_data"
    }
   ],
   "source": [
    "best_n = 175\n",
    "# Tuning max Features\n",
    "# list of values to try for max_features\n",
    "feature_range = range(1, len(features)+1)\n",
    "\n",
    "# list to store the average RMSE for each value of max_features\n",
    "RMSE_scores = []\n",
    "\n",
    "# use 10-fold cross-validation with each value of max_features (WARNING: SLOW!)\n",
    "for feature in feature_range:\n",
    "    rfreg = RandomForestClassifier(n_estimators=best_n, max_features=feature, random_state=1)\n",
    "    MSE_scores = cross_val_score(rfreg, X, target, cv=10, scoring='mean_squared_error')\n",
    "    RMSE_scores.append(np.mean(np.sqrt(-MSE_scores)))\n",
    "    \n",
    "plt.plot(feature_range, RMSE_scores)\n",
    "plt.xlabel('max_features')\n",
    "plt.ylabel('RMSE (lower is better)')\n",
    "\n",
    "feature_scores = sorted(zip(RMSE_scores, feature_range))[0]\n",
    "best_max_feat = feature_scores[1]\n",
    "\n",
    "print feature_scores\n",
    "print 'Best Max Features to use', best_max_feat"
   ]
  },
  {
   "cell_type": "code",
   "execution_count": 391,
   "metadata": {
    "collapsed": false
   },
   "outputs": [
    {
     "name": "stdout",
     "output_type": "stream",
     "text": [
      "RMSE RF 0.0\n",
      "CV RMSE RF 38.0877793982\n"
     ]
    },
    {
     "name": "stderr",
     "output_type": "stream",
     "text": [
      "/Users/mcullen/anaconda/lib/python2.7/site-packages/ipykernel/__main__.py:7: FutureWarning: sort(columns=....) is deprecated, use sort_values(by=.....)\n"
     ]
    }
   ],
   "source": [
    "# Fitting Random Forest with best parameters\n",
    "rfclass = RandomForestClassifier(n_estimators = best_n, max_features = best_max_feat, oob_score=True, random_state=1)\n",
    "rfclass.fit(X, target)\n",
    "\n",
    "# compute feature importances\n",
    "pd.DataFrame({'feature':features, 'importance':rfclass.feature_importances_}).sort('importance')\n",
    "\n",
    "# compute the out-of-bag R-squared score\n",
    "rfclass.oob_score_\n",
    "preds_rf = rfclass.predict(X)\n",
    "rmse_rf = np.sqrt(metrics.mean_squared_error(target, preds_rf))\n",
    "print 'RMSE RF', rmse_rf\n",
    "\n",
    "scores = cross_val_score(rfclass, X, target, cv=10, scoring='mean_squared_error')\n",
    "rmse_rf_cv = np.mean(np.sqrt(-scores))\n",
    "print 'CV RMSE RF', rmse_rf_cv"
   ]
  },
  {
   "cell_type": "code",
   "execution_count": 392,
   "metadata": {
    "collapsed": false
   },
   "outputs": [],
   "source": [
    "# Reduce X to important features\n",
    "# check the shape of X\n",
    "# X.shape\n",
    "# rfclass_imp = RandomForestClassifier(n_estimators = best_n, max_features = best_max_feat, oob_score=True, random_state=1)\n",
    "# rfclass_imp.fit(X, target)\n",
    "# print rfclass.transform(X, threshold='mean').shape\n",
    "# print rfclass.transform(X, threshold='median').shape\n",
    "\n",
    "# X_important = rfclass_imp.transform(X, threshold='mean')\n",
    "# check the RMSE for a Random Forest that only includes important features\n",
    "# rfclass_imp = RandomForestClassifier(n_estimators = best_n, max_features = best_max_feat, oob_score=True, random_state=1)\n",
    "# rfclass_imp.fit(X_important, target)\n",
    "\n",
    "# preds_rf_imp = rfclass_imp.predict(X_important)\n",
    "# rmse_rf_imp = np.sqrt(metrics.mean_squared_error(target, preds_rf_imp))\n",
    "# print 'RMSE RF', rmse_rf_imp\n",
    "\n",
    "# scores = cross_val_score(rfclass_imp, X_important, target, cv=10, scoring='mean_squared_error')\n",
    "# rmse_rf_imp_cv = np.mean(np.sqrt(-scores))\n",
    "# print 'CV RMSE RF', rmse_rf_imp_cv\n"
   ]
  },
  {
   "cell_type": "code",
   "execution_count": null,
   "metadata": {
    "collapsed": false
   },
   "outputs": [],
   "source": []
  },
  {
   "cell_type": "code",
   "execution_count": 393,
   "metadata": {
    "collapsed": false
   },
   "outputs": [
    {
     "name": "stdout",
     "output_type": "stream",
     "text": [
      "RESULTS and SCORES SUMMARY\n",
      "Null Hypothesis RMSE 50.0759982223\n",
      "\n",
      "KNN RMSE 36.3383520123\n",
      "Log Reg RMSE 48.4635431301\n",
      "NB RMSE 39.6139127898\n",
      "DTREE RMSE 33.2571903875\n",
      "Random Forest RMSE 0.0\n",
      "\n",
      "CV KNN RMSE 43.8160964675\n",
      "CV Log Reg RMSE 48.5745323069\n",
      "CV NB RMSE 41.7095118017\n",
      "CV DTREE RMSE 39.5965753619\n",
      "CV Random Forest RMSE 38.0877793982\n"
     ]
    }
   ],
   "source": [
    "print 'RESULTS and SCORES SUMMARY'\n",
    "print 'Null Hypothesis RMSE', rmse_null\n",
    "print ''\n",
    "print 'KNN RMSE', rmse_knn\n",
    "print 'Log Reg RMSE', rmse_logreg\n",
    "print 'NB RMSE', rmse_nb\n",
    "print 'DTREE RMSE', rmse_dtree\n",
    "print 'DTREE RMSE Best set', rmse_dtree_best_set\n",
    "print 'Random Forest RMSE', rmse_rf\n",
    "# print 'Random Forest Important Features RMSE', rmse_rf_imp\n",
    "\n",
    "print ''\n",
    "print 'CV KNN RMSE', rmse_knn_cv\n",
    "print 'CV Log Reg RMSE', rmse_logreg_cv\n",
    "print 'CV NB RMSE', rmse_nb_cv\n",
    "print 'CV DTREE RMSE', rmse_dtree_cv\n",
    "print 'DTREE RMSE Best set', rmse_dtree_best_set_cv\n",
    "print 'CV Random Forest RMSE', rmse_rf_cv\n",
    "# print 'CV Random Forest Important Features RMSE', rmse_rf_imp_cv"
   ]
  },
  {
   "cell_type": "code",
   "execution_count": 261,
   "metadata": {
    "collapsed": false
   },
   "outputs": [],
   "source": [
    "# Neural Network \n",
    "# TODO\n"
   ]
  },
  {
   "cell_type": "code",
   "execution_count": null,
   "metadata": {
    "collapsed": true
   },
   "outputs": [],
   "source": [
    "# Recomendation Engine?  \n"
   ]
  },
  {
   "cell_type": "code",
   "execution_count": 18,
   "metadata": {
    "collapsed": true
   },
   "outputs": [],
   "source": [
    "# Final Test Full model With completely unseen test data. \n",
    "# combination of best first classification + predicting hotel cluster. \n",
    "# df_test = pd.read_csv('../Final_Project/data/test.csv'); "
   ]
  }
 ],
 "metadata": {
  "kernelspec": {
   "display_name": "Python 2",
   "language": "python",
   "name": "python2"
  },
  "language_info": {
   "codemirror_mode": {
    "name": "ipython",
    "version": 2
   },
   "file_extension": ".py",
   "mimetype": "text/x-python",
   "name": "python",
   "nbconvert_exporter": "python",
   "pygments_lexer": "ipython2",
   "version": "2.7.11"
  }
 },
 "nbformat": 4,
 "nbformat_minor": 0
}
