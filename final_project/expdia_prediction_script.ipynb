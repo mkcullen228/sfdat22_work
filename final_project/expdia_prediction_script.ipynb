{
 "cells": [
  {
   "cell_type": "code",
   "execution_count": 120,
   "metadata": {
    "collapsed": true
   },
   "outputs": [],
   "source": [
    "import pandas as pd\n",
    "import numpy as np\n",
    "import matplotlib.pyplot as plt\n",
    "%matplotlib inline\n",
    "from sklearn.linear_model import LogisticRegression\n",
    "# from sklearn.cross_validation import train_test_split\n",
    "from sklearn.neighbors import KNeighborsClassifier\n",
    "from sklearn.metrics import confusion_matrix\n",
    "from sklearn.metrics import classification_report\n",
    "from sklearn.metrics import accuracy_score\n",
    "from sklearn import metrics"
   ]
  },
  {
   "cell_type": "code",
   "execution_count": 132,
   "metadata": {
    "collapsed": false
   },
   "outputs": [],
   "source": [
    "# From Kaggle Competition. Expedia Hotel Recommendations\n",
    "# https://www.kaggle.com/c/expedia-hotel-recommendations\n",
    "\n",
    "# load the data from expedia\n",
    "# destinations = pd.read_csv('../Final_Project/data/destinations.csv') \n",
    "# Read data into pandas and explore\n",
    "# expedia = pd.read_csv('../Final_Project/data/train.csv') # takes a LONG time to load the full dataset! \n",
    "expedia = pd.read_csv('../Final_Project/data/train.csv',nrows=10000) # test code with smaller set first for faster code check. \n",
    "# other dataset provided: testing dataset\n",
    "# df_test = pd.read_csv('../Final_Project/data/test.csv'); # will read this is later when/if needed. "
   ]
  },
  {
   "cell_type": "code",
   "execution_count": 133,
   "metadata": {
    "collapsed": false
   },
   "outputs": [
    {
     "name": "stdout",
     "output_type": "stream",
     "text": [
      "Dataframe Shape\n",
      "(10000, 24)\n"
     ]
    },
    {
     "data": {
      "text/html": [
       "<div>\n",
       "<table border=\"1\" class=\"dataframe\">\n",
       "  <thead>\n",
       "    <tr style=\"text-align: right;\">\n",
       "      <th></th>\n",
       "      <th>date_time</th>\n",
       "      <th>site_name</th>\n",
       "      <th>posa_continent</th>\n",
       "      <th>user_location_country</th>\n",
       "      <th>user_location_region</th>\n",
       "      <th>user_location_city</th>\n",
       "      <th>orig_destination_distance</th>\n",
       "      <th>user_id</th>\n",
       "      <th>is_mobile</th>\n",
       "      <th>is_package</th>\n",
       "      <th>...</th>\n",
       "      <th>srch_children_cnt</th>\n",
       "      <th>srch_rm_cnt</th>\n",
       "      <th>srch_destination_id</th>\n",
       "      <th>srch_destination_type_id</th>\n",
       "      <th>is_booking</th>\n",
       "      <th>cnt</th>\n",
       "      <th>hotel_continent</th>\n",
       "      <th>hotel_country</th>\n",
       "      <th>hotel_market</th>\n",
       "      <th>hotel_cluster</th>\n",
       "    </tr>\n",
       "  </thead>\n",
       "  <tbody>\n",
       "    <tr>\n",
       "      <th>0</th>\n",
       "      <td>2014-08-11 07:46:59</td>\n",
       "      <td>2</td>\n",
       "      <td>3</td>\n",
       "      <td>66</td>\n",
       "      <td>348</td>\n",
       "      <td>48862</td>\n",
       "      <td>2234.2641</td>\n",
       "      <td>12</td>\n",
       "      <td>0</td>\n",
       "      <td>1</td>\n",
       "      <td>...</td>\n",
       "      <td>0</td>\n",
       "      <td>1</td>\n",
       "      <td>8250</td>\n",
       "      <td>1</td>\n",
       "      <td>0</td>\n",
       "      <td>3</td>\n",
       "      <td>2</td>\n",
       "      <td>50</td>\n",
       "      <td>628</td>\n",
       "      <td>1</td>\n",
       "    </tr>\n",
       "    <tr>\n",
       "      <th>1</th>\n",
       "      <td>2014-08-11 08:22:12</td>\n",
       "      <td>2</td>\n",
       "      <td>3</td>\n",
       "      <td>66</td>\n",
       "      <td>348</td>\n",
       "      <td>48862</td>\n",
       "      <td>2234.2641</td>\n",
       "      <td>12</td>\n",
       "      <td>0</td>\n",
       "      <td>1</td>\n",
       "      <td>...</td>\n",
       "      <td>0</td>\n",
       "      <td>1</td>\n",
       "      <td>8250</td>\n",
       "      <td>1</td>\n",
       "      <td>1</td>\n",
       "      <td>1</td>\n",
       "      <td>2</td>\n",
       "      <td>50</td>\n",
       "      <td>628</td>\n",
       "      <td>1</td>\n",
       "    </tr>\n",
       "  </tbody>\n",
       "</table>\n",
       "<p>2 rows × 24 columns</p>\n",
       "</div>"
      ],
      "text/plain": [
       "             date_time  site_name  posa_continent  user_location_country  \\\n",
       "0  2014-08-11 07:46:59          2               3                     66   \n",
       "1  2014-08-11 08:22:12          2               3                     66   \n",
       "\n",
       "   user_location_region  user_location_city  orig_destination_distance  \\\n",
       "0                   348               48862                  2234.2641   \n",
       "1                   348               48862                  2234.2641   \n",
       "\n",
       "   user_id  is_mobile  is_package      ...        srch_children_cnt  \\\n",
       "0       12          0           1      ...                        0   \n",
       "1       12          0           1      ...                        0   \n",
       "\n",
       "  srch_rm_cnt srch_destination_id  srch_destination_type_id  is_booking  cnt  \\\n",
       "0           1                8250                         1           0    3   \n",
       "1           1                8250                         1           1    1   \n",
       "\n",
       "   hotel_continent  hotel_country  hotel_market  hotel_cluster  \n",
       "0                2             50           628              1  \n",
       "1                2             50           628              1  \n",
       "\n",
       "[2 rows x 24 columns]"
      ]
     },
     "execution_count": 133,
     "metadata": {},
     "output_type": "execute_result"
    }
   ],
   "source": [
    "print 'Dataframe Shape'\n",
    "print expedia.shape\n",
    "expedia.head(2)\n",
    "# destinations.shape\n",
    "# destinations.head(2)"
   ]
  },
  {
   "cell_type": "markdown",
   "metadata": {},
   "source": [
    "Explaination of Columns from https://www.kaggle.com/c/expedia-hotel-recommendations/data \n",
    "\n",
    "date_time - Timestamp - string\n",
    "site_name - ID of the Expedia point of sale - int\n",
    "posa_continent - ID of continent associated with site_name\t- int\n",
    "user_location_country - The ID of the country the customer is located - int\n",
    "user_location_region - The ID of the region the customer is located - int\n",
    "user_location_city - The ID of the city the customer is located - int\n",
    "orig_destination_distance - Physical distance between a hotel and a customer at the time of search. A null means the distance could not be calculated- double\n",
    "user_id - ID of user - int\n",
    "is_mobile - 1 when a user connected from a mobile device, 0 otherwise - tinyint\n",
    "is_package - 1 if the click/booking was generated as a part of a package, 0 otherwise - int\n",
    "channel  - Checkin date - string\n",
    "srch_co - Checkout date - string\n",
    "srch_adults_cnt - The number of adults specified in the hotel room - int\n",
    "srch_children_cnt - The number of (extra occupancy) children specified in the hotel room - int\n",
    "srch_rm_cnt - The number of hotel rooms specified in the search - int\n",
    "srch_destination_id - ID of the destination where the hotel search was performed - int\n",
    "srch_destination_type_id - Type of destination - int\n",
    "hotel_continent - Hotel continent - int\n",
    "hotel_country - Hotel country - int\n",
    "hotel_market - Hotel market - int\n",
    "is_booking - 1 if a booking, 0 if a click - tinyint\n",
    "cnt - Numer of similar events in the context of the same user session  -bigint\n",
    "hotel_cluster - ID of a hotel cluster - int"
   ]
  },
  {
   "cell_type": "code",
   "execution_count": 134,
   "metadata": {
    "collapsed": false
   },
   "outputs": [
    {
     "name": "stdout",
     "output_type": "stream",
     "text": [
      "Dataset Stats\n",
      "Size of Dataframe (10000, 24)\n",
      "Unique Users:  339\n",
      "Mean entries per user:  29.4985250737\n",
      "Number of entries where users book 777 total 10000\n",
      "Unique Hotel Cluter IDs:  100\n"
     ]
    }
   ],
   "source": [
    "# Print some info about dataset\n",
    "\n",
    "# user IDs. \n",
    "print 'Dataset Stats'\n",
    "print 'Size of Dataframe', expedia.shape\n",
    "\n",
    "# unique User counts. \n",
    "user = expedia.groupby('user_id').user_id.count()\n",
    "muser = user.mean()\n",
    "print 'Unique Users: ', len(user)\n",
    "print 'Mean entries per user: ', muser\n",
    "\n",
    "# Number of bookings vs. other entries. \n",
    "lbook = len(expedia.loc[(expedia['is_booking']  == 1)])\n",
    "num_book = expedia.groupby('is_booking').is_booking.count()\n",
    "print 'Number of entries where users book', lbook, 'total', len(expedia)\n",
    "\n",
    "# unique hotel cluster counts. \n",
    "hc = expedia.groupby('hotel_cluster').hotel_cluster.count()\n",
    "print 'Unique Hotel Cluter IDs: ', len(hc)"
   ]
  },
  {
   "cell_type": "code",
   "execution_count": 126,
   "metadata": {
    "collapsed": false
   },
   "outputs": [],
   "source": [
    "# clean up some columns to use\n",
    "# date time, srch_ci, srch_co, orig_destination_distance,\n",
    "\n",
    "# type(expedia)\n",
    "# df2['timestamp'] = pd.Timestamp('20120101')"
   ]
  },
  {
   "cell_type": "code",
   "execution_count": 127,
   "metadata": {
    "collapsed": false
   },
   "outputs": [
    {
     "data": {
      "text/plain": [
       "date_time                       0\n",
       "site_name                       0\n",
       "posa_continent                  0\n",
       "user_location_country           0\n",
       "user_location_region            0\n",
       "user_location_city              0\n",
       "orig_destination_distance    3729\n",
       "user_id                         0\n",
       "is_mobile                       0\n",
       "is_package                      0\n",
       "channel                         0\n",
       "srch_ci                         7\n",
       "srch_co                         7\n",
       "srch_adults_cnt                 0\n",
       "srch_children_cnt               0\n",
       "srch_rm_cnt                     0\n",
       "srch_destination_id             0\n",
       "srch_destination_type_id        0\n",
       "is_booking                      0\n",
       "cnt                             0\n",
       "hotel_continent                 0\n",
       "hotel_country                   0\n",
       "hotel_market                    0\n",
       "hotel_cluster                   0\n",
       "dtype: int64"
      ]
     },
     "execution_count": 127,
     "metadata": {},
     "output_type": "execute_result"
    }
   ],
   "source": [
    "# expedia.isnull().sum()\n",
    "# orig_destination_distance,  srch_ci, srch_co,  contains null values\n",
    "# expedia.loc[pd.isnull(expedia['orig_destination_distance'])] = np.nan\n",
    "# expedia.orig_destination_distance\n",
    "expedia.isnull().sum()"
   ]
  },
  {
   "cell_type": "code",
   "execution_count": 128,
   "metadata": {
    "collapsed": false
   },
   "outputs": [],
   "source": [
    "# Predict if a person is booking or not. \n",
    "# We do not care what hotel cluster a person is looking at unless they book. \n",
    "\n",
    "# print expedia.hotel_cluster.max()\n",
    "# print expedia.hotel_cluster.min()\n",
    "# expedia.corr()\n",
    "\n",
    "\n",
    "# labels = expedia.columns # features to train with \n",
    "# full list\n",
    "# X = [ \n",
    "#     { 'date_time', 'site_name', 'posa_continent', 'user_location_country',\n",
    "#        'user_location_region', 'user_location_city',\n",
    "#        'orig_destination_distance', 'user_id', 'is_mobile', 'is_package',\n",
    "#        'channel', 'srch_ci', 'srch_co', 'srch_adults_cnt',\n",
    "#        'srch_children_cnt', 'srch_rm_cnt', 'srch_destination_id',\n",
    "#        'srch_destination_type_id', 'is_booking', 'cnt', 'hotel_continent',\n",
    "#        'hotel_country', 'hotel_market', 'hotel_cluster'\n",
    "#      }]\n",
    "\n",
    "X = expedia.drop(['is_booking','date_time','srch_ci','srch_co', 'orig_destination_distance'], axis = 1) # features\n",
    "feature_cols = X.columns # get colnames for use later\n",
    "# np.array(expedia) \n",
    "target = expedia.is_booking # y "
   ]
  },
  {
   "cell_type": "code",
   "execution_count": 129,
   "metadata": {
    "collapsed": false
   },
   "outputs": [],
   "source": [
    "# add a null model for comparison of baseline \n",
    "\n",
    "mo_target = target.mode() # guess 0 - they do not book all the time. \n",
    "# pred = np.zero(len(expdedia),1)"
   ]
  },
  {
   "cell_type": "code",
   "execution_count": 130,
   "metadata": {
    "collapsed": false
   },
   "outputs": [
    {
     "name": "stdout",
     "output_type": "stream",
     "text": [
      "Accuracy for KNN model\n",
      "0.9254\n",
      "KNN Confusion Matrix\n",
      "[[9153   70]\n",
      " [ 676  101]]\n",
      "                precision    recall  f1-score   support\n",
      "\n",
      "Did not Book 0       0.93      0.99      0.96      9223\n",
      "      Booked 1       0.59      0.13      0.21       777\n",
      "\n",
      "   avg / total       0.90      0.93      0.90     10000\n",
      "\n"
     ]
    }
   ],
   "source": [
    "# train a classification model with existing columns\n",
    "# trying KNN and log reg to start. \n",
    "# Note: do not need to test_train_split because Kaggle provides a separate traing set. \n",
    "\n",
    "# knn\n",
    "# k = 3\n",
    "# knn = KNeighborsClassifier(n_neighbors=k)\n",
    "# knn.fit(X, target)\n",
    "# knn.score(X, target)\n",
    "\n",
    "# from sklearn.grid_search import GridSearchCV\n",
    "# k_range = range(2, 30, 1)\n",
    "# param_grid = dict(n_neighbors=k_range)\n",
    "# grid = GridSearchCV(knn, param_grid, cv=5, scoring='accuracy')\n",
    "# grid.fit(X_train, y_train)\n",
    "# grid.grid_scores_\n",
    "# grid_mean_scores = [result[1] for result in grid.grid_scores_] # get scores from grid.grid_scores_\n",
    "# visualize results\n",
    "# plt.figure()\n",
    "# plt.plot(k_range, grid_mean_scores)\n",
    "\n",
    "# retraining with added column\n",
    "# knn\n",
    "k = 3\n",
    "knn = KNeighborsClassifier(n_neighbors=k)\n",
    "knn.fit(X, target)\n",
    "knn.score(X, target)\n",
    "preds_knn = knn.predict(X)\n",
    "print 'Accuracy for KNN model'\n",
    "print accuracy_score(target, preds_knn)\n",
    "print 'KNN Confusion Matrix'\n",
    "print metrics.confusion_matrix(target, preds_knn)\n",
    "target_names = ['Did not Book 0','Booked 1']\n",
    "print(classification_report(target, preds_knn, target_names=target_names))\n",
    "\n",
    "# test set \n",
    "# preds_knn = knn.predict(X_test)\n",
    "# print 'Accuracy for KNN model'\n",
    "# print accuracy_score(y_test, preds_knn)\n",
    "# print 'KNN Confusion Matrix'\n",
    "# print metrics.confusion_matrix(y_test, preds_knn)\n",
    "# print(classification_report(y_test, preds_knn, target_names=target_names))\n"
   ]
  },
  {
   "cell_type": "code",
   "execution_count": 131,
   "metadata": {
    "collapsed": false
   },
   "outputs": [
    {
     "name": "stdout",
     "output_type": "stream",
     "text": [
      "Accuracy for Logistic Regression model\n",
      "0.9223\n",
      "Logistic Regression Confusion Matrix\n",
      "[[9223    0]\n",
      " [ 777    0]]\n",
      "                precision    recall  f1-score   support\n",
      "\n",
      "Did not Book 0       0.92      1.00      0.96      9223\n",
      "      Booked 1       0.00      0.00      0.00       777\n",
      "\n",
      "   avg / total       0.85      0.92      0.89     10000\n",
      "\n"
     ]
    }
   ],
   "source": [
    "# LogReg\n",
    "logreg = LogisticRegression(C=1e9)\n",
    "logreg.fit(X, target)\n",
    "assorted_pred_class = logreg.predict(X)\n",
    "logregm = zip(feature_cols,logreg.coef_[0])\n",
    "preds_logreg = logreg.predict(X)\n",
    "print 'Accuracy for Logistic Regression model'\n",
    "print accuracy_score(target, preds_logreg)\n",
    "print 'Logistic Regression Confusion Matrix'\n",
    "print metrics.confusion_matrix(target, preds_logreg)\n",
    "print(classification_report(target, preds_logreg, target_names=target_names))"
   ]
  },
  {
   "cell_type": "markdown",
   "metadata": {},
   "source": [
    "Switching to predicting which cluster \n",
    "Assuming we can use first part to "
   ]
  },
  {
   "cell_type": "code",
   "execution_count": 112,
   "metadata": {
    "collapsed": false
   },
   "outputs": [
    {
     "name": "stdout",
     "output_type": "stream",
     "text": [
      "(99, 24)\n"
     ]
    }
   ],
   "source": [
    "# for predicting which hotel cluster the person will book. \n",
    "\n",
    "# Select df only when the user is booking the hotel. \n",
    "# only look at when a person is booking. \n",
    "df_book = expedia.loc[expedia.is_booking == 1]\n",
    "print df_book.shape\n",
    "# df_book.corr()\n",
    "\n",
    "X = df_book.drop(['hotel_cluster','date_time','srch_ci','srch_co','orig_destination_distance'], axis = 1) # features\n",
    "target = df_book.hotel_cluster"
   ]
  },
  {
   "cell_type": "code",
   "execution_count": 113,
   "metadata": {
    "collapsed": true
   },
   "outputs": [],
   "source": [
    "# Null model"
   ]
  },
  {
   "cell_type": "code",
   "execution_count": 116,
   "metadata": {
    "collapsed": false
   },
   "outputs": [
    {
     "name": "stdout",
     "output_type": "stream",
     "text": [
      "Accuracy for KNN model\n",
      "0.434343434343\n",
      "KNN Confusion Matrix\n",
      "[[2 0 0 ..., 0 0 0]\n",
      " [1 0 0 ..., 0 0 0]\n",
      " [0 0 1 ..., 0 0 0]\n",
      " ..., \n",
      " [0 0 0 ..., 0 0 0]\n",
      " [0 0 0 ..., 0 0 0]\n",
      " [0 0 0 ..., 0 0 0]]\n",
      "             precision    recall  f1-score   support\n",
      "\n",
      "          1       0.22      1.00      0.36         2\n",
      "          2       0.00      0.00      0.00         1\n",
      "          6       0.25      1.00      0.40         1\n",
      "          7       0.33      1.00      0.50         2\n",
      "          8       0.25      0.50      0.33         2\n",
      "         10       0.38      1.00      0.55         3\n",
      "         11       0.40      1.00      0.57         2\n",
      "         12       1.00      1.00      1.00         2\n",
      "         14       0.50      1.00      0.67         2\n",
      "         15       1.00      1.00      1.00         2\n",
      "         16       0.00      0.00      0.00         1\n",
      "         17       0.33      1.00      0.50         1\n",
      "         18       0.38      0.75      0.50         4\n",
      "         19       0.50      0.50      0.50         2\n",
      "         20       0.33      1.00      0.50         2\n",
      "         21       0.33      0.50      0.40         2\n",
      "         25       0.00      0.00      0.00         1\n",
      "         28       0.00      0.00      0.00         1\n",
      "         32       0.00      0.00      0.00         1\n",
      "         33       0.00      0.00      0.00         2\n",
      "         36       1.00      0.67      0.80         3\n",
      "         37       0.33      0.50      0.40         2\n",
      "         38       1.00      1.00      1.00         1\n",
      "         40       0.33      1.00      0.50         1\n",
      "         42       0.67      1.00      0.80         2\n",
      "         43       0.50      1.00      0.67         1\n",
      "         45       0.50      1.00      0.67         1\n",
      "         46       0.00      0.00      0.00         2\n",
      "         47       0.00      0.00      0.00         1\n",
      "         49       0.00      0.00      0.00         1\n",
      "         51       0.50      1.00      0.67         1\n",
      "         54       0.00      0.00      0.00         1\n",
      "         56       1.00      0.67      0.80         3\n",
      "         58       0.00      0.00      0.00         1\n",
      "         59       0.00      0.00      0.00         2\n",
      "         61       0.00      0.00      0.00         2\n",
      "         62       0.00      0.00      0.00         2\n",
      "         63       0.00      0.00      0.00         1\n",
      "         64       0.00      0.00      0.00         1\n",
      "         65       1.00      0.25      0.40         4\n",
      "         68       0.67      1.00      0.80         2\n",
      "         70       0.00      0.00      0.00         2\n",
      "         72       0.00      0.00      0.00         1\n",
      "         73       0.00      0.00      0.00         2\n",
      "         78       0.00      0.00      0.00         3\n",
      "         80       0.00      0.00      0.00         1\n",
      "         81       0.00      0.00      0.00         2\n",
      "         82       0.00      0.00      0.00         1\n",
      "         83       0.00      0.00      0.00         2\n",
      "         85       0.00      0.00      0.00         1\n",
      "         90       0.00      0.00      0.00         1\n",
      "         91       0.00      0.00      0.00         2\n",
      "         94       0.00      0.00      0.00         1\n",
      "         95       1.00      0.60      0.75         5\n",
      "         96       0.00      0.00      0.00         1\n",
      "         98       0.00      0.00      0.00         1\n",
      "         99       0.00      0.00      0.00         2\n",
      "\n",
      "avg / total       0.34      0.43      0.34        99\n",
      "\n"
     ]
    }
   ],
   "source": [
    "k = 3\n",
    "knn = KNeighborsClassifier(n_neighbors=k)\n",
    "knn.fit(X, target)\n",
    "knn.score(X, target)\n",
    "preds_knn = knn.predict(X)\n",
    "print 'Accuracy for KNN model'\n",
    "print accuracy_score(target, preds_knn)\n",
    "print 'KNN Confusion Matrix'\n",
    "print metrics.confusion_matrix(target, preds_knn)\n",
    "# target_names = ['Did not Book 0','Booked 1']\n",
    "# print(classification_report(target, preds_knn, target_names=target_names))\n",
    "print(classification_report(target, preds_knn))"
   ]
  },
  {
   "cell_type": "code",
   "execution_count": 119,
   "metadata": {
    "collapsed": false
   },
   "outputs": [
    {
     "name": "stdout",
     "output_type": "stream",
     "text": [
      "Accuracy for Logistic Regression model\n",
      "0.929292929293\n",
      "Logistic Regression Confusion Matrix\n",
      "[[2 0 0 ..., 0 0 0]\n",
      " [0 1 0 ..., 0 0 0]\n",
      " [0 0 1 ..., 0 0 0]\n",
      " ..., \n",
      " [0 0 0 ..., 1 0 0]\n",
      " [0 0 0 ..., 0 1 0]\n",
      " [0 0 0 ..., 0 0 2]]\n",
      "             precision    recall  f1-score   support\n",
      "\n",
      "          1       1.00      1.00      1.00         2\n",
      "          2       1.00      1.00      1.00         1\n",
      "          6       0.50      1.00      0.67         1\n",
      "          7       1.00      1.00      1.00         2\n",
      "          8       1.00      0.50      0.67         2\n",
      "         10       1.00      1.00      1.00         3\n",
      "         11       1.00      1.00      1.00         2\n",
      "         12       1.00      1.00      1.00         2\n",
      "         14       1.00      1.00      1.00         2\n",
      "         15       0.67      1.00      0.80         2\n",
      "         16       1.00      1.00      1.00         1\n",
      "         17       1.00      1.00      1.00         1\n",
      "         18       0.75      0.75      0.75         4\n",
      "         19       1.00      1.00      1.00         2\n",
      "         20       0.67      1.00      0.80         2\n",
      "         21       1.00      1.00      1.00         2\n",
      "         25       1.00      1.00      1.00         1\n",
      "         28       1.00      1.00      1.00         1\n",
      "         32       1.00      1.00      1.00         1\n",
      "         33       1.00      0.50      0.67         2\n",
      "         36       1.00      1.00      1.00         3\n",
      "         37       1.00      0.50      0.67         2\n",
      "         38       1.00      1.00      1.00         1\n",
      "         40       1.00      1.00      1.00         1\n",
      "         42       1.00      1.00      1.00         2\n",
      "         43       1.00      1.00      1.00         1\n",
      "         45       1.00      1.00      1.00         1\n",
      "         46       0.67      1.00      0.80         2\n",
      "         47       1.00      1.00      1.00         1\n",
      "         49       1.00      1.00      1.00         1\n",
      "         51       1.00      1.00      1.00         1\n",
      "         54       1.00      1.00      1.00         1\n",
      "         56       1.00      1.00      1.00         3\n",
      "         58       1.00      1.00      1.00         1\n",
      "         59       1.00      1.00      1.00         2\n",
      "         61       1.00      1.00      1.00         2\n",
      "         62       1.00      1.00      1.00         2\n",
      "         63       1.00      1.00      1.00         1\n",
      "         64       1.00      1.00      1.00         1\n",
      "         65       0.75      0.75      0.75         4\n",
      "         68       1.00      1.00      1.00         2\n",
      "         70       1.00      1.00      1.00         2\n",
      "         72       1.00      1.00      1.00         1\n",
      "         73       1.00      1.00      1.00         2\n",
      "         78       1.00      1.00      1.00         3\n",
      "         80       1.00      1.00      1.00         1\n",
      "         81       1.00      1.00      1.00         2\n",
      "         82       1.00      1.00      1.00         1\n",
      "         83       1.00      0.50      0.67         2\n",
      "         85       1.00      1.00      1.00         1\n",
      "         90       1.00      1.00      1.00         1\n",
      "         91       1.00      1.00      1.00         2\n",
      "         94       1.00      1.00      1.00         1\n",
      "         95       0.80      0.80      0.80         5\n",
      "         96       1.00      1.00      1.00         1\n",
      "         98       1.00      1.00      1.00         1\n",
      "         99       1.00      1.00      1.00         2\n",
      "\n",
      "avg / total       0.94      0.93      0.93        99\n",
      "\n"
     ]
    }
   ],
   "source": [
    "logreg = LogisticRegression(C=1e9)\n",
    "logreg.fit(X, target)\n",
    "assorted_pred_class = logreg.predict(X)\n",
    "logregm = zip(feature_cols,logreg.coef_[0])\n",
    "preds_logreg = logreg.predict(X)\n",
    "print 'Accuracy for Logistic Regression model'\n",
    "print accuracy_score(target, preds_logreg)\n",
    "print 'Logistic Regression Confusion Matrix'\n",
    "print metrics.confusion_matrix(target, preds_logreg)\n",
    "print(classification_report(target, preds_logreg))"
   ]
  },
  {
   "cell_type": "code",
   "execution_count": null,
   "metadata": {
    "collapsed": true
   },
   "outputs": [],
   "source": []
  },
  {
   "cell_type": "code",
   "execution_count": null,
   "metadata": {
    "collapsed": true
   },
   "outputs": [],
   "source": [
    "# feature ideas: \n",
    "# searched hotel cluster AND is booking. \n",
    "# is family - adults = 2 and there are additional guests\n",
    "# number or clicks before purchase\n",
    "# repeat clicks? user visits same hotel cluster again \n",
    "# Weekend/Weekday (business or personal travel maybe) ( check in day of week. Check out day of week)\n",
    "# if user books more than one hotel - is it in the same cluster, same location? \n",
    "# time on site. (I think this will be correlated to booking something)"
   ]
  },
  {
   "cell_type": "code",
   "execution_count": null,
   "metadata": {
    "collapsed": true
   },
   "outputs": [],
   "source": [
    "# test Full model\n",
    "# combination of best first classification + predicting hotel cluster. \n",
    "\n"
   ]
  },
  {
   "cell_type": "code",
   "execution_count": null,
   "metadata": {
    "collapsed": true
   },
   "outputs": [],
   "source": []
  }
 ],
 "metadata": {
  "kernelspec": {
   "display_name": "Python 2",
   "language": "python",
   "name": "python2"
  },
  "language_info": {
   "codemirror_mode": {
    "name": "ipython",
    "version": 2
   },
   "file_extension": ".py",
   "mimetype": "text/x-python",
   "name": "python",
   "nbconvert_exporter": "python",
   "pygments_lexer": "ipython2",
   "version": "2.7.11"
  }
 },
 "nbformat": 4,
 "nbformat_minor": 0
}
