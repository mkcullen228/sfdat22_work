{
 "cells": [
  {
   "cell_type": "code",
   "execution_count": 1,
   "metadata": {
    "collapsed": false
   },
   "outputs": [
    {
     "ename": "SyntaxError",
     "evalue": "invalid syntax (<ipython-input-1-96f90b066444>, line 3)",
     "output_type": "error",
     "traceback": [
      "\u001b[0;36m  File \u001b[0;32m\"<ipython-input-1-96f90b066444>\"\u001b[0;36m, line \u001b[0;32m3\u001b[0m\n\u001b[0;31m    This assignment uses data from Kaggle's [Titanic](https://www.kaggle.com/c/titanic/data) competition. `titanic.csv` is in the repo, so there is no need to download the data from the Kaggle website.\u001b[0m\n\u001b[0m                  ^\u001b[0m\n\u001b[0;31mSyntaxError\u001b[0m\u001b[0;31m:\u001b[0m invalid syntax\n"
     ]
    }
   ],
   "source": [
    "## Class 8 Exercise: Predicting Survival on the Titanic\n",
    "\n",
    "This assignment uses data from Kaggle's [Titanic](https://www.kaggle.com/c/titanic/data) competition. `titanic.csv` is in the repo, so there is no need to download the data from the Kaggle website.\n",
    "\n",
    "**Tasks:**\n",
    "\n",
    "1. Read `titanic.csv` into a DataFrame.\n",
    "2. Define Pclass and Parch as the features, and Survived as the response.\n",
    "3. Split the data into training and testing sets. (Hint: use the train test split modules from sklearn)\n",
    "4. Fit a logistic regression model and examine the coefficients to confirm that they make intuitive sense.\n",
    "5. Make predictions on the testing set and calculate the accuracy.\n",
    "7. Create a confusion matrix and document the model's sensitivity and specificity. (remember you should run metrics on your test classes!)\n",
    "8. **Bonus:** Add Age as a feature, and calculate the testing accuracy. There will be a small issue you'll have to deal with. What is it?\n",
    "\n",
    "Always remember to fit your model on the training data and run metrics on the test set."
   ]
  },
  {
   "cell_type": "code",
   "execution_count": 2,
   "metadata": {
    "collapsed": true
   },
   "outputs": [],
   "source": [
    "import pandas as pd\n",
    "import numpy as np\n",
    "from sklearn.linear_model import LogisticRegression\n",
    "from sklearn.cross_validation import train_test_split\n",
    "from sklearn import metrics\n",
    "import statsmodels.formula.api as smf\n",
    "\n",
    "# visualization\n",
    "import seaborn as sns\n",
    "import matplotlib.pyplot as plt\n",
    "%matplotlib inline"
   ]
  },
  {
   "cell_type": "code",
   "execution_count": 3,
   "metadata": {
    "collapsed": false
   },
   "outputs": [
    {
     "data": {
      "text/html": [
       "<div>\n",
       "<table border=\"1\" class=\"dataframe\">\n",
       "  <thead>\n",
       "    <tr style=\"text-align: right;\">\n",
       "      <th></th>\n",
       "      <th>PassengerId</th>\n",
       "      <th>Survived</th>\n",
       "      <th>Pclass</th>\n",
       "      <th>Name</th>\n",
       "      <th>Sex</th>\n",
       "      <th>Age</th>\n",
       "      <th>SibSp</th>\n",
       "      <th>Parch</th>\n",
       "      <th>Ticket</th>\n",
       "      <th>Fare</th>\n",
       "      <th>Cabin</th>\n",
       "      <th>Embarked</th>\n",
       "    </tr>\n",
       "  </thead>\n",
       "  <tbody>\n",
       "    <tr>\n",
       "      <th>0</th>\n",
       "      <td>1</td>\n",
       "      <td>0</td>\n",
       "      <td>3</td>\n",
       "      <td>Braund, Mr. Owen Harris</td>\n",
       "      <td>male</td>\n",
       "      <td>22.0</td>\n",
       "      <td>1</td>\n",
       "      <td>0</td>\n",
       "      <td>A/5 21171</td>\n",
       "      <td>7.2500</td>\n",
       "      <td>NaN</td>\n",
       "      <td>S</td>\n",
       "    </tr>\n",
       "    <tr>\n",
       "      <th>1</th>\n",
       "      <td>2</td>\n",
       "      <td>1</td>\n",
       "      <td>1</td>\n",
       "      <td>Cumings, Mrs. John Bradley (Florence Briggs Th...</td>\n",
       "      <td>female</td>\n",
       "      <td>38.0</td>\n",
       "      <td>1</td>\n",
       "      <td>0</td>\n",
       "      <td>PC 17599</td>\n",
       "      <td>71.2833</td>\n",
       "      <td>C85</td>\n",
       "      <td>C</td>\n",
       "    </tr>\n",
       "    <tr>\n",
       "      <th>2</th>\n",
       "      <td>3</td>\n",
       "      <td>1</td>\n",
       "      <td>3</td>\n",
       "      <td>Heikkinen, Miss. Laina</td>\n",
       "      <td>female</td>\n",
       "      <td>26.0</td>\n",
       "      <td>0</td>\n",
       "      <td>0</td>\n",
       "      <td>STON/O2. 3101282</td>\n",
       "      <td>7.9250</td>\n",
       "      <td>NaN</td>\n",
       "      <td>S</td>\n",
       "    </tr>\n",
       "    <tr>\n",
       "      <th>3</th>\n",
       "      <td>4</td>\n",
       "      <td>1</td>\n",
       "      <td>1</td>\n",
       "      <td>Futrelle, Mrs. Jacques Heath (Lily May Peel)</td>\n",
       "      <td>female</td>\n",
       "      <td>35.0</td>\n",
       "      <td>1</td>\n",
       "      <td>0</td>\n",
       "      <td>113803</td>\n",
       "      <td>53.1000</td>\n",
       "      <td>C123</td>\n",
       "      <td>S</td>\n",
       "    </tr>\n",
       "    <tr>\n",
       "      <th>4</th>\n",
       "      <td>5</td>\n",
       "      <td>0</td>\n",
       "      <td>3</td>\n",
       "      <td>Allen, Mr. William Henry</td>\n",
       "      <td>male</td>\n",
       "      <td>35.0</td>\n",
       "      <td>0</td>\n",
       "      <td>0</td>\n",
       "      <td>373450</td>\n",
       "      <td>8.0500</td>\n",
       "      <td>NaN</td>\n",
       "      <td>S</td>\n",
       "    </tr>\n",
       "  </tbody>\n",
       "</table>\n",
       "</div>"
      ],
      "text/plain": [
       "   PassengerId  Survived  Pclass  \\\n",
       "0            1         0       3   \n",
       "1            2         1       1   \n",
       "2            3         1       3   \n",
       "3            4         1       1   \n",
       "4            5         0       3   \n",
       "\n",
       "                                                Name     Sex   Age  SibSp  \\\n",
       "0                            Braund, Mr. Owen Harris    male  22.0      1   \n",
       "1  Cumings, Mrs. John Bradley (Florence Briggs Th...  female  38.0      1   \n",
       "2                             Heikkinen, Miss. Laina  female  26.0      0   \n",
       "3       Futrelle, Mrs. Jacques Heath (Lily May Peel)  female  35.0      1   \n",
       "4                           Allen, Mr. William Henry    male  35.0      0   \n",
       "\n",
       "   Parch            Ticket     Fare Cabin Embarked  \n",
       "0      0         A/5 21171   7.2500   NaN        S  \n",
       "1      0          PC 17599  71.2833   C85        C  \n",
       "2      0  STON/O2. 3101282   7.9250   NaN        S  \n",
       "3      0            113803  53.1000  C123        S  \n",
       "4      0            373450   8.0500   NaN        S  "
      ]
     },
     "execution_count": 3,
     "metadata": {},
     "output_type": "execute_result"
    }
   ],
   "source": [
    "titanic = pd.read_csv('../data/titanic.csv',)\n",
    "titanic.head()"
   ]
  },
  {
   "cell_type": "code",
   "execution_count": 4,
   "metadata": {
    "collapsed": false
   },
   "outputs": [
    {
     "data": {
      "text/plain": [
       "<seaborn.axisgrid.PairGrid at 0x11921b650>"
      ]
     },
     "execution_count": 4,
     "metadata": {},
     "output_type": "execute_result"
    },
    {
     "data": {
      "image/png": "[encoded data removed]",
      "text/plain": [
       "<matplotlib.figure.Figure at 0x119242bd0>"
      ]
     },
     "metadata": {},
     "output_type": "display_data"
    }
   ],
   "source": [
    "# 2. Define Pclass and Parch as the features, and Survived as the response.\n",
    "features = ['Pclass','Parch'] # features\n",
    "target = ['Survived'] # reponse\n",
    "sex = titanic.Sex # make binary\n",
    "ismale = np.where(sex == 'male',1,0)\n",
    "titanic['ismale'] = ismale\n",
    "\n",
    "# Age is missing columns. Could fill with average? \n",
    "# new column ideas:\n",
    "# is married = f(age, sibsp)\n",
    "# careful with fare. Could be correlated to class (dependent)\n",
    "# Look for common last names in columns (families).\n",
    "# look for religious names in columns. \n",
    "\n",
    "sns.pairplot(titanic, x_vars=['Pclass','Parch','SibSp','Fare','Age'], y_vars='Survived', size=6, aspect=0.7)\n"
   ]
  },
  {
   "cell_type": "code",
   "execution_count": 5,
   "metadata": {
    "collapsed": false
   },
   "outputs": [],
   "source": [
    "# 3. Split the data into training and testing sets. (Hint: use the train test split modules from sklearn)\n",
    "X = titanic[features]\n",
    "y = titanic.Survived\n",
    "\n",
    "X_train, X_test, y_train, y_test = train_test_split(X, y, random_state=1)"
   ]
  },
  {
   "cell_type": "code",
   "execution_count": 6,
   "metadata": {
    "collapsed": false
   },
   "outputs": [
    {
     "name": "stdout",
     "output_type": "stream",
     "text": [
      "[('Pclass', -0.88188860564509608), ('Parch', 0.3423921585749839)]\n",
      "[ 1.32351595]\n",
      "[[-0.88188861  0.34239216]]\n"
     ]
    },
    {
     "data": {
      "text/plain": [
       "array([1, 0, 1, 1, 1, 0, 1, 0, 0, 0, 0, 0, 0, 0, 0, 1, 0, 0, 0, 0, 0, 0, 0,\n",
       "       0, 0, 0, 1, 0, 0, 1, 1, 1, 0, 1, 0, 0, 0, 0, 0, 0, 1, 0, 0, 1, 1, 0,\n",
       "       0, 0, 0, 0, 0, 0, 0, 1, 0, 1, 0, 0, 0, 0, 0, 0, 0, 1, 0, 1, 0, 0, 0,\n",
       "       1, 0, 0, 1, 0, 0, 0, 0, 1, 1, 0, 0, 0, 0, 0, 0, 1, 0, 0, 0, 1, 0, 0,\n",
       "       0, 1, 0, 1, 0, 0, 0, 0, 0, 0, 0, 1, 1, 0, 0, 0, 0, 0, 0, 0, 0, 0, 1,\n",
       "       1, 1, 1, 0, 0, 1, 0, 0, 0, 0, 1, 0, 0, 0, 0, 1, 1, 0, 0, 0, 0, 0, 0,\n",
       "       0, 0, 0, 0, 0, 1, 0, 0, 0, 1, 0, 0, 0, 1, 1, 0, 0, 1, 0, 0, 0, 0, 1,\n",
       "       0, 0, 1, 1, 1, 0, 1, 0, 0, 0, 0, 0, 1, 1, 0, 0, 0, 0, 1, 0, 0, 0, 0,\n",
       "       0, 1, 0, 0, 0, 0, 0, 0, 0, 1, 0, 1, 1, 1, 0, 0, 0, 0, 0, 1, 0, 0, 1,\n",
       "       0, 0, 0, 1, 1, 1, 1, 0, 0, 0, 0, 0, 0, 0, 0, 0, 0, 0, 1, 1, 1, 0, 0,\n",
       "       0, 1, 0, 0, 0, 1, 0, 0, 1, 0, 0, 0, 0, 0, 0, 0, 0, 0, 1, 1, 0, 0, 0,\n",
       "       1, 0, 1, 1, 0, 0, 0, 0, 1, 0, 0, 1, 1, 0, 1, 1, 0, 0, 0, 0, 1, 0, 1,\n",
       "       1, 0, 0, 1, 1, 0, 1, 0, 0, 0, 0, 0, 0, 1, 1, 0, 0, 1, 0, 0, 0, 0, 1,\n",
       "       0, 0, 0, 0, 1, 0, 1, 0, 0, 1, 0, 0, 0, 0, 1, 0, 0, 0, 1, 0, 1, 0, 0,\n",
       "       0, 0, 0, 0, 0, 0, 0, 1, 0, 0, 0, 0, 0, 1, 0, 0, 0, 0, 1, 1, 1, 0, 0,\n",
       "       0, 0, 1, 0, 0, 1, 0, 1, 0, 0, 0, 1, 0, 1, 0, 0, 0, 0, 0, 0, 1, 0, 0,\n",
       "       0, 1, 0, 0, 0, 0, 0, 0, 0, 0, 0, 0, 1, 1, 0, 1, 0, 0, 0, 0, 0, 1, 0,\n",
       "       0, 1, 0, 0, 0, 0, 0, 1, 0, 0, 0, 0, 1, 0, 0, 0, 0, 0, 1, 0, 0, 0, 0,\n",
       "       1, 0, 0, 0, 0, 1, 0, 0, 0, 0, 0, 1, 0, 0, 1, 0, 0, 0, 0, 0, 0, 0, 1,\n",
       "       1, 0, 1, 0, 0, 0, 1, 0, 0, 0, 0, 1, 0, 0, 0, 0, 0, 1, 0, 1, 0, 0, 0,\n",
       "       0, 0, 0, 0, 0, 0, 0, 0, 1, 1, 0, 0, 0, 0, 1, 0, 0, 0, 0, 0, 1, 0, 1,\n",
       "       1, 1, 0, 0, 0, 0, 0, 1, 0, 1, 0, 0, 0, 0, 0, 0, 0, 0, 0, 1, 0, 0, 0,\n",
       "       1, 0, 1, 0, 0, 0, 0, 0, 0, 0, 0, 0, 1, 0, 1, 0, 1, 0, 0, 0, 0, 1, 0,\n",
       "       0, 0, 0, 1, 0, 0, 0, 0, 0, 1, 1, 0, 1, 0, 0, 0, 0, 0, 0, 1, 0, 1, 0,\n",
       "       1, 0, 0, 0, 0, 0, 0, 0, 1, 0, 0, 0, 1, 0, 0, 1, 1, 0, 0, 0, 0, 0, 1,\n",
       "       0, 0, 0, 0, 0, 0, 0, 0, 1, 0, 0, 1, 1, 0, 0, 0, 1, 0, 0, 0, 0, 0, 0,\n",
       "       0, 0, 1, 0, 1, 0, 0, 1, 1, 1, 1, 0, 0, 1, 0, 0, 1, 0, 0, 0, 0, 0, 0,\n",
       "       1, 1, 0, 1, 0, 0, 0, 1, 0, 1, 0, 0, 1, 1, 0, 1, 0, 0, 0, 0, 0, 1, 0,\n",
       "       0, 0, 0, 0, 1, 0, 0, 0, 0, 0, 0, 1, 0, 0, 1, 0, 0, 0, 1, 0, 0, 0, 0,\n",
       "       0])"
      ]
     },
     "execution_count": 6,
     "metadata": {},
     "output_type": "execute_result"
    }
   ],
   "source": [
    "# 4. Fit a logistic regression model and examine the coefficients to confirm that they make intuitive sense.\n",
    "\n",
    "logreg = LogisticRegression(C=1e9)\n",
    "logreg.fit(X_train, y_train)\n",
    "print zip(features,logreg.coef_[0])\n",
    "\n",
    "assorted_pred_class = logreg.predict(X_train)\n",
    "print logreg.intercept_\n",
    "print logreg.coef_\n",
    "assorted_pred_class"
   ]
  },
  {
   "cell_type": "code",
   "execution_count": 7,
   "metadata": {
    "collapsed": false
   },
   "outputs": [
    {
     "name": "stdout",
     "output_type": "stream",
     "text": [
      "[[ 0.78953917  0.21046083]]\n"
     ]
    },
    {
     "name": "stderr",
     "output_type": "stream",
     "text": [
      "/Users/mcullen/anaconda/lib/python2.7/site-packages/sklearn/utils/validation.py:386: DeprecationWarning: Passing 1d arrays as data is deprecated in 0.17 and willraise ValueError in 0.19. Reshape your data either using X.reshape(-1, 1) if your data has a single feature or X.reshape(1, -1) if it contains a single sample.\n",
      "  DeprecationWarning)\n"
     ]
    },
    {
     "data": {
      "text/plain": [
       "array([ 0.60864673,  0.21046083,  0.39167872,  0.21046083,  0.56082798,\n",
       "        0.21046083,  0.56082798,  0.60864673,  0.60864673,  0.21046083,\n",
       "        0.21046083,  0.21046083,  0.60864673,  0.39167872,  0.21046083,\n",
       "        0.60864673,  0.3458423 ,  0.21046083,  0.21046083,  0.64265704,\n",
       "        0.21046083,  0.21046083,  0.60864673,  0.39167872,  0.21046083,\n",
       "        0.21046083,  0.75517608,  0.39167872,  0.39167872,  0.60864673,\n",
       "        0.21046083,  0.60864673,  0.59623718,  0.21046083,  0.21046083,\n",
       "        0.3458423 ,  0.60864673,  0.21046083,  0.60864673,  0.21046083,\n",
       "        0.21046083,  0.3458423 ,  0.68654576,  0.60864673,  0.56082798,\n",
       "        0.21046083,  0.3458423 ,  0.39167872,  0.60864673,  0.39167872,\n",
       "        0.39167872,  0.39167872,  0.39167872,  0.39167872,  0.21046083,\n",
       "        0.21046083,  0.39167872,  0.60864673,  0.59623718,  0.21046083,\n",
       "        0.3458423 ,  0.21046083,  0.47555224,  0.60864673,  0.60864673,\n",
       "        0.3458423 ,  0.27293986,  0.21046083,  0.27293986,  0.47555224,\n",
       "        0.21046083,  0.27293986,  0.60864673,  0.21046083,  0.39167872,\n",
       "        0.47555224,  0.60864673,  0.21046083,  0.60864673,  0.60864673,\n",
       "        0.21046083,  0.3458423 ,  0.21046083,  0.21046083,  0.39167872,\n",
       "        0.21046083,  0.21046083,  0.21046083,  0.3458423 ,  0.39167872,\n",
       "        0.60864673,  0.21046083,  0.21046083,  0.21046083,  0.21046083,\n",
       "        0.60864673,  0.21046083,  0.21046083,  0.21046083,  0.21046083,\n",
       "        0.60864673,  0.60864673,  0.27293986,  0.27293986,  0.68654576,\n",
       "        0.21046083,  0.21046083,  0.21046083,  0.27293986,  0.21046083,\n",
       "        0.60864673,  0.21046083,  0.39167872,  0.21046083,  0.39167872,\n",
       "        0.21046083,  0.39167872,  0.60864673,  0.39167872,  0.21046083,\n",
       "        0.39167872,  0.68654576,  0.21046083,  0.39167872,  0.75517608,\n",
       "        0.60864673,  0.39167872,  0.21046083,  0.3458423 ,  0.21046083,\n",
       "        0.21046083,  0.21046083,  0.27293986,  0.60864673,  0.21046083,\n",
       "        0.60864673,  0.75517608,  0.3458423 ,  0.21046083,  0.21046083,\n",
       "        0.75517608,  0.21046083,  0.75517608,  0.21046083,  0.21046083,\n",
       "        0.21046083,  0.39167872,  0.21046083,  0.59623718,  0.21046083,\n",
       "        0.27293986,  0.21046083,  0.27293986,  0.21046083,  0.21046083,\n",
       "        0.21046083,  0.21046083,  0.21046083,  0.39167872,  0.39167872,\n",
       "        0.39167872,  0.21046083,  0.21046083,  0.60864673,  0.21046083,\n",
       "        0.21046083,  0.47555224,  0.21046083,  0.21046083,  0.75517608,\n",
       "        0.60864673,  0.3458423 ,  0.60864673,  0.27293986,  0.60864673,\n",
       "        0.60864673,  0.21046083,  0.21046083,  0.27293986,  0.21046083,\n",
       "        0.60864673,  0.39167872,  0.39167872,  0.39167872,  0.60864673,\n",
       "        0.39167872,  0.21046083,  0.75517608,  0.21046083,  0.60864673,\n",
       "        0.60864673,  0.60864673,  0.21046083,  0.21046083,  0.27293986,\n",
       "        0.60864673,  0.39167872,  0.39167872,  0.21046083,  0.60864673,\n",
       "        0.21046083,  0.60864673,  0.21046083,  0.39167872,  0.68654576,\n",
       "        0.39167872,  0.60864673,  0.39167872,  0.60864673,  0.21046083,\n",
       "        0.60864673,  0.3458423 ,  0.21046083,  0.21046083,  0.39167872,\n",
       "        0.21046083,  0.21046083,  0.60864673,  0.56082798,  0.60864673,\n",
       "        0.60864673,  0.21046083,  0.60864673])"
      ]
     },
     "execution_count": 7,
     "metadata": {},
     "output_type": "execute_result"
    }
   ],
   "source": [
    "# 5. Make predictions on the testing set and calculate the accuracy.\n",
    "\n",
    "print logreg.predict_proba([3,0])\n",
    "\n",
    "logodds = logreg.intercept_ + logreg.coef_ * (X_train)\n",
    "odds = np.exp(logodds)\n",
    "prob = odds/(1 + odds)\n",
    "prob\n",
    "\n",
    "logreg.predict_proba(X_test)[:, 1]\n",
    "\n",
    "# assorted_pred_prob = logreg.predict_proba(X)[:, 1]\n",
    "# plt.scatter(titanic.Pclass, titanic.Survived)\n",
    "# plt.plot(titanic.Pclass, assorted_pred_prob, color='red')\n",
    "\n",
    "\n",
    "# from sklearn import metrics\n",
    "# preds = logreg.predict(X)\n",
    "# print metrics.confusion_matrix(y, preds)"
   ]
  },
  {
   "cell_type": "code",
   "execution_count": 8,
   "metadata": {
    "collapsed": false
   },
   "outputs": [],
   "source": [
    "# defining a function to interrpret a confusion matrix\n",
    "#  TODO: need to learn how to return deimal places\n",
    "def inter_conf_matix(conf_matrix): \n",
    "    tn = conf_matrix[0,0]\n",
    "    fn = conf_matrix[0,1]\n",
    "    fp = conf_matrix[1,0]\n",
    "    tp = conf_matrix[1,1]\n",
    "    tot = tn + fn + tp + fp\n",
    "    acc = (tn + tp) / (tot)\n",
    "    sensi = tp / (fp + tp)\n",
    "    speci = tn / (tn + fn)\n",
    "    return [acc, sensi, speci]\n",
    "    \n",
    "# [[157   6]\n",
    "#  [ 23  28]]\n",
    "##Top Left: True Negatives \n",
    "##Top Right False Negatives \n",
    "##Bottom Left: False Negatives \n",
    "##Bottom Right: True Positives \n",
    "# Accuracy = (157 + 28) / 214 == .8644\n",
    "# Sensitivity = 28 / (23 + 28) == .5490\n",
    "# Specificity = 157 / (157 + 6) == .9631"
   ]
  },
  {
   "cell_type": "code",
   "execution_count": 9,
   "metadata": {
    "collapsed": false
   },
   "outputs": [
    {
     "name": "stdout",
     "output_type": "stream",
     "text": [
      "Training Set:\n",
      "[[353  68]\n",
      " [139 108]]\n",
      "Testing Set\n",
      "[[105  23]\n",
      " [ 51  44]]\n"
     ]
    }
   ],
   "source": [
    "from sklearn import metrics\n",
    "print 'Training Set:'\n",
    "conf_train = metrics.confusion_matrix(y_train, assorted_pred_class)\n",
    "print conf_train\n",
    "# [acc, sensi, speci] = inter_conf_matix(conf_train)\n",
    "# print acc\n",
    "\n",
    "print 'Testing Set'\n",
    "preds = logreg.predict(X_test)\n",
    "print metrics.confusion_matrix(y_test, preds)\n"
   ]
  },
  {
   "cell_type": "code",
   "execution_count": 10,
   "metadata": {
    "collapsed": true
   },
   "outputs": [],
   "source": [
    "# 7. Create a confusion matrix and document the model's sensitivity and specificity. (remember you should run metrics on your test classes!)\n",
    "\n",
    "# Accuracy = (105 + 44) / 223  == .6682\n",
    "# Sensitivity = 44 / (51 + 44) == .46316\n",
    "# Specificity = 105 / (105 + 23) == .82031"
   ]
  },
  {
   "cell_type": "code",
   "execution_count": 11,
   "metadata": {
    "collapsed": false
   },
   "outputs": [
    {
     "name": "stdout",
     "output_type": "stream",
     "text": [
      "[('Pclass', -2.9443746665205775e-37), ('Parch', 1.0016413346671532e-39), ('age_int', 1.0337109742757591e-19)]\n",
      "[ -8.14316160e-38]\n",
      "[[ -2.94437467e-37   1.00164133e-39   1.03371097e-19]]\n",
      "Testing Set\n",
      "[[29 99]\n",
      " [16 79]]\n"
     ]
    }
   ],
   "source": [
    "# 8. **Bonus:** Add Age as a feature, and calculate the testing accuracy. There will be a small issue you'll have to deal with. What is it?\n",
    "\n",
    "# making age an integer to use. \n",
    "Age = titanic['Age']\n",
    "Age = np.array(Age)\n",
    "age = Age.astype(int)\n",
    "titanic['age_int'] = age\n",
    "\n",
    "features = ['Pclass','Parch','age_int'] # features\n",
    "target = ['Survived'] # reponse\n",
    "X = titanic[features]\n",
    "y = titanic.Survived\n",
    "\n",
    "X_train, X_test, y_train, y_test = train_test_split(X, y, random_state=1)\n",
    "\n",
    "logreg = LogisticRegression(C=1e9)\n",
    "logreg.fit(X_train, y_train)\n",
    "print zip(features,logreg.coef_[0])\n",
    "\n",
    "assorted_pred_class = logreg.predict(X_test)\n",
    "print logreg.intercept_\n",
    "print logreg.coef_\n",
    "assorted_pred_class\n",
    "\n",
    "print 'Testing Set'\n",
    "preds = logreg.predict(X_test)\n",
    "print metrics.confusion_matrix(y_test, preds)"
   ]
  },
  {
   "cell_type": "code",
   "execution_count": null,
   "metadata": {
    "collapsed": true
   },
   "outputs": [],
   "source": [
    "# Accuracy = (29 + 79) / 223  == .48430\n",
    "# Sensitivity = 79 / (16 + 79) == .83158\n",
    "# Specificity = 29 / (29 + 99) == .22656"
   ]
  }
 ],
 "metadata": {
  "kernelspec": {
   "display_name": "Python 2",
   "language": "python",
   "name": "python2"
  },
  "language_info": {
   "codemirror_mode": {
    "name": "ipython",
    "version": 2
   },
   "file_extension": ".py",
   "mimetype": "text/x-python",
   "name": "python",
   "nbconvert_exporter": "python",
   "pygments_lexer": "ipython2",
   "version": "2.7.11"
  }
 },
 "nbformat": 4,
 "nbformat_minor": 0
}
