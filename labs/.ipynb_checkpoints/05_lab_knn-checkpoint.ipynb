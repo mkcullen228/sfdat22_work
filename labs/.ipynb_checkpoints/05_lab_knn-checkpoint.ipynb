{
 "cells": [
  {
   "cell_type": "code",
   "execution_count": 1,
   "metadata": {
    "collapsed": true
   },
   "outputs": [],
   "source": [
    "'''\n",
    "Our KNN algorithm\n",
    "\n",
    "'''\n",
    "# imports go here\n",
    "import pandas as pd\n",
    "import numpy as np"
   ]
  },
  {
   "cell_type": "code",
   "execution_count": 98,
   "metadata": {
    "collapsed": false
   },
   "outputs": [
    {
     "data": {
      "text/plain": [
       "array([ 10.77032961,  10.77032961,  10.77032961,  10.77032961])"
      ]
     },
     "execution_count": 98,
     "metadata": {},
     "output_type": "execute_result"
    }
   ],
   "source": [
    "'''\n",
    "Part 1: Setting it all up\n",
    "'''\n",
    "\n",
    "# we will need a euclidean_distance_algorithm that takes in\n",
    "# two numpy arrays, and calculates the \n",
    "# euclidean distance between them\n",
    "\n",
    "# square (x)**2\n",
    "# sum or np.sum both work\n",
    "\n",
    "def euclidean_distance(np1, np2):\n",
    "    eud = np.sqrt(sum((np2 - np1)**2))\n",
    "    return eud\n",
    "\n",
    "# test \n",
    "np1 = np.array([1,2,3,4])\n",
    "np2 = np.array([5,6,7,8])\n",
    "euclidean_distance(np2,np1)\n",
    "data2 = [range(1, 5), range(11, 15)] \n",
    "data1 = [range(5, 9), range(1, 5)]\n",
    "arr1 = np.array(data1)   \n",
    "arr2 = np.array(data2)   \n",
    "euclidean_distance(arr1, arr2)"
   ]
  },
  {
   "cell_type": "code",
   "execution_count": 5,
   "metadata": {
    "collapsed": false
   },
   "outputs": [
    {
     "data": {
      "text/plain": [
       "numpy.ndarray"
      ]
     },
     "execution_count": 5,
     "metadata": {},
     "output_type": "execute_result"
    }
   ],
   "source": [
    "'''\n",
    "Bring in the iris data from the web\n",
    "\n",
    "iris_data ==\n",
    "    2D numpy array of the four predictors of iris\n",
    "        plus the species\n",
    "'''\n",
    "\n",
    "iris_data = pd.read_csv('https://raw.githubusercontent.com/sinanuozdemir/sfdat22/master/data/iris.csv')\n",
    "# iris_data is a dataframe, but let's turn it into\n",
    "# a 2D numpy array\n",
    "# Hint: use .values to turn a dataframe into a 2d array\n",
    "\n",
    "iris_data = iris_data.values\n",
    "type(iris_data)"
   ]
  },
  {
   "cell_type": "code",
   "execution_count": 49,
   "metadata": {
    "collapsed": false
   },
   "outputs": [],
   "source": [
    "# Question: in terms of machine learning:\n",
    "#   a. the first four columns are called what?   A: predictors\n",
    "#   b. the species column is called what?  A: response\n",
    "\n",
    "'''\n",
    "array([[5.1, 3.5, 1.4, 0.2, 'Iris-setosa'],\n",
    "       [4.9, 3.0, 1.4, 0.2, 'Iris-setosa'],\n",
    "       [4.7, 3.2, 1.3, 0.2, 'Iris-setosa'],\n",
    "       ... ...\n",
    "       [6.2, 3.4, 5.4, 2.3, 'Iris-virginica'],\n",
    "       [5.9, 3.0, 5.1, 1.8, 'Iris-virginica']], dtype=object)\n",
    "'''\n",
    "\n",
    "iris_data\n",
    "iris_preds = iris_data[:,0:4]\n",
    "targets = iris_data[:,4]\n",
    "features = ['sepal_length','sepal_width','petal_length','petal_width']"
   ]
  },
  {
   "cell_type": "code",
   "execution_count": 50,
   "metadata": {
    "collapsed": false
   },
   "outputs": [],
   "source": [
    "'''\n",
    "Part 2: Predictions\n",
    "\n",
    "Before we jump into making a general function,\n",
    "let's try to predict \n",
    "\n",
    "unknown = [ 6.3,  3.1 ,  5.1,  2.4] with 3 neighbors\n",
    "'''\n",
    "\n",
    "# define our variables\n",
    "unknown = [ 6.3,  3.1 ,  5.1,  2.4]\n",
    "k = 3\n",
    "unknown = np.array(unknown)"
   ]
  },
  {
   "cell_type": "code",
   "execution_count": 97,
   "metadata": {
    "collapsed": false
   },
   "outputs": [
    {
     "data": {
      "text/plain": [
       "[(4.4866468548349108, 'Iris-setosa'),\n",
       " (4.5276925690687078, 'Iris-setosa'),\n",
       " (4.6743983570080969, 'Iris-setosa'),\n",
       " (4.5486261662176632, 'Iris-setosa'),\n",
       " (4.524378410345447, 'Iris-setosa'),\n",
       " (4.1243181254602561, 'Iris-setosa'),\n",
       " (4.591296113299598, 'Iris-setosa'),\n",
       " (4.4249293779675165, 'Iris-setosa'),\n",
       " (4.7095647357266461, 'Iris-setosa'),\n",
       " (4.495553358597804, 'Iris-setosa'),\n",
       " (4.3554563480765127, 'Iris-setosa'),\n",
       " (4.4079473681068375, 'Iris-setosa'),\n",
       " (4.608687448721164, 'Iris-setosa'),\n",
       " (5.0299105359837162, 'Iris-setosa'),\n",
       " (4.5945620030640564, 'Iris-setosa'),\n",
       " (4.3600458713183281, 'Iris-setosa'),\n",
       " (4.4598206241955518, 'Iris-setosa'),\n",
       " (4.4384682042344288, 'Iris-setosa'),\n",
       " (4.1012193308819755, 'Iris-setosa'),\n",
       " (4.3931765272977588, 'Iris-setosa'),\n",
       " (4.1593268686170832, 'Iris-setosa'),\n",
       " (4.3312815655415431, 'Iris-setosa'),\n",
       " (4.9789557138018408, 'Iris-setosa'),\n",
       " (4.080441152620633, 'Iris-setosa'),\n",
       " (4.1737273509418413, 'Iris-setosa'),\n",
       " (4.3347433603386483, 'Iris-setosa'),\n",
       " (4.246174749112428, 'Iris-setosa'),\n",
       " (4.3783558557979267, 'Iris-setosa'),\n",
       " (4.4530888156424631, 'Iris-setosa'),\n",
       " (4.4339598554790722, 'Iris-setosa'),\n",
       " (4.3977266854592036, 'Iris-setosa'),\n",
       " (4.2261093218230874, 'Iris-setosa'),\n",
       " (4.5232731511594562, 'Iris-setosa'),\n",
       " (4.5144213361182839, 'Iris-setosa'),\n",
       " (4.495553358597804, 'Iris-setosa'),\n",
       " (4.6636895265444069, 'Iris-setosa'),\n",
       " (4.4810713004816156, 'Iris-setosa'),\n",
       " (4.495553358597804, 'Iris-setosa'),\n",
       " (4.7853944456021598, 'Iris-setosa'),\n",
       " (4.3965895873961216, 'Iris-setosa'),\n",
       " (4.5497252664309302, 'Iris-setosa'),\n",
       " (4.7675989764240869, 'Iris-setosa'),\n",
       " (4.7853944456021598, 'Iris-setosa'),\n",
       " (4.1641325627314023, 'Iris-setosa'),\n",
       " (4.0211938525766202, 'Iris-setosa'),\n",
       " (4.512205669071391, 'Iris-setosa'),\n",
       " (4.361192497471305, 'Iris-setosa'),\n",
       " (4.6292547996410827, 'Iris-setosa'),\n",
       " (4.3772137256478576, 'Iris-setosa'),\n",
       " (4.5011109739707589, 'Iris-setosa'),\n",
       " (1.2884098726725126, 'Iris-versicolor'),\n",
       " (1.0908712114635712, 'Iris-versicolor'),\n",
       " (1.1000000000000001, 'Iris-versicolor'),\n",
       " (1.9235384061671343, 'Iris-versicolor'),\n",
       " (1.0908712114635715, 'Iris-versicolor'),\n",
       " (1.4212670403551892, 'Iris-versicolor'),\n",
       " (0.91651513899116754, 'Iris-versicolor'),\n",
       " (2.7658633371878656, 'Iris-versicolor'),\n",
       " (1.260952021291849, 'Iris-versicolor'),\n",
       " (1.9519221295943132, 'Iris-versicolor'),\n",
       " (2.7239676943752467, 'Iris-versicolor'),\n",
       " (1.3379088160259647, 'Iris-versicolor'),\n",
       " (2.017424100183201, 'Iris-versicolor'),\n",
       " (1.1135528725660042, 'Iris-versicolor'),\n",
       " (1.9974984355438175, 'Iris-versicolor'),\n",
       " (1.2845232578665127, 'Iris-versicolor'),\n",
       " (1.2922847983320085, 'Iris-versicolor'),\n",
       " (1.8357559750685819, 'Iris-versicolor'),\n",
       " (1.4106735979665881, 'Iris-versicolor'),\n",
       " (1.994993734326, 'Iris-versicolor'),\n",
       " (0.78740078740118069, 'Iris-versicolor'),\n",
       " (1.5968719422671309, 'Iris-versicolor'),\n",
       " (1.0999999999999999, 'Iris-versicolor'),\n",
       " (1.3152946437965904, 'Iris-versicolor'),\n",
       " (1.3784048752090219, 'Iris-versicolor'),\n",
       " (1.2609520212918488, 'Iris-versicolor'),\n",
       " (1.1958260743101399, 'Iris-versicolor'),\n",
       " (0.81853527718724506, 'Iris-versicolor'),\n",
       " (1.1401754250991376, 'Iris-versicolor'),\n",
       " (2.2649503305812244, 'Iris-versicolor'),\n",
       " (2.1236760581595298, 'Iris-versicolor'),\n",
       " (2.2472205054244228, 'Iris-versicolor'),\n",
       " (1.8138357147217052, 'Iris-versicolor'),\n",
       " (0.94339811320566014, 'Iris-versicolor'),\n",
       " (1.4106735979665879, 'Iris-versicolor'),\n",
       " (1.0862780491200212, 'Iris-versicolor'),\n",
       " (1.0630145812734648, 'Iris-versicolor'),\n",
       " (1.5297058540778352, 'Iris-versicolor'),\n",
       " (1.6462077633154328, 'Iris-versicolor'),\n",
       " (1.8493242008906927, 'Iris-versicolor'),\n",
       " (1.6792855623746661, 'Iris-versicolor'),\n",
       " (1.1401754250991381, 'Iris-versicolor'),\n",
       " (1.7748239349298847, 'Iris-versicolor'),\n",
       " (2.7440845468024486, 'Iris-versicolor'),\n",
       " (1.6340134638368189, 'Iris-versicolor'),\n",
       " (1.618641405623864, 'Iris-versicolor'),\n",
       " (1.5556349186104039, 'Iris-versicolor'),\n",
       " (1.3784048752090219, 'Iris-versicolor'),\n",
       " (2.8106938645110389, 'Iris-versicolor'),\n",
       " (1.6309506430300089, 'Iris-versicolor'),\n",
       " (0.92736184954957068, 'Iris-virginica'),\n",
       " (0.81240384046359604, 'Iris-virginica'),\n",
       " (1.1747340124470733, 'Iris-virginica'),\n",
       " (0.80622577482985491, 'Iris-virginica'),\n",
       " (0.761577310586391, 'Iris-virginica'),\n",
       " (2.0099751242241779, 'Iris-virginica'),\n",
       " (1.780449381476485, 'Iris-virginica'),\n",
       " (1.6852299546352718, 'Iris-virginica'),\n",
       " (1.1704699910719627, 'Iris-virginica'),\n",
       " (1.4387494569938162, 'Iris-virginica'),\n",
       " (0.45825756949558405, 'Iris-virginica'),\n",
       " (0.67823299831252692, 'Iris-virginica'),\n",
       " (0.71414284285428509, 'Iris-virginica'),\n",
       " (0.94339811320566014, 'Iris-virginica'),\n",
       " (0.58309518948453021, 'Iris-virginica'),\n",
       " (0.26457513110645947, 'Iris-virginica'),\n",
       " (0.75498344352707514, 'Iris-virginica'),\n",
       " (2.2472205054244236, 'Iris-virginica'),\n",
       " (2.336664289109585, 'Iris-virginica'),\n",
       " (1.3114877048603999, 'Iris-virginica'),\n",
       " (0.86023252670426342, 'Iris-virginica'),\n",
       " (0.88317608663278468, 'Iris-virginica'),\n",
       " (2.184032966784156, 'Iris-virginica'),\n",
       " (0.74833147735478789, 'Iris-virginica'),\n",
       " (0.80622577482985536, 'Iris-virginica'),\n",
       " (1.4106735979665888, 'Iris-virginica'),\n",
       " (0.74161984870956621, 'Iris-virginica'),\n",
       " (0.67082039324993659, 'Iris-virginica'),\n",
       " (0.66332495807108005, 'Iris-virginica'),\n",
       " (1.3964240043768943, 'Iris-virginica'),\n",
       " (1.5968719422671316, 'Iris-virginica'),\n",
       " (2.2135943621178664, 'Iris-virginica'),\n",
       " (0.62449979983983994, 'Iris-virginica'),\n",
       " (0.94868329805051377, 'Iris-virginica'),\n",
       " (1.2409673645990857, 'Iris-virginica'),\n",
       " (1.7262676501632073, 'Iris-virginica'),\n",
       " (0.58309518948452999, 'Iris-virginica'),\n",
       " (0.72801098892805205, 'Iris-virginica'),\n",
       " (0.74161984870956599, 'Iris-virginica'),\n",
       " (0.73484692283495401, 'Iris-virginica'),\n",
       " (0.64031242374328512, 'Iris-virginica'),\n",
       " (0.60827625302982247, 'Iris-virginica'),\n",
       " (0.81240384046359604, 'Iris-virginica'),\n",
       " (0.95393920141694621, 'Iris-virginica'),\n",
       " (0.75498344352707547, 'Iris-virginica'),\n",
       " (0.43588989435406783, 'Iris-virginica'),\n",
       " (0.78740078740118113, 'Iris-virginica'),\n",
       " (0.46904157598234308, 'Iris-virginica'),\n",
       " (0.44721359549995821, 'Iris-virginica'),\n",
       " (0.72801098892805138, 'Iris-virginica')]"
      ]
     },
     "execution_count": 97,
     "metadata": {},
     "output_type": "execute_result"
    }
   ],
   "source": [
    "# Make a a list \"distances\" consisting of tuples\n",
    "# Each tuple should be\n",
    "# (euc_distance(unknown, data_point), species)\n",
    "# for each data_point in iris_data\n",
    "# iris.target_names[iris.target]\n",
    "distances = []\n",
    "euc_dist = []\n",
    "'''\n",
    "== [(4.4866468548349108, 'setosa'),\n",
    " (4.5276925690687078, 'setosa'),\n",
    " (4.6743983570080969, 'setosa'),\n",
    " ...\n",
    " (0.44721359549995821, 'virginica'),\n",
    " (0.72801098892805138, 'virginica')]\n",
    "\n",
    "'''\n",
    "\n",
    "for i in iris_preds:\n",
    "    disti = euclidean_distance(unknown, i)\n",
    "    euc_dist = np.append(euc_dist,disti)\n",
    "    distances = zip(euc_dist,targets)\n",
    "\n",
    "distances"
   ]
  },
  {
   "cell_type": "code",
   "execution_count": 88,
   "metadata": {
    "collapsed": false
   },
   "outputs": [
    {
     "data": {
      "text/plain": [
       "2"
      ]
     },
     "execution_count": 88,
     "metadata": {},
     "output_type": "execute_result"
    }
   ],
   "source": [
    "# Grab the nearest k neighbors\n",
    "\n",
    "# Now we need to take the most frequently occuring flower\n",
    "# in those k neighbors\n",
    "# To do this, Make a function that takes in a list, and returns the most commonly\n",
    "# occuring object. If there is a tie, return either of them\n",
    "\n",
    "# given a list l, this code will spit back the mode\n",
    "from collections import Counter\n",
    "l = [1,2,3,4,3,2,2,5,8,2,2,2,5,9,2,2,5,5,3,2]\n",
    "Counter(l).most_common(1)\n",
    "def most_frequent(l):\n",
    "    mf = Counter(l).most_common(1)\n",
    "    mf0 = mf[0][0]\n",
    "    return mf0 # == 2\n",
    "\n",
    "most_frequent(l)\n"
   ]
  },
  {
   "cell_type": "code",
   "execution_count": 95,
   "metadata": {
    "collapsed": false
   },
   "outputs": [
    {
     "data": {
      "text/plain": [
       "[(0.26457513110645947, 'Iris-virginica'),\n",
       " (0.43588989435406783, 'Iris-virginica'),\n",
       " (0.44721359549995821, 'Iris-virginica')]"
      ]
     },
     "execution_count": 95,
     "metadata": {},
     "output_type": "execute_result"
    }
   ],
   "source": [
    "# Create a list called nearest with the K nearest neighbors\n",
    "nearest = sorted(distances)[0:3]\n",
    "nearest"
   ]
  },
  {
   "cell_type": "code",
   "execution_count": 96,
   "metadata": {
    "collapsed": false
   },
   "outputs": [
    {
     "data": {
      "text/plain": [
       "'Iris-virginica'"
      ]
     },
     "execution_count": 96,
     "metadata": {},
     "output_type": "execute_result"
    }
   ],
   "source": [
    "# use it to find the most frequent occuring flower in nearest\n",
    "# note that the species is in the 1th index\n",
    "most_frequent([n[1] for n in nearest])"
   ]
  },
  {
   "cell_type": "code",
   "execution_count": 124,
   "metadata": {
    "collapsed": false
   },
   "outputs": [
    {
     "data": {
      "text/plain": [
       "(0.0, 'Iris-virginica')"
      ]
     },
     "execution_count": 124,
     "metadata": {},
     "output_type": "execute_result"
    }
   ],
   "source": [
    "'''\n",
    "Time to put it in a function so we \n",
    "can apply the prediction\n",
    "to each row in our data set!\n",
    "'''    \n",
    "# will default to 3 neighbors\n",
    "'''\n",
    "    Input:\n",
    "        unknown  == four attributes of an unknown flower\n",
    "        k        == the number of neighbors used\n",
    "    Output:\n",
    "        A prediction of the species of flower (str)\n",
    "'''\n",
    "# I am assuming iris_preds i salready defined \n",
    "def predict(unknown, k = 3):\n",
    "    # find the distances between unknown and neighbors.\n",
    "    euc_dist = []\n",
    "    for i in iris_preds:\n",
    "        disti = euclidean_distance(unknown, i)\n",
    "        euc_dist = np.append(euc_dist,disti)\n",
    "        distances = zip(euc_dist,targets)\n",
    "        \n",
    "    # find nearest k neighbors \n",
    "    nearest = sorted(distances)[0:k]\n",
    "    \n",
    "    # return mode of nearest \n",
    "    pred = most_frequent(nearest)\n",
    "    # print pred[1]  # return name of flower\n",
    "    return pred\n",
    "\n",
    "\n",
    "predict([ 5.8,  2.7,  5.1,  1.9]) # == 'virginica'\n"
   ]
  },
  {
   "cell_type": "code",
   "execution_count": 134,
   "metadata": {
    "collapsed": false
   },
   "outputs": [
    {
     "data": {
      "text/plain": [
       "array([['0.1', 'Iris-setosa'],\n",
       "       ['0.141421356237', 'Iris-setosa'],\n",
       "       ['0.244948974278', 'Iris-setosa'],\n",
       "       ['0.0', 'Iris-setosa'],\n",
       "       ['0.0', 'Iris-setosa'],\n",
       "       ['0.331662479036', 'Iris-setosa'],\n",
       "       ['0.22360679775', 'Iris-setosa'],\n",
       "       ['0.1', 'Iris-setosa'],\n",
       "       ['0.3', 'Iris-setosa'],\n",
       "       ['0.0', 'Iris-setosa'],\n",
       "       ['0.1', 'Iris-setosa'],\n",
       "       ['0.22360679775', 'Iris-setosa'],\n",
       "       ['0.0', 'Iris-setosa'],\n",
       "       ['0.316227766017', 'Iris-setosa'],\n",
       "       ['0.469041575982', 'Iris-setosa'],\n",
       "       ['0.360555127546', 'Iris-setosa'],\n",
       "       ['0.360555127546', 'Iris-setosa'],\n",
       "       ['0.1', 'Iris-setosa'],\n",
       "       ['0.331662479036', 'Iris-setosa'],\n",
       "       ['0.141421356237', 'Iris-setosa'],\n",
       "       ['0.3', 'Iris-setosa'],\n",
       "       ['0.244948974278', 'Iris-setosa'],\n",
       "       ['0.509901951359', 'Iris-setosa'],\n",
       "       ['0.2', 'Iris-setosa'],\n",
       "       ['0.3', 'Iris-setosa'],\n",
       "       ['0.2', 'Iris-setosa'],\n",
       "       ['0.22360679775', 'Iris-setosa'],\n",
       "       ['0.141421356237', 'Iris-setosa'],\n",
       "       ['0.141421356237', 'Iris-setosa'],\n",
       "       ['0.0', 'Iris-setosa'],\n",
       "       ['0.0', 'Iris-setosa'],\n",
       "       ['0.3', 'Iris-setosa'],\n",
       "       ['0.346410161514', 'Iris-setosa'],\n",
       "       ['0.360555127546', 'Iris-setosa'],\n",
       "       ['0.0', 'Iris-setosa'],\n",
       "       ['0.3', 'Iris-setosa'],\n",
       "       ['0.316227766017', 'Iris-setosa'],\n",
       "       ['0.0', 'Iris-setosa'],\n",
       "       ['0.2', 'Iris-setosa'],\n",
       "       ['0.1', 'Iris-setosa'],\n",
       "       ['0.0', 'Iris-setosa'],\n",
       "       ['0.62449979984', 'Iris-setosa'],\n",
       "       ['0.22360679775', 'Iris-setosa'],\n",
       "       ['0.22360679775', 'Iris-setosa'],\n",
       "       ['0.360555127546', 'Iris-setosa'],\n",
       "       ['0.2', 'Iris-setosa'],\n",
       "       ['0.244948974278', 'Iris-setosa'],\n",
       "       ['0.141421356237', 'Iris-setosa'],\n",
       "       ['0.22360679775', 'Iris-setosa'],\n",
       "       ['0.0', 'Iris-setosa'],\n",
       "       ['0.331662479036', 'Iris-versicolor'],\n",
       "       ['0.316227766017', 'Iris-versicolor'],\n",
       "       ['0.282842712475', 'Iris-versicolor'],\n",
       "       ['0.3', 'Iris-versicolor'],\n",
       "       ['0.316227766017', 'Iris-versicolor'],\n",
       "       ['0.3', 'Iris-versicolor'],\n",
       "       ['0.374165738677', 'Iris-versicolor'],\n",
       "       ['0.387298334621', 'Iris-versicolor'],\n",
       "       ['0.244948974278', 'Iris-versicolor'],\n",
       "       ['0.387298334621', 'Iris-versicolor'],\n",
       "       ['0.360555127546', 'Iris-versicolor'],\n",
       "       ['0.3', 'Iris-versicolor'],\n",
       "       ['0.519615242271', 'Iris-versicolor'],\n",
       "       ['0.141421356237', 'Iris-versicolor'],\n",
       "       ['0.0', 'Iris-versicolor'],\n",
       "       ['0.316227766017', 'Iris-versicolor'],\n",
       "       ['0.3', 'Iris-versicolor'],\n",
       "       ['0.282842712475', 'Iris-versicolor'],\n",
       "       ['0.264575131106', 'Iris-versicolor'],\n",
       "       ['0.173205080757', 'Iris-versicolor'],\n",
       "       ['0.0', 'Iris-versicolor'],\n",
       "       ['0.331662479036', 'Iris-versicolor'],\n",
       "       ['0.360555127546', 'Iris-virginica'],\n",
       "       ['0.3', 'Iris-versicolor'],\n",
       "       ['0.264575131106', 'Iris-versicolor'],\n",
       "       ['0.141421356237', 'Iris-versicolor'],\n",
       "       ['0.316227766017', 'Iris-versicolor'],\n",
       "       ['0.316227766017', 'Iris-versicolor'],\n",
       "       ['0.0', 'Iris-versicolor'],\n",
       "       ['0.346410161514', 'Iris-versicolor'],\n",
       "       ['0.173205080757', 'Iris-versicolor'],\n",
       "       ['0.141421356237', 'Iris-versicolor'],\n",
       "       ['0.141421356237', 'Iris-versicolor'],\n",
       "       ['0.360555127546', 'Iris-virginica'],\n",
       "       ['0.0', 'Iris-versicolor'],\n",
       "       ['0.374165738677', 'Iris-versicolor'],\n",
       "       ['0.316227766017', 'Iris-versicolor'],\n",
       "       ['0.574456264654', 'Iris-versicolor'],\n",
       "       ['0.173205080757', 'Iris-versicolor'],\n",
       "       ['0.0', 'Iris-versicolor'],\n",
       "       ['0.316227766017', 'Iris-versicolor'],\n",
       "       ['0.141421356237', 'Iris-versicolor'],\n",
       "       ['0.141421356237', 'Iris-versicolor'],\n",
       "       ['0.360555127546', 'Iris-versicolor'],\n",
       "       ['0.173205080757', 'Iris-versicolor'],\n",
       "       ['0.173205080757', 'Iris-versicolor'],\n",
       "       ['0.141421356237', 'Iris-versicolor'],\n",
       "       ['0.331662479036', 'Iris-versicolor'],\n",
       "       ['0.387298334621', 'Iris-versicolor'],\n",
       "       ['0.173205080757', 'Iris-versicolor'],\n",
       "       ['0.424264068712', 'Iris-virginica'],\n",
       "       ['0.0', 'Iris-virginica'],\n",
       "       ['0.0', 'Iris-virginica'],\n",
       "       ['0.244948974278', 'Iris-virginica'],\n",
       "       ['0.316227766017', 'Iris-virginica'],\n",
       "       ['0.529150262213', 'Iris-virginica'],\n",
       "       ['0.0', 'Iris-virginica'],\n",
       "       ['0.0', 'Iris-virginica'],\n",
       "       ['0.0', 'Iris-virginica'],\n",
       "       ['0.632455532034', 'Iris-virginica'],\n",
       "       ['0.374165738677', 'Iris-virginica'],\n",
       "       ['0.346410161514', 'Iris-virginica'],\n",
       "       ['0.173205080757', 'Iris-virginica'],\n",
       "       ['0.264575131106', 'Iris-virginica'],\n",
       "       ['0.489897948557', 'Iris-virginica'],\n",
       "       ['0.374165738677', 'Iris-virginica'],\n",
       "       ['0.244948974278', 'Iris-virginica'],\n",
       "       ['0.818535277187', 'Iris-virginica'],\n",
       "       ['0.547722557505', 'Iris-virginica'],\n",
       "       ['0.519615242271', 'Iris-versicolor'],\n",
       "       ['0.0', 'Iris-virginica'],\n",
       "       ['0.316227766017', 'Iris-virginica'],\n",
       "       ['0.0', 'Iris-virginica'],\n",
       "       ['0.244948974278', 'Iris-virginica'],\n",
       "       ['0.316227766017', 'Iris-virginica'],\n",
       "       ['0.346410161514', 'Iris-virginica'],\n",
       "       ['0.244948974278', 'Iris-virginica'],\n",
       "       ['0.244948974278', 'Iris-virginica'],\n",
       "       ['0.316227766017', 'Iris-virginica'],\n",
       "       ['0.346410161514', 'Iris-virginica'],\n",
       "       ['0.458257569496', 'Iris-virginica'],\n",
       "       ['0.0', 'Iris-virginica'],\n",
       "       ['0.0', 'Iris-virginica'],\n",
       "       ['0.331662479036', 'Iris-versicolor'],\n",
       "       ['0.556776436283', 'Iris-versicolor'],\n",
       "       ['0.547722557505', 'Iris-virginica'],\n",
       "       ['0.244948974278', 'Iris-virginica'],\n",
       "       ['0.244948974278', 'Iris-virginica'],\n",
       "       ['0.0', 'Iris-virginica'],\n",
       "       ['0.173205080757', 'Iris-virginica'],\n",
       "       ['0.244948974278', 'Iris-virginica'],\n",
       "       ['0.244948974278', 'Iris-virginica'],\n",
       "       ['0.0', 'Iris-virginica'],\n",
       "       ['0.316227766017', 'Iris-virginica'],\n",
       "       ['0.244948974278', 'Iris-virginica'],\n",
       "       ['0.244948974278', 'Iris-virginica'],\n",
       "       ['0.244948974278', 'Iris-virginica'],\n",
       "       ['0.346410161514', 'Iris-virginica'],\n",
       "       ['0.244948974278', 'Iris-virginica'],\n",
       "       ['0.316227766017', 'Iris-virginica']], \n",
       "      dtype='|S32')"
      ]
     },
     "execution_count": 134,
     "metadata": {},
     "output_type": "execute_result"
    }
   ],
   "source": [
    "'''\n",
    "Putting it all together\n",
    "'''\n",
    "\n",
    "# predict each row\n",
    "# Note I use row[-1] because the last element of each row \n",
    "# is the actual species\n",
    "predictions = np.array([predict(row[:4]) for row in iris_data])\n",
    "# predictions[:,-1]\n",
    "predictions"
   ]
  },
  {
   "cell_type": "code",
   "execution_count": 146,
   "metadata": {
    "collapsed": false
   },
   "outputs": [
    {
     "data": {
      "text/plain": [
       "0.96666666666666667"
      ]
     },
     "execution_count": 146,
     "metadata": {},
     "output_type": "execute_result"
    }
   ],
   "source": [
    "# this is the last column of the iris_data\n",
    "# iris_target = iris_data[:,-1]\n",
    "actual = np.array([row[-1] for row in iris_data])\n",
    "\n",
    "# accuracy of the model\n",
    "np.mean(predictions[:,1] == actual)"
   ]
  },
  {
   "cell_type": "code",
   "execution_count": 148,
   "metadata": {
    "collapsed": false
   },
   "outputs": [
    {
     "data": {
      "text/plain": [
       "0.93999999999999995"
      ]
     },
     "execution_count": 148,
     "metadata": {},
     "output_type": "execute_result"
    }
   ],
   "source": [
    "# now with k == 5\n",
    "predictions = np.array([predict(row[:4], k = 5) for row in iris_data])\n",
    "\n",
    "\n",
    "# this is the last column of the iris_data\n",
    "actual = np.array([row[-1] for row in iris_data])\n",
    "\n",
    "# accuracy of the model\n",
    "np.mean(predictions[:,1] == actual)"
   ]
  },
  {
   "cell_type": "code",
   "execution_count": 154,
   "metadata": {
    "collapsed": false
   },
   "outputs": [
    {
     "data": {
      "text/plain": [
       "0.98666666666666669"
      ]
     },
     "execution_count": 154,
     "metadata": {},
     "output_type": "execute_result"
    }
   ],
   "source": [
    "# now with k == 2\n",
    "predictions = np.array([predict(row[:4], k = 2) for row in iris_data])\n",
    "predictions\n",
    "\n",
    "# this is the last column of the iris_data\n",
    "actual = np.array([row[-1] for row in iris_data])\n",
    "\n",
    "# accuracy of the model\n",
    "np.mean(predictions[:,1] == actual)"
   ]
  },
  {
   "cell_type": "code",
   "execution_count": 155,
   "metadata": {
    "collapsed": false
   },
   "outputs": [
    {
     "data": {
      "text/plain": [
       "1.0"
      ]
     },
     "execution_count": 155,
     "metadata": {},
     "output_type": "execute_result"
    }
   ],
   "source": [
    "# now with k == 1\n",
    "predictions = np.array([predict(row[:4], k = 1) for row in iris_data])\n",
    "\n",
    "\n",
    "# this is the last column of the iris_data\n",
    "actual = np.array([row[-1] for row in iris_data])\n",
    "\n",
    "# accuracy of the model\n",
    "np.mean(predictions[:,1] == actual)\n",
    "\n",
    "# WHAAATTTTTT"
   ]
  },
  {
   "cell_type": "code",
   "execution_count": null,
   "metadata": {
    "collapsed": true
   },
   "outputs": [],
   "source": []
  }
 ],
 "metadata": {
  "kernelspec": {
   "display_name": "Python 2",
   "language": "python",
   "name": "python2"
  },
  "language_info": {
   "codemirror_mode": {
    "name": "ipython",
    "version": 2
   },
   "file_extension": ".py",
   "mimetype": "text/x-python",
   "name": "python",
   "nbconvert_exporter": "python",
   "pygments_lexer": "ipython2",
   "version": "2.7.11"
  }
 },
 "nbformat": 4,
 "nbformat_minor": 0
}
