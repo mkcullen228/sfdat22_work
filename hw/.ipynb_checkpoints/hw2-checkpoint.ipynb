{
 "cells": [
  {
   "cell_type": "code",
   "execution_count": 421,
   "metadata": {
    "collapsed": false
   },
   "outputs": [],
   "source": [
    "import tweepy       # python wrapper for twitter api\n",
    "import json\n",
    "import time\n",
    "import requests\n",
    "import pandas as pd\n",
    "import numpy as np\n",
    "import scipy as sp\n",
    "from sklearn.cross_validation import train_test_split\n",
    "from sklearn.feature_extraction.text import CountVectorizer, TfidfVectorizer\n",
    "from sklearn.linear_model import LogisticRegression\n",
    "from sklearn import metrics"
   ]
  },
  {
   "cell_type": "code",
   "execution_count": 422,
   "metadata": {
    "collapsed": false
   },
   "outputs": [],
   "source": [
    "# this is my own personal twitter api information\n",
    "# if you could be so kind as to sign up yourself on both twitter and mashape that'd be great :)\n",
    "# It's FREEEEEEE\n",
    "# api_key = 'g5uPIpw80nULQI1gfklv2zrh4'\n",
    "# api_secret = 'cOWvNWxYvPmEZ0ArZVeeVVvJu41QYHdUS2GpqIKtSQ1isd5PJy'\n",
    "# access_token = '49722956-TWl8J0aAS6KTdcbz3ppZ7NfqZEmrwmbsb9cYPNELG'\n",
    "# access_secret = '3eqrVssF3ppv23qyflyAto8wLEiYRA8sXEPSghuOJWTub'\n",
    "\n",
    "## MINE \n",
    "api_key = 'KC3FTovDZdYNQsiuNiufmtx3p'\n",
    "api_secret = 'e4RF3DTC2JlQ7AsYMugRIa6nuq6SXWS5WH2YRb28d7TkZBTCb8'\n",
    "access_token = '3091270306-a9Nsl1r6kwonBVpVKQ5Oa0e7G4Cd03DHzkFWx8K'\n",
    "access_secret = 'K9uiD8TxVWHuflE9jMfeYrMkAwumRA5TG4YkImldzoq27'\n"
   ]
  },
  {
   "cell_type": "code",
   "execution_count": 423,
   "metadata": {
    "collapsed": false
   },
   "outputs": [],
   "source": [
    "# Documentation is your friend! http://docs.tweepy.org/en/v3.1.0/\n",
    "auth = tweepy.OAuthHandler(api_key, api_secret)\n",
    "auth.set_access_token(access_token, access_secret)\n",
    "api = tweepy.API(auth) # returns a tweepy authorization handler object"
   ]
  },
  {
   "cell_type": "code",
   "execution_count": 424,
   "metadata": {
    "collapsed": false
   },
   "outputs": [],
   "source": [
    "# 1. Use Twitter API to stream and store tweets (300 per candidate)\n",
    "# explain geocode is doing\n",
    "\n",
    "# geocode is denoting the location of the origin of the tweets you are searching for. \n",
    "#This is for 50mi outside of San Francisco. \n",
    "\n",
    "bernie_tweets =  api.search(q=\"#berniesanders\", count=100, geocode=\"37.781157,-122.398720,50mi\") + api.search(q='#bernie', count=100, geocode=\"37.781157,-122.398720,50mi\") + api.search(q='#FeelTheBern', count=100, geocode=\"37.781157,-122.398720,50mi\")\n",
    "hillary_tweets = api.search(q='#ImWithHer', count=100, geocode=\"37.781157,-122.398720,50mi\") + api.search(q='#hillaryclinton', count=100, geocode=\"37.781157,-122.398720,50mi\") + api.search(q='#hillary2016', count=100, geocode=\"37.781157,-122.398720,50mi\")\n",
    "the_donald_tweets = api.search(q='#donaldtrump', count=100, geocode=\"37.781157,-122.398720,50mi\") + api.search(q='#trump2016', count=100, geocode=\"37.781157,-122.398720,50mi\") + api.search(q='#trump', count=100, geocode=\"37.781157,-122.398720,50mi\") + api.search(q='#makeamericagreatagain', count=100, geocode=\"37.781157,-122.398720,50mi\")"
   ]
  },
  {
   "cell_type": "code",
   "execution_count": 425,
   "metadata": {
    "collapsed": false
   },
   "outputs": [
    {
     "data": {
      "text/plain": [
       "Status(contributors=None, truncated=False, text=u\"RT @JacloPac: #DonaldTrump as President!  How things have changed, it wasn't long ago....... https://t.co/Pkdi1idGe8\", is_quote_status=False, in_reply_to_status_id=None, id=731651330889015297, favorite_count=0, _api=<tweepy.api.API object at 0x126ce6c50>, author=User(follow_request_sent=False, has_extended_profile=False, profile_use_background_image=True, _json={u'follow_request_sent': False, u'has_extended_profile': False, u'profile_use_background_image': True, u'default_profile_image': False, u'id': 414638265, u'profile_background_image_url_https': u'https://abs.twimg.com/images/themes/theme1/bg.png', u'verified': False, u'profile_text_color': u'333333', u'profile_image_url_https': u'https://pbs.twimg.com/profile_images/731230207793876993/9SeyKmh0_normal.jpg', u'profile_sidebar_fill_color': u'DDEEF6', u'entities': {u'description': {u'urls': []}}, u'followers_count': 1186, u'profile_sidebar_border_color': u'C0DEED', u'id_str': u'414638265', u'profile_background_color': u'C0DEED', u'listed_count': 187, u'is_translation_enabled': False, u'utc_offset': None, u'statuses_count': 57606, u'description': u\"Single Mom with 1 college graduate and 1 undergrad away at school. US Navy (Ret) BA '02 Writer, Artist, Activist, Loves Jazz & foreign food.\", u'friends_count': 2172, u'location': u'San Antonio TX', u'profile_link_color': u'0084B4', u'profile_image_url': u'http://pbs.twimg.com/profile_images/731230207793876993/9SeyKmh0_normal.jpg', u'following': False, u'geo_enabled': True, u'profile_banner_url': u'https://pbs.twimg.com/profile_banners/414638265/1405676939', u'profile_background_image_url': u'http://abs.twimg.com/images/themes/theme1/bg.png', u'screen_name': u'Kenikewahine78', u'lang': u'en', u'profile_background_tile': False, u'favourites_count': 7295, u'name': u'Kenike Marceau', u'notifications': False, u'url': None, u'created_at': u'Thu Nov 17 09:22:27 +0000 2011', u'contributors_enabled': False, u'time_zone': None, u'protected': False, u'default_profile': True, u'is_translator': False}, time_zone=None, id=414638265, _api=<tweepy.api.API object at 0x126ce6c50>, verified=False, profile_text_color=u'333333', profile_image_url_https=u'https://pbs.twimg.com/profile_images/731230207793876993/9SeyKmh0_normal.jpg', profile_sidebar_fill_color=u'DDEEF6', is_translator=False, geo_enabled=True, entities={u'description': {u'urls': []}}, followers_count=1186, protected=False, id_str=u'414638265', default_profile_image=False, listed_count=187, lang=u'en', utc_offset=None, statuses_count=57606, description=u\"Single Mom with 1 college graduate and 1 undergrad away at school. US Navy (Ret) BA '02 Writer, Artist, Activist, Loves Jazz & foreign food.\", friends_count=2172, profile_link_color=u'0084B4', profile_image_url=u'http://pbs.twimg.com/profile_images/731230207793876993/9SeyKmh0_normal.jpg', notifications=False, profile_background_image_url_https=u'https://abs.twimg.com/images/themes/theme1/bg.png', profile_background_color=u'C0DEED', profile_banner_url=u'https://pbs.twimg.com/profile_banners/414638265/1405676939', profile_background_image_url=u'http://abs.twimg.com/images/themes/theme1/bg.png', name=u'Kenike Marceau', is_translation_enabled=False, profile_background_tile=False, favourites_count=7295, screen_name=u'Kenikewahine78', url=None, created_at=datetime.datetime(2011, 11, 17, 9, 22, 27), contributors_enabled=False, location=u'San Antonio TX', profile_sidebar_border_color=u'C0DEED', default_profile=True, following=False), _json={u'contributors': None, u'truncated': False, u'text': u\"RT @JacloPac: #DonaldTrump as President!  How things have changed, it wasn't long ago....... https://t.co/Pkdi1idGe8\", u'is_quote_status': False, u'in_reply_to_status_id': None, u'id': 731651330889015297, u'favorite_count': 0, u'entities': {u'symbols': [], u'user_mentions': [{u'id': 3229506722, u'indices': [3, 12], u'id_str': u'3229506722', u'screen_name': u'JacloPac', u'name': u'JacloPac'}], u'hashtags': [{u'indices': [14, 26], u'text': u'DonaldTrump'}], u'urls': [], u'media': [{u'source_user_id': 3229506722, u'source_status_id_str': u'731598692067598336', u'expanded_url': u'http://twitter.com/JacloPac/status/731598692067598336/photo/1', u'display_url': u'pic.twitter.com/Pkdi1idGe8', u'url': u'https://t.co/Pkdi1idGe8', u'media_url_https': u'https://pbs.twimg.com/media/CicpIkAVEAAZATe.jpg', u'source_user_id_str': u'3229506722', u'source_status_id': 731598692067598336, u'id_str': u'731598691551744000', u'sizes': {u'small': {u'h': 176, u'resize': u'fit', u'w': 224}, u'large': {u'h': 176, u'resize': u'fit', u'w': 224}, u'medium': {u'h': 176, u'resize': u'fit', u'w': 224}, u'thumb': {u'h': 150, u'resize': u'crop', u'w': 150}}, u'indices': [93, 116], u'type': u'photo', u'id': 731598691551744000, u'media_url': u'http://pbs.twimg.com/media/CicpIkAVEAAZATe.jpg'}]}, u'retweeted': False, u'coordinates': None, u'source': u'<a href=\"http://twitter.com/download/iphone\" rel=\"nofollow\">Twitter for iPhone</a>', u'in_reply_to_screen_name': None, u'in_reply_to_user_id': None, u'retweet_count': 32, u'id_str': u'731651330889015297', u'favorited': False, u'retweeted_status': {u'contributors': None, u'truncated': False, u'text': u\"#DonaldTrump as President!  How things have changed, it wasn't long ago....... https://t.co/Pkdi1idGe8\", u'is_quote_status': False, u'in_reply_to_status_id': None, u'id': 731598692067598336, u'favorite_count': 38, u'entities': {u'symbols': [], u'user_mentions': [], u'hashtags': [{u'indices': [0, 12], u'text': u'DonaldTrump'}], u'urls': [], u'media': [{u'expanded_url': u'http://twitter.com/JacloPac/status/731598692067598336/photo/1', u'display_url': u'pic.twitter.com/Pkdi1idGe8', u'url': u'https://t.co/Pkdi1idGe8', u'media_url_https': u'https://pbs.twimg.com/media/CicpIkAVEAAZATe.jpg', u'id_str': u'731598691551744000', u'sizes': {u'small': {u'h': 176, u'resize': u'fit', u'w': 224}, u'large': {u'h': 176, u'resize': u'fit', u'w': 224}, u'medium': {u'h': 176, u'resize': u'fit', u'w': 224}, u'thumb': {u'h': 150, u'resize': u'crop', u'w': 150}}, u'indices': [79, 102], u'type': u'photo', u'id': 731598691551744000, u'media_url': u'http://pbs.twimg.com/media/CicpIkAVEAAZATe.jpg'}]}, u'retweeted': False, u'coordinates': None, u'source': u'<a href=\"http://twitter.com\" rel=\"nofollow\">Twitter Web Client</a>', u'in_reply_to_screen_name': None, u'in_reply_to_user_id': None, u'retweet_count': 32, u'id_str': u'731598692067598336', u'favorited': False, u'user': {u'follow_request_sent': False, u'has_extended_profile': False, u'profile_use_background_image': True, u'default_profile_image': False, u'id': 3229506722, u'profile_background_image_url_https': u'https://abs.twimg.com/images/themes/theme1/bg.png', u'verified': False, u'profile_text_color': u'333333', u'profile_image_url_https': u'https://pbs.twimg.com/profile_images/604180947202760705/3OQ1RLlC_normal.jpg', u'profile_sidebar_fill_color': u'DDEEF6', u'entities': {u'url': {u'urls': [{u'url': u'http://t.co/jOhlHZgW3X', u'indices': [0, 22], u'expanded_url': u'http://www.jobsamericancanliveon.myevent.com/3/donate.htm', u'display_url': u'jobsamericancanliveon.myevent.com/3/donate.htm'}]}, u'description': {u'urls': []}}, u'followers_count': 13574, u'profile_sidebar_border_color': u'C0DEED', u'id_str': u'3229506722', u'profile_background_color': u'C0DEED', u'listed_count': 82, u'is_translation_enabled': False, u'utc_offset': -25200, u'statuses_count': 2293, u'description': u'Jobs Americans Can Live On! A Nonprofit, Leveraging Washington via votes 2 end #wageinequality #corpwelfare & provide #livablewage legislation.  Concordia', u'friends_count': 11467, u'location': u'Berkeley, California', u'profile_link_color': u'0084B4', u'profile_image_url': u'http://pbs.twimg.com/profile_images/604180947202760705/3OQ1RLlC_normal.jpg', u'following': False, u'geo_enabled': False, u'profile_banner_url': u'https://pbs.twimg.com/profile_banners/3229506722/1434159703', u'profile_background_image_url': u'http://abs.twimg.com/images/themes/theme1/bg.png', u'screen_name': u'JacloPac', u'lang': u'en', u'profile_background_tile': False, u'favourites_count': 1317, u'name': u'JacloPac', u'notifications': False, u'url': u'http://t.co/jOhlHZgW3X', u'created_at': u'Fri May 29 06:56:37 +0000 2015', u'contributors_enabled': False, u'time_zone': u'Pacific Time (US & Canada)', u'protected': False, u'default_profile': True, u'is_translator': False}, u'geo': None, u'in_reply_to_user_id_str': None, u'possibly_sensitive': False, u'lang': u'en', u'created_at': u'Sat May 14 21:34:55 +0000 2016', u'in_reply_to_status_id_str': None, u'place': None, u'metadata': {u'iso_language_code': u'en', u'result_type': u'recent'}}, u'user': {u'follow_request_sent': False, u'has_extended_profile': False, u'profile_use_background_image': True, u'default_profile_image': False, u'id': 414638265, u'profile_background_image_url_https': u'https://abs.twimg.com/images/themes/theme1/bg.png', u'verified': False, u'profile_text_color': u'333333', u'profile_image_url_https': u'https://pbs.twimg.com/profile_images/731230207793876993/9SeyKmh0_normal.jpg', u'profile_sidebar_fill_color': u'DDEEF6', u'entities': {u'description': {u'urls': []}}, u'followers_count': 1186, u'profile_sidebar_border_color': u'C0DEED', u'id_str': u'414638265', u'profile_background_color': u'C0DEED', u'listed_count': 187, u'is_translation_enabled': False, u'utc_offset': None, u'statuses_count': 57606, u'description': u\"Single Mom with 1 college graduate and 1 undergrad away at school. US Navy (Ret) BA '02 Writer, Artist, Activist, Loves Jazz & foreign food.\", u'friends_count': 2172, u'location': u'San Antonio TX', u'profile_link_color': u'0084B4', u'profile_image_url': u'http://pbs.twimg.com/profile_images/731230207793876993/9SeyKmh0_normal.jpg', u'following': False, u'geo_enabled': True, u'profile_banner_url': u'https://pbs.twimg.com/profile_banners/414638265/1405676939', u'profile_background_image_url': u'http://abs.twimg.com/images/themes/theme1/bg.png', u'screen_name': u'Kenikewahine78', u'lang': u'en', u'profile_background_tile': False, u'favourites_count': 7295, u'name': u'Kenike Marceau', u'notifications': False, u'url': None, u'created_at': u'Thu Nov 17 09:22:27 +0000 2011', u'contributors_enabled': False, u'time_zone': None, u'protected': False, u'default_profile': True, u'is_translator': False}, u'geo': None, u'in_reply_to_user_id_str': None, u'possibly_sensitive': False, u'lang': u'en', u'created_at': u'Sun May 15 01:04:05 +0000 2016', u'in_reply_to_status_id_str': None, u'place': None, u'metadata': {u'iso_language_code': u'en', u'result_type': u'recent'}}, coordinates=None, entities={u'symbols': [], u'user_mentions': [{u'id': 3229506722, u'indices': [3, 12], u'id_str': u'3229506722', u'screen_name': u'JacloPac', u'name': u'JacloPac'}], u'hashtags': [{u'indices': [14, 26], u'text': u'DonaldTrump'}], u'urls': [], u'media': [{u'source_user_id': 3229506722, u'source_status_id_str': u'731598692067598336', u'expanded_url': u'http://twitter.com/JacloPac/status/731598692067598336/photo/1', u'display_url': u'pic.twitter.com/Pkdi1idGe8', u'url': u'https://t.co/Pkdi1idGe8', u'media_url_https': u'https://pbs.twimg.com/media/CicpIkAVEAAZATe.jpg', u'source_user_id_str': u'3229506722', u'source_status_id': 731598692067598336, u'id_str': u'731598691551744000', u'sizes': {u'small': {u'h': 176, u'resize': u'fit', u'w': 224}, u'large': {u'h': 176, u'resize': u'fit', u'w': 224}, u'medium': {u'h': 176, u'resize': u'fit', u'w': 224}, u'thumb': {u'h': 150, u'resize': u'crop', u'w': 150}}, u'indices': [93, 116], u'type': u'photo', u'id': 731598691551744000, u'media_url': u'http://pbs.twimg.com/media/CicpIkAVEAAZATe.jpg'}]}, in_reply_to_screen_name=None, id_str=u'731651330889015297', retweet_count=32, in_reply_to_user_id=None, favorited=False, retweeted_status=Status(contributors=None, truncated=False, text=u\"#DonaldTrump as President!  How things have changed, it wasn't long ago....... https://t.co/Pkdi1idGe8\", is_quote_status=False, in_reply_to_status_id=None, id=731598692067598336, favorite_count=38, _api=<tweepy.api.API object at 0x126ce6c50>, author=User(follow_request_sent=False, has_extended_profile=False, profile_use_background_image=True, _json={u'follow_request_sent': False, u'has_extended_profile': False, u'profile_use_background_image': True, u'default_profile_image': False, u'id': 3229506722, u'profile_background_image_url_https': u'https://abs.twimg.com/images/themes/theme1/bg.png', u'verified': False, u'profile_text_color': u'333333', u'profile_image_url_https': u'https://pbs.twimg.com/profile_images/604180947202760705/3OQ1RLlC_normal.jpg', u'profile_sidebar_fill_color': u'DDEEF6', u'entities': {u'url': {u'urls': [{u'url': u'http://t.co/jOhlHZgW3X', u'indices': [0, 22], u'expanded_url': u'http://www.jobsamericancanliveon.myevent.com/3/donate.htm', u'display_url': u'jobsamericancanliveon.myevent.com/3/donate.htm'}]}, u'description': {u'urls': []}}, u'followers_count': 13574, u'profile_sidebar_border_color': u'C0DEED', u'id_str': u'3229506722', u'profile_background_color': u'C0DEED', u'listed_count': 82, u'is_translation_enabled': False, u'utc_offset': -25200, u'statuses_count': 2293, u'description': u'Jobs Americans Can Live On! A Nonprofit, Leveraging Washington via votes 2 end #wageinequality #corpwelfare & provide #livablewage legislation.  Concordia', u'friends_count': 11467, u'location': u'Berkeley, California', u'profile_link_color': u'0084B4', u'profile_image_url': u'http://pbs.twimg.com/profile_images/604180947202760705/3OQ1RLlC_normal.jpg', u'following': False, u'geo_enabled': False, u'profile_banner_url': u'https://pbs.twimg.com/profile_banners/3229506722/1434159703', u'profile_background_image_url': u'http://abs.twimg.com/images/themes/theme1/bg.png', u'screen_name': u'JacloPac', u'lang': u'en', u'profile_background_tile': False, u'favourites_count': 1317, u'name': u'JacloPac', u'notifications': False, u'url': u'http://t.co/jOhlHZgW3X', u'created_at': u'Fri May 29 06:56:37 +0000 2015', u'contributors_enabled': False, u'time_zone': u'Pacific Time (US & Canada)', u'protected': False, u'default_profile': True, u'is_translator': False}, time_zone=u'Pacific Time (US & Canada)', id=3229506722, _api=<tweepy.api.API object at 0x126ce6c50>, verified=False, profile_text_color=u'333333', profile_image_url_https=u'https://pbs.twimg.com/profile_images/604180947202760705/3OQ1RLlC_normal.jpg', profile_sidebar_fill_color=u'DDEEF6', is_translator=False, geo_enabled=False, entities={u'url': {u'urls': [{u'url': u'http://t.co/jOhlHZgW3X', u'indices': [0, 22], u'expanded_url': u'http://www.jobsamericancanliveon.myevent.com/3/donate.htm', u'display_url': u'jobsamericancanliveon.myevent.com/3/donate.htm'}]}, u'description': {u'urls': []}}, followers_count=13574, protected=False, id_str=u'3229506722', default_profile_image=False, listed_count=82, lang=u'en', utc_offset=-25200, statuses_count=2293, description=u'Jobs Americans Can Live On! A Nonprofit, Leveraging Washington via votes 2 end #wageinequality #corpwelfare & provide #livablewage legislation.  Concordia', friends_count=11467, profile_link_color=u'0084B4', profile_image_url=u'http://pbs.twimg.com/profile_images/604180947202760705/3OQ1RLlC_normal.jpg', notifications=False, profile_background_image_url_https=u'https://abs.twimg.com/images/themes/theme1/bg.png', profile_background_color=u'C0DEED', profile_banner_url=u'https://pbs.twimg.com/profile_banners/3229506722/1434159703', profile_background_image_url=u'http://abs.twimg.com/images/themes/theme1/bg.png', name=u'JacloPac', is_translation_enabled=False, profile_background_tile=False, favourites_count=1317, screen_name=u'JacloPac', url=u'http://t.co/jOhlHZgW3X', created_at=datetime.datetime(2015, 5, 29, 6, 56, 37), contributors_enabled=False, location=u'Berkeley, California', profile_sidebar_border_color=u'C0DEED', default_profile=True, following=False), _json={u'contributors': None, u'truncated': False, u'text': u\"#DonaldTrump as President!  How things have changed, it wasn't long ago....... https://t.co/Pkdi1idGe8\", u'is_quote_status': False, u'in_reply_to_status_id': None, u'id': 731598692067598336, u'favorite_count': 38, u'entities': {u'symbols': [], u'user_mentions': [], u'hashtags': [{u'indices': [0, 12], u'text': u'DonaldTrump'}], u'urls': [], u'media': [{u'expanded_url': u'http://twitter.com/JacloPac/status/731598692067598336/photo/1', u'display_url': u'pic.twitter.com/Pkdi1idGe8', u'url': u'https://t.co/Pkdi1idGe8', u'media_url_https': u'https://pbs.twimg.com/media/CicpIkAVEAAZATe.jpg', u'id_str': u'731598691551744000', u'sizes': {u'small': {u'h': 176, u'resize': u'fit', u'w': 224}, u'large': {u'h': 176, u'resize': u'fit', u'w': 224}, u'medium': {u'h': 176, u'resize': u'fit', u'w': 224}, u'thumb': {u'h': 150, u'resize': u'crop', u'w': 150}}, u'indices': [79, 102], u'type': u'photo', u'id': 731598691551744000, u'media_url': u'http://pbs.twimg.com/media/CicpIkAVEAAZATe.jpg'}]}, u'retweeted': False, u'coordinates': None, u'source': u'<a href=\"http://twitter.com\" rel=\"nofollow\">Twitter Web Client</a>', u'in_reply_to_screen_name': None, u'in_reply_to_user_id': None, u'retweet_count': 32, u'id_str': u'731598692067598336', u'favorited': False, u'user': {u'follow_request_sent': False, u'has_extended_profile': False, u'profile_use_background_image': True, u'default_profile_image': False, u'id': 3229506722, u'profile_background_image_url_https': u'https://abs.twimg.com/images/themes/theme1/bg.png', u'verified': False, u'profile_text_color': u'333333', u'profile_image_url_https': u'https://pbs.twimg.com/profile_images/604180947202760705/3OQ1RLlC_normal.jpg', u'profile_sidebar_fill_color': u'DDEEF6', u'entities': {u'url': {u'urls': [{u'url': u'http://t.co/jOhlHZgW3X', u'indices': [0, 22], u'expanded_url': u'http://www.jobsamericancanliveon.myevent.com/3/donate.htm', u'display_url': u'jobsamericancanliveon.myevent.com/3/donate.htm'}]}, u'description': {u'urls': []}}, u'followers_count': 13574, u'profile_sidebar_border_color': u'C0DEED', u'id_str': u'3229506722', u'profile_background_color': u'C0DEED', u'listed_count': 82, u'is_translation_enabled': False, u'utc_offset': -25200, u'statuses_count': 2293, u'description': u'Jobs Americans Can Live On! A Nonprofit, Leveraging Washington via votes 2 end #wageinequality #corpwelfare & provide #livablewage legislation.  Concordia', u'friends_count': 11467, u'location': u'Berkeley, California', u'profile_link_color': u'0084B4', u'profile_image_url': u'http://pbs.twimg.com/profile_images/604180947202760705/3OQ1RLlC_normal.jpg', u'following': False, u'geo_enabled': False, u'profile_banner_url': u'https://pbs.twimg.com/profile_banners/3229506722/1434159703', u'profile_background_image_url': u'http://abs.twimg.com/images/themes/theme1/bg.png', u'screen_name': u'JacloPac', u'lang': u'en', u'profile_background_tile': False, u'favourites_count': 1317, u'name': u'JacloPac', u'notifications': False, u'url': u'http://t.co/jOhlHZgW3X', u'created_at': u'Fri May 29 06:56:37 +0000 2015', u'contributors_enabled': False, u'time_zone': u'Pacific Time (US & Canada)', u'protected': False, u'default_profile': True, u'is_translator': False}, u'geo': None, u'in_reply_to_user_id_str': None, u'possibly_sensitive': False, u'lang': u'en', u'created_at': u'Sat May 14 21:34:55 +0000 2016', u'in_reply_to_status_id_str': None, u'place': None, u'metadata': {u'iso_language_code': u'en', u'result_type': u'recent'}}, coordinates=None, entities={u'symbols': [], u'user_mentions': [], u'hashtags': [{u'indices': [0, 12], u'text': u'DonaldTrump'}], u'urls': [], u'media': [{u'expanded_url': u'http://twitter.com/JacloPac/status/731598692067598336/photo/1', u'display_url': u'pic.twitter.com/Pkdi1idGe8', u'url': u'https://t.co/Pkdi1idGe8', u'media_url_https': u'https://pbs.twimg.com/media/CicpIkAVEAAZATe.jpg', u'id_str': u'731598691551744000', u'sizes': {u'small': {u'h': 176, u'resize': u'fit', u'w': 224}, u'large': {u'h': 176, u'resize': u'fit', u'w': 224}, u'medium': {u'h': 176, u'resize': u'fit', u'w': 224}, u'thumb': {u'h': 150, u'resize': u'crop', u'w': 150}}, u'indices': [79, 102], u'type': u'photo', u'id': 731598691551744000, u'media_url': u'http://pbs.twimg.com/media/CicpIkAVEAAZATe.jpg'}]}, in_reply_to_screen_name=None, id_str=u'731598692067598336', retweet_count=32, in_reply_to_user_id=None, favorited=False, source_url=u'http://twitter.com', user=User(follow_request_sent=False, has_extended_profile=False, profile_use_background_image=True, _json={u'follow_request_sent': False, u'has_extended_profile': False, u'profile_use_background_image': True, u'default_profile_image': False, u'id': 3229506722, u'profile_background_image_url_https': u'https://abs.twimg.com/images/themes/theme1/bg.png', u'verified': False, u'profile_text_color': u'333333', u'profile_image_url_https': u'https://pbs.twimg.com/profile_images/604180947202760705/3OQ1RLlC_normal.jpg', u'profile_sidebar_fill_color': u'DDEEF6', u'entities': {u'url': {u'urls': [{u'url': u'http://t.co/jOhlHZgW3X', u'indices': [0, 22], u'expanded_url': u'http://www.jobsamericancanliveon.myevent.com/3/donate.htm', u'display_url': u'jobsamericancanliveon.myevent.com/3/donate.htm'}]}, u'description': {u'urls': []}}, u'followers_count': 13574, u'profile_sidebar_border_color': u'C0DEED', u'id_str': u'3229506722', u'profile_background_color': u'C0DEED', u'listed_count': 82, u'is_translation_enabled': False, u'utc_offset': -25200, u'statuses_count': 2293, u'description': u'Jobs Americans Can Live On! A Nonprofit, Leveraging Washington via votes 2 end #wageinequality #corpwelfare & provide #livablewage legislation.  Concordia', u'friends_count': 11467, u'location': u'Berkeley, California', u'profile_link_color': u'0084B4', u'profile_image_url': u'http://pbs.twimg.com/profile_images/604180947202760705/3OQ1RLlC_normal.jpg', u'following': False, u'geo_enabled': False, u'profile_banner_url': u'https://pbs.twimg.com/profile_banners/3229506722/1434159703', u'profile_background_image_url': u'http://abs.twimg.com/images/themes/theme1/bg.png', u'screen_name': u'JacloPac', u'lang': u'en', u'profile_background_tile': False, u'favourites_count': 1317, u'name': u'JacloPac', u'notifications': False, u'url': u'http://t.co/jOhlHZgW3X', u'created_at': u'Fri May 29 06:56:37 +0000 2015', u'contributors_enabled': False, u'time_zone': u'Pacific Time (US & Canada)', u'protected': False, u'default_profile': True, u'is_translator': False}, time_zone=u'Pacific Time (US & Canada)', id=3229506722, _api=<tweepy.api.API object at 0x126ce6c50>, verified=False, profile_text_color=u'333333', profile_image_url_https=u'https://pbs.twimg.com/profile_images/604180947202760705/3OQ1RLlC_normal.jpg', profile_sidebar_fill_color=u'DDEEF6', is_translator=False, geo_enabled=False, entities={u'url': {u'urls': [{u'url': u'http://t.co/jOhlHZgW3X', u'indices': [0, 22], u'expanded_url': u'http://www.jobsamericancanliveon.myevent.com/3/donate.htm', u'display_url': u'jobsamericancanliveon.myevent.com/3/donate.htm'}]}, u'description': {u'urls': []}}, followers_count=13574, protected=False, id_str=u'3229506722', default_profile_image=False, listed_count=82, lang=u'en', utc_offset=-25200, statuses_count=2293, description=u'Jobs Americans Can Live On! A Nonprofit, Leveraging Washington via votes 2 end #wageinequality #corpwelfare & provide #livablewage legislation.  Concordia', friends_count=11467, profile_link_color=u'0084B4', profile_image_url=u'http://pbs.twimg.com/profile_images/604180947202760705/3OQ1RLlC_normal.jpg', notifications=False, profile_background_image_url_https=u'https://abs.twimg.com/images/themes/theme1/bg.png', profile_background_color=u'C0DEED', profile_banner_url=u'https://pbs.twimg.com/profile_banners/3229506722/1434159703', profile_background_image_url=u'http://abs.twimg.com/images/themes/theme1/bg.png', name=u'JacloPac', is_translation_enabled=False, profile_background_tile=False, favourites_count=1317, screen_name=u'JacloPac', url=u'http://t.co/jOhlHZgW3X', created_at=datetime.datetime(2015, 5, 29, 6, 56, 37), contributors_enabled=False, location=u'Berkeley, California', profile_sidebar_border_color=u'C0DEED', default_profile=True, following=False), geo=None, in_reply_to_user_id_str=None, possibly_sensitive=False, lang=u'en', created_at=datetime.datetime(2016, 5, 14, 21, 34, 55), in_reply_to_status_id_str=None, place=None, source=u'Twitter Web Client', retweeted=False, metadata={u'iso_language_code': u'en', u'result_type': u'recent'}), source_url=u'http://twitter.com/download/iphone', user=User(follow_request_sent=False, has_extended_profile=False, profile_use_background_image=True, _json={u'follow_request_sent': False, u'has_extended_profile': False, u'profile_use_background_image': True, u'default_profile_image': False, u'id': 414638265, u'profile_background_image_url_https': u'https://abs.twimg.com/images/themes/theme1/bg.png', u'verified': False, u'profile_text_color': u'333333', u'profile_image_url_https': u'https://pbs.twimg.com/profile_images/731230207793876993/9SeyKmh0_normal.jpg', u'profile_sidebar_fill_color': u'DDEEF6', u'entities': {u'description': {u'urls': []}}, u'followers_count': 1186, u'profile_sidebar_border_color': u'C0DEED', u'id_str': u'414638265', u'profile_background_color': u'C0DEED', u'listed_count': 187, u'is_translation_enabled': False, u'utc_offset': None, u'statuses_count': 57606, u'description': u\"Single Mom with 1 college graduate and 1 undergrad away at school. US Navy (Ret) BA '02 Writer, Artist, Activist, Loves Jazz & foreign food.\", u'friends_count': 2172, u'location': u'San Antonio TX', u'profile_link_color': u'0084B4', u'profile_image_url': u'http://pbs.twimg.com/profile_images/731230207793876993/9SeyKmh0_normal.jpg', u'following': False, u'geo_enabled': True, u'profile_banner_url': u'https://pbs.twimg.com/profile_banners/414638265/1405676939', u'profile_background_image_url': u'http://abs.twimg.com/images/themes/theme1/bg.png', u'screen_name': u'Kenikewahine78', u'lang': u'en', u'profile_background_tile': False, u'favourites_count': 7295, u'name': u'Kenike Marceau', u'notifications': False, u'url': None, u'created_at': u'Thu Nov 17 09:22:27 +0000 2011', u'contributors_enabled': False, u'time_zone': None, u'protected': False, u'default_profile': True, u'is_translator': False}, time_zone=None, id=414638265, _api=<tweepy.api.API object at 0x126ce6c50>, verified=False, profile_text_color=u'333333', profile_image_url_https=u'https://pbs.twimg.com/profile_images/731230207793876993/9SeyKmh0_normal.jpg', profile_sidebar_fill_color=u'DDEEF6', is_translator=False, geo_enabled=True, entities={u'description': {u'urls': []}}, followers_count=1186, protected=False, id_str=u'414638265', default_profile_image=False, listed_count=187, lang=u'en', utc_offset=None, statuses_count=57606, description=u\"Single Mom with 1 college graduate and 1 undergrad away at school. US Navy (Ret) BA '02 Writer, Artist, Activist, Loves Jazz & foreign food.\", friends_count=2172, profile_link_color=u'0084B4', profile_image_url=u'http://pbs.twimg.com/profile_images/731230207793876993/9SeyKmh0_normal.jpg', notifications=False, profile_background_image_url_https=u'https://abs.twimg.com/images/themes/theme1/bg.png', profile_background_color=u'C0DEED', profile_banner_url=u'https://pbs.twimg.com/profile_banners/414638265/1405676939', profile_background_image_url=u'http://abs.twimg.com/images/themes/theme1/bg.png', name=u'Kenike Marceau', is_translation_enabled=False, profile_background_tile=False, favourites_count=7295, screen_name=u'Kenikewahine78', url=None, created_at=datetime.datetime(2011, 11, 17, 9, 22, 27), contributors_enabled=False, location=u'San Antonio TX', profile_sidebar_border_color=u'C0DEED', default_profile=True, following=False), geo=None, in_reply_to_user_id_str=None, possibly_sensitive=False, lang=u'en', created_at=datetime.datetime(2016, 5, 15, 1, 4, 5), in_reply_to_status_id_str=None, place=None, source=u'Twitter for iPhone', retweeted=False, metadata={u'iso_language_code': u'en', u'result_type': u'recent'})"
      ]
     },
     "execution_count": 425,
     "metadata": {},
     "output_type": "execute_result"
    }
   ],
   "source": [
    "the_donald_tweets[0]"
   ]
  },
  {
   "cell_type": "code",
   "execution_count": 426,
   "metadata": {
    "collapsed": false
   },
   "outputs": [
    {
     "name": "stdout",
     "output_type": "stream",
     "text": [
      "['__class__', '__delattr__', '__dict__', '__doc__', '__eq__', '__format__', '__getattribute__', '__getstate__', '__hash__', '__init__', '__module__', '__ne__', '__new__', '__reduce__', '__reduce_ex__', '__repr__', '__setattr__', '__sizeof__', '__str__', '__subclasshook__', '__weakref__', '_api', '_json', 'author', 'contributors', 'coordinates', 'created_at', 'destroy', 'entities', 'favorite', 'favorite_count', 'favorited', 'geo', 'id', 'id_str', 'in_reply_to_screen_name', 'in_reply_to_status_id', 'in_reply_to_status_id_str', 'in_reply_to_user_id', 'in_reply_to_user_id_str', 'is_quote_status', 'lang', 'metadata', 'parse', 'parse_list', 'place', 'possibly_sensitive', 'retweet', 'retweet_count', 'retweeted', 'retweeted_status', 'retweets', 'source', 'source_url', 'text', 'truncated', 'user']\n"
     ]
    }
   ],
   "source": [
    "# wrappers come with built in python attributes and methods!\n",
    "print dir(the_donald_tweets[0])"
   ]
  },
  {
   "cell_type": "code",
   "execution_count": 427,
   "metadata": {
    "collapsed": false
   },
   "outputs": [
    {
     "name": "stdout",
     "output_type": "stream",
     "text": [
      "2016-05-15 01:04:05\n",
      "RT @JacloPac: #DonaldTrump as President!  How things have changed, it wasn't long ago....... https://t.co/Pkdi1idGe8\n",
      "0\n",
      "False\n",
      "en\n",
      "None\n",
      "32\n",
      "False\n",
      "False\n",
      "None\n"
     ]
    }
   ],
   "source": [
    "print the_donald_tweets[0].created_at\n",
    "print the_donald_tweets[0].text\n",
    "print the_donald_tweets[0].favorite_count\n",
    "print the_donald_tweets[0].favorited\n",
    "print the_donald_tweets[0].lang\n",
    "print the_donald_tweets[0].geo\n",
    "print the_donald_tweets[0].retweet_count\n",
    "print the_donald_tweets[0].retweeted\n",
    "print the_donald_tweets[0].possibly_sensitive\n",
    "print the_donald_tweets[0].coordinates"
   ]
  },
  {
   "cell_type": "code",
   "execution_count": 428,
   "metadata": {
    "collapsed": false
   },
   "outputs": [],
   "source": [
    "def parse_status_objects(tweet_list, candidate, party):\n",
    "   modified_tweets = list()\n",
    "   for x in tweet_list:\n",
    "       modified_tweets.append( [\n",
    "               x.created_at,\n",
    "               x.text,\n",
    "               x.favorite_count,\n",
    "               x.favorited,\n",
    "               x.lang,\n",
    "               x.geo,\n",
    "               x.retweet_count,\n",
    "               x.retweeted,\n",
    "               x.coordinates,\n",
    "               candidate,\n",
    "               party\n",
    "               ])\n",
    "   return modified_tweets\n",
    "        \n",
    "# Hillary Clinton = 0\n",
    "# Bernie Sanders = 1\n",
    "# Donald Trump = 2\n",
    "# Democrat = 0\n",
    "# Republican = 1    \n",
    "    \n",
    "hillary_tweets = parse_status_objects(hillary_tweets, 0, 1)\n",
    "the_donald_tweets = parse_status_objects(the_donald_tweets, 2, 0)\n",
    "bernie_tweets = parse_status_objects(bernie_tweets, 1, 1)"
   ]
  },
  {
   "cell_type": "code",
   "execution_count": 429,
   "metadata": {
    "collapsed": false
   },
   "outputs": [
    {
     "name": "stdout",
     "output_type": "stream",
     "text": [
      "[datetime.datetime(2016, 5, 15, 1, 9, 5), u'@oyebee the DNC is so corrupt! we need #BernieSanders to help clean things up.\\n#FeelTheBern  #DropOutHillary #shameonyouBoxer', 0, False, u'en', None, 0, False, None, 1, 1]\n",
      "[datetime.datetime(2016, 5, 15, 1, 4, 5), u\"RT @JacloPac: #DonaldTrump as President!  How things have changed, it wasn't long ago....... https://t.co/Pkdi1idGe8\", 0, False, u'en', None, 32, False, None, 2, 0]\n",
      "[datetime.datetime(2016, 5, 15, 1, 1, 57), u'RT @JeromePandell: Agree, @billscher: The Case for @VP @alfranken https://t.co/NyibaHAaPJ #ImWithHer \\u2611', 0, False, u'en', None, 2, False, None, 0, 1]\n"
     ]
    }
   ],
   "source": [
    "print bernie_tweets[0]\n",
    "print the_donald_tweets[0]\n",
    "print hillary_tweets[0]"
   ]
  },
  {
   "cell_type": "code",
   "execution_count": 430,
   "metadata": {
    "collapsed": false
   },
   "outputs": [
    {
     "name": "stdout",
     "output_type": "stream",
     "text": [
      "(290, 11)\n",
      "(300, 11)\n",
      "(400, 11)\n",
      "(990, 11)\n"
     ]
    },
    {
     "data": {
      "text/html": [
       "<div>\n",
       "<table border=\"1\" class=\"dataframe\">\n",
       "  <thead>\n",
       "    <tr style=\"text-align: right;\">\n",
       "      <th></th>\n",
       "      <th>date</th>\n",
       "      <th>text</th>\n",
       "      <th>favorite_count</th>\n",
       "      <th>favorited</th>\n",
       "      <th>language</th>\n",
       "      <th>geocode</th>\n",
       "      <th>retweet_count</th>\n",
       "      <th>retweeted</th>\n",
       "      <th>coordinates</th>\n",
       "      <th>candidate</th>\n",
       "      <th>party</th>\n",
       "    </tr>\n",
       "  </thead>\n",
       "  <tbody>\n",
       "    <tr>\n",
       "      <th>0</th>\n",
       "      <td>2016-05-15 01:01:57</td>\n",
       "      <td>RT @JeromePandell: Agree, @billscher: The Case...</td>\n",
       "      <td>0</td>\n",
       "      <td>False</td>\n",
       "      <td>en</td>\n",
       "      <td>None</td>\n",
       "      <td>2</td>\n",
       "      <td>False</td>\n",
       "      <td>None</td>\n",
       "      <td>0</td>\n",
       "      <td>1</td>\n",
       "    </tr>\n",
       "    <tr>\n",
       "      <th>1</th>\n",
       "      <td>2016-05-15 00:59:44</td>\n",
       "      <td>RT @js_edit: Everyone who lives in a state tha...</td>\n",
       "      <td>0</td>\n",
       "      <td>False</td>\n",
       "      <td>en</td>\n",
       "      <td>None</td>\n",
       "      <td>1</td>\n",
       "      <td>False</td>\n",
       "      <td>None</td>\n",
       "      <td>0</td>\n",
       "      <td>1</td>\n",
       "    </tr>\n",
       "  </tbody>\n",
       "</table>\n",
       "</div>"
      ],
      "text/plain": [
       "                 date                                               text  \\\n",
       "0 2016-05-15 01:01:57  RT @JeromePandell: Agree, @billscher: The Case...   \n",
       "1 2016-05-15 00:59:44  RT @js_edit: Everyone who lives in a state tha...   \n",
       "\n",
       "   favorite_count favorited language geocode  retweet_count retweeted  \\\n",
       "0               0     False       en    None              2     False   \n",
       "1               0     False       en    None              1     False   \n",
       "\n",
       "  coordinates  candidate  party  \n",
       "0        None          0      1  \n",
       "1        None          0      1  "
      ]
     },
     "execution_count": 430,
     "metadata": {},
     "output_type": "execute_result"
    }
   ],
   "source": [
    "# 2 Create a dataframe that combines all of the tweets from each candidate\n",
    "# To do so, you will need to concat the data frames\n",
    "# so each row is a tweet and your columns should be \n",
    "# date, text, favorite_count,favorited, language, geocode, rwtweet count, retweeted, coordinates\n",
    "\n",
    "labels = ['date', 'text', 'favorite_count','favorited', 'language', 'geocode', 'retweet_count', 'retweeted', 'coordinates','candidate','party']\n",
    "\n",
    "# type(hillary_tweets)\n",
    "df_clinton = pd.DataFrame(hillary_tweets, columns = labels)\n",
    "df_sanders = pd.DataFrame(bernie_tweets, columns = labels)\n",
    "df_trump = pd.DataFrame(the_donald_tweets, columns = labels)\n",
    "\n",
    "frames = [df_clinton, df_sanders, df_trump]\n",
    "df_all = pd.concat(frames)\n",
    "# check df is correct size\n",
    "print df_clinton.shape\n",
    "print df_sanders.shape\n",
    "print df_trump.shape\n",
    "print df_all.shape\n",
    "df_all.head(2)"
   ]
  },
  {
   "cell_type": "code",
   "execution_count": 431,
   "metadata": {
    "collapsed": false
   },
   "outputs": [
    {
     "data": {
      "text/plain": [
       "-0.78125"
      ]
     },
     "execution_count": 431,
     "metadata": {},
     "output_type": "execute_result"
    }
   ],
   "source": [
    "# 3 Create a function to take in a string and output the textblob sentiment of that string\n",
    "from textblob import TextBlob\n",
    "# review.sentiment.polarity\n",
    "\n",
    "def detect_sentiment(text):\n",
    "    return TextBlob(text.decode('utf-8', 'ignore')).sentiment.polarity\n",
    "\n",
    "# def stringToSentiment(text):\n",
    "    # return TextBlob(text.decode('utf-8', 'ignore')).sentiment.polarity\n",
    "\n",
    "\n",
    "# vect = CountVectorizer(stop_words = 'english')\n",
    "tw = pd.Series.to_string(df_all.text[0])\n",
    "detect_sentiment(tw)"
   ]
  },
  {
   "cell_type": "code",
   "execution_count": 432,
   "metadata": {
    "collapsed": false
   },
   "outputs": [],
   "source": [
    "# Take out RT and user names and @ character\n",
    "# df_all['text'].replace(\"RT \", '', regex=True,inplace = True)\n",
    "# df_all['text'].replace(\"@\\w*: \", '', regex=True, inplace = True)"
   ]
  },
  {
   "cell_type": "code",
   "execution_count": 433,
   "metadata": {
    "collapsed": false
   },
   "outputs": [
    {
     "data": {
      "text/plain": [
       "(990, 12)"
      ]
     },
     "execution_count": 433,
     "metadata": {},
     "output_type": "execute_result"
    }
   ],
   "source": [
    "# 4 Add a column to your data frame called 'sentiment' which holds the sentiment of that tweet (hint: use the function from #3)\n",
    "text = df_all.text\n",
    "#\n",
    "sentiment = np.zeros(len(text)) \n",
    "c = 0\n",
    "for tw in text:\n",
    "    tweet = tw.encode(\"utf-8\")\n",
    "    sentiment[c] = detect_sentiment(tweet)\n",
    "    c += 1\n",
    "df_all['sentiment'] = sentiment\n",
    "\n",
    "#\n",
    "# df_all['sentiment'] = df_all.text.apply(detect_sentiment)\n",
    "# df_all.head(2)\n",
    "df_all.shape"
   ]
  },
  {
   "cell_type": "code",
   "execution_count": 434,
   "metadata": {
    "collapsed": false
   },
   "outputs": [],
   "source": [
    "df_all['date'] = pd.to_datetime(df_all.date)\n",
    "df_all['date'].head()\n",
    "df_all.index = df_all.date"
   ]
  },
  {
   "cell_type": "code",
   "execution_count": 435,
   "metadata": {
    "collapsed": false
   },
   "outputs": [
    {
     "name": "stdout",
     "output_type": "stream",
     "text": [
      "(990, 13)\n"
     ]
    },
    {
     "data": {
      "text/html": [
       "<div>\n",
       "<table border=\"1\" class=\"dataframe\">\n",
       "  <thead>\n",
       "    <tr style=\"text-align: right;\">\n",
       "      <th></th>\n",
       "      <th>date</th>\n",
       "      <th>text</th>\n",
       "      <th>favorite_count</th>\n",
       "      <th>favorited</th>\n",
       "      <th>language</th>\n",
       "      <th>geocode</th>\n",
       "      <th>retweet_count</th>\n",
       "      <th>retweeted</th>\n",
       "      <th>coordinates</th>\n",
       "      <th>candidate</th>\n",
       "      <th>party</th>\n",
       "      <th>sentiment</th>\n",
       "      <th>word_count</th>\n",
       "    </tr>\n",
       "    <tr>\n",
       "      <th>date</th>\n",
       "      <th></th>\n",
       "      <th></th>\n",
       "      <th></th>\n",
       "      <th></th>\n",
       "      <th></th>\n",
       "      <th></th>\n",
       "      <th></th>\n",
       "      <th></th>\n",
       "      <th></th>\n",
       "      <th></th>\n",
       "      <th></th>\n",
       "      <th></th>\n",
       "      <th></th>\n",
       "    </tr>\n",
       "  </thead>\n",
       "  <tbody>\n",
       "    <tr>\n",
       "      <th>2016-05-15 01:01:57</th>\n",
       "      <td>2016-05-15 01:01:57</td>\n",
       "      <td>RT @JeromePandell: Agree, @billscher: The Case...</td>\n",
       "      <td>0</td>\n",
       "      <td>False</td>\n",
       "      <td>en</td>\n",
       "      <td>None</td>\n",
       "      <td>2</td>\n",
       "      <td>False</td>\n",
       "      <td>None</td>\n",
       "      <td>0</td>\n",
       "      <td>1</td>\n",
       "      <td>0.0</td>\n",
       "      <td>12.0</td>\n",
       "    </tr>\n",
       "    <tr>\n",
       "      <th>2016-05-15 00:59:44</th>\n",
       "      <td>2016-05-15 00:59:44</td>\n",
       "      <td>RT @js_edit: Everyone who lives in a state tha...</td>\n",
       "      <td>0</td>\n",
       "      <td>False</td>\n",
       "      <td>en</td>\n",
       "      <td>None</td>\n",
       "      <td>1</td>\n",
       "      <td>False</td>\n",
       "      <td>None</td>\n",
       "      <td>0</td>\n",
       "      <td>1</td>\n",
       "      <td>0.0</td>\n",
       "      <td>28.0</td>\n",
       "    </tr>\n",
       "  </tbody>\n",
       "</table>\n",
       "</div>"
      ],
      "text/plain": [
       "                                   date  \\\n",
       "date                                      \n",
       "2016-05-15 01:01:57 2016-05-15 01:01:57   \n",
       "2016-05-15 00:59:44 2016-05-15 00:59:44   \n",
       "\n",
       "                                                                  text  \\\n",
       "date                                                                     \n",
       "2016-05-15 01:01:57  RT @JeromePandell: Agree, @billscher: The Case...   \n",
       "2016-05-15 00:59:44  RT @js_edit: Everyone who lives in a state tha...   \n",
       "\n",
       "                     favorite_count favorited language geocode  retweet_count  \\\n",
       "date                                                                            \n",
       "2016-05-15 01:01:57               0     False       en    None              2   \n",
       "2016-05-15 00:59:44               0     False       en    None              1   \n",
       "\n",
       "                    retweeted coordinates  candidate  party  sentiment  \\\n",
       "date                                                                     \n",
       "2016-05-15 01:01:57     False        None          0      1        0.0   \n",
       "2016-05-15 00:59:44     False        None          0      1        0.0   \n",
       "\n",
       "                     word_count  \n",
       "date                             \n",
       "2016-05-15 01:01:57        12.0  \n",
       "2016-05-15 00:59:44        28.0  "
      ]
     },
     "execution_count": 435,
     "metadata": {},
     "output_type": "execute_result"
    }
   ],
   "source": [
    "# 5 create a word count column, which holds the number of words in the text column\n",
    "text = df_all.text\n",
    "counts = np.zeros(len(text))\n",
    "c = 0\n",
    "for tw in text:\n",
    "    tweet = tw.encode(\"utf-8\")\n",
    "    counts[c] = len(tweet.split())\n",
    "    c += 1\n",
    "    \n",
    "df_all['word_count'] = counts\n",
    "# df_all.head(2)\n",
    "print df_all.shape\n",
    "df_all.head(2)"
   ]
  },
  {
   "cell_type": "code",
   "execution_count": 436,
   "metadata": {
    "collapsed": false
   },
   "outputs": [
    {
     "name": "stdout",
     "output_type": "stream",
     "text": [
      "(990, 8704)\n"
     ]
    }
   ],
   "source": [
    "# use countvectorizer to create a document-term matrix and concatinate it to your main dataframe\n",
    "#(hint you should now have thousands of columns)\n",
    "\n",
    "\n",
    "vect = TfidfVectorizer(stop_words = 'english', ngram_range=(1,3))\n",
    "sentences_train = vect.fit_transform(df_all.text)\n",
    "df_dtm = pd.DataFrame(vect.fit_transform(df_all.text).toarray(), columns=vect.get_feature_names())\n",
    "\n",
    "\n",
    "df = pd.merge(df_all, df_dtm, how='left')\n",
    "print df.shape"
   ]
  },
  {
   "cell_type": "code",
   "execution_count": null,
   "metadata": {
    "collapsed": false
   },
   "outputs": [],
   "source": []
  },
  {
   "cell_type": "code",
   "execution_count": 437,
   "metadata": {
    "collapsed": false
   },
   "outputs": [
    {
     "data": {
      "text/plain": [
       "KMeans(copy_x=True, init='k-means++', max_iter=300, n_clusters=3, n_init=10,\n",
       "    n_jobs=1, precompute_distances='auto', random_state=1, tol=0.0001,\n",
       "    verbose=0)"
      ]
     },
     "execution_count": 437,
     "metadata": {},
     "output_type": "execute_result"
    }
   ],
   "source": [
    "# 6 Use kmean to create clusters for the dataframe\n",
    "from sklearn.cluster import KMeans\n",
    "text = df.text\n",
    "df = df.drop('text',axis = 1)\n",
    "\n",
    "X = sentences_train\n",
    "from sklearn.cluster import KMeans\n",
    "km = KMeans(n_clusters=3, random_state=1)\n",
    "km.fit(X)\n"
   ]
  },
  {
   "cell_type": "code",
   "execution_count": 438,
   "metadata": {
    "collapsed": false
   },
   "outputs": [
    {
     "name": "stderr",
     "output_type": "stream",
     "text": [
      "/Users/mcullen/anaconda/lib/python2.7/site-packages/ipykernel/__main__.py:9: FutureWarning: sort(columns=....) is deprecated, use sort_values(by=.....)\n"
     ]
    },
    {
     "data": {
      "text/plain": [
       "<matplotlib.text.Text at 0x12066e890>"
      ]
     },
     "execution_count": 438,
     "metadata": {},
     "output_type": "execute_result"
    },
    {
     "data": {
      "image/png": "[encoded data removed]",
      "text/plain": [
       "<matplotlib.figure.Figure at 0x120148150>"
      ]
     },
     "metadata": {},
     "output_type": "display_data"
    }
   ],
   "source": [
    "# 7 Explore the clusters\n",
    "# What is interesting? Surprising? Can you draw any inferences about each cluster?\n",
    "# Write your answer to these questions in markdown\n",
    "%matplotlib inline\n",
    "import matplotlib.pyplot as plt\n",
    "plt.rcParams['font.size'] = 14\n",
    "\n",
    "df['cluster'] = km.labels_\n",
    "df.sort('cluster')\n",
    "\n",
    "# scatter plot of calories versus alcohol, colored by cluster (0=red, 1=green, 2=blue)\n",
    "colors = np.array(['red','blue', 'green'])\n",
    "plt.scatter(df.candidate, df.sentiment, c=colors[list(df.cluster)], s=50)\n",
    "\n",
    "# cluster centers, marked by \"+\"\n",
    "centers = df.groupby('cluster').mean()\n",
    "plt.scatter(centers.candidate, centers.sentiment, linewidths=3, marker='+', s=300, c='black')\n",
    "\n",
    "# add labels\n",
    "plt.xlabel('candidate')\n",
    "plt.ylabel('Sentiment')\n"
   ]
  },
  {
   "cell_type": "markdown",
   "metadata": {},
   "source": [
    "The sentiment of the clusters are all overlapping.  There is no clear detection in sentiment for any of the candidates.  "
   ]
  },
  {
   "cell_type": "code",
   "execution_count": 439,
   "metadata": {
    "collapsed": false
   },
   "outputs": [
    {
     "data": {
      "text/html": [
       "<div>\n",
       "<table border=\"1\" class=\"dataframe\">\n",
       "  <thead>\n",
       "    <tr style=\"text-align: right;\">\n",
       "      <th></th>\n",
       "      <th>date</th>\n",
       "      <th>favorite_count</th>\n",
       "      <th>favorited</th>\n",
       "      <th>language</th>\n",
       "      <th>geocode</th>\n",
       "      <th>retweet_count</th>\n",
       "      <th>retweeted</th>\n",
       "      <th>coordinates</th>\n",
       "      <th>candidate</th>\n",
       "      <th>party</th>\n",
       "      <th>...</th>\n",
       "      <th>zgsdaqulrq</th>\n",
       "      <th>zika</th>\n",
       "      <th>zika decidedly</th>\n",
       "      <th>zika decidedly honest</th>\n",
       "      <th>zpum0flkkq</th>\n",
       "      <th>zvpprrysz4</th>\n",
       "      <th>zvpprrysz4 realdonaldtrump</th>\n",
       "      <th>zvpprrysz4 realdonaldtrump trump2016</th>\n",
       "      <th>zvsx2u3u7x</th>\n",
       "      <th>cluster</th>\n",
       "    </tr>\n",
       "  </thead>\n",
       "  <tbody>\n",
       "    <tr>\n",
       "      <th>0</th>\n",
       "      <td>2016-05-15 01:01:57</td>\n",
       "      <td>0</td>\n",
       "      <td>False</td>\n",
       "      <td>en</td>\n",
       "      <td>None</td>\n",
       "      <td>2</td>\n",
       "      <td>False</td>\n",
       "      <td>None</td>\n",
       "      <td>0</td>\n",
       "      <td>1</td>\n",
       "      <td>...</td>\n",
       "      <td>NaN</td>\n",
       "      <td>NaN</td>\n",
       "      <td>NaN</td>\n",
       "      <td>NaN</td>\n",
       "      <td>NaN</td>\n",
       "      <td>NaN</td>\n",
       "      <td>NaN</td>\n",
       "      <td>NaN</td>\n",
       "      <td>NaN</td>\n",
       "      <td>2</td>\n",
       "    </tr>\n",
       "    <tr>\n",
       "      <th>1</th>\n",
       "      <td>2016-05-15 00:59:44</td>\n",
       "      <td>0</td>\n",
       "      <td>False</td>\n",
       "      <td>en</td>\n",
       "      <td>None</td>\n",
       "      <td>1</td>\n",
       "      <td>False</td>\n",
       "      <td>None</td>\n",
       "      <td>0</td>\n",
       "      <td>1</td>\n",
       "      <td>...</td>\n",
       "      <td>NaN</td>\n",
       "      <td>NaN</td>\n",
       "      <td>NaN</td>\n",
       "      <td>NaN</td>\n",
       "      <td>NaN</td>\n",
       "      <td>NaN</td>\n",
       "      <td>NaN</td>\n",
       "      <td>NaN</td>\n",
       "      <td>NaN</td>\n",
       "      <td>2</td>\n",
       "    </tr>\n",
       "    <tr>\n",
       "      <th>2</th>\n",
       "      <td>2016-05-15 00:58:28</td>\n",
       "      <td>0</td>\n",
       "      <td>False</td>\n",
       "      <td>en</td>\n",
       "      <td>None</td>\n",
       "      <td>2</td>\n",
       "      <td>False</td>\n",
       "      <td>None</td>\n",
       "      <td>0</td>\n",
       "      <td>1</td>\n",
       "      <td>...</td>\n",
       "      <td>NaN</td>\n",
       "      <td>NaN</td>\n",
       "      <td>NaN</td>\n",
       "      <td>NaN</td>\n",
       "      <td>NaN</td>\n",
       "      <td>NaN</td>\n",
       "      <td>NaN</td>\n",
       "      <td>NaN</td>\n",
       "      <td>NaN</td>\n",
       "      <td>2</td>\n",
       "    </tr>\n",
       "    <tr>\n",
       "      <th>3</th>\n",
       "      <td>2016-05-15 00:53:08</td>\n",
       "      <td>4</td>\n",
       "      <td>False</td>\n",
       "      <td>en</td>\n",
       "      <td>None</td>\n",
       "      <td>1</td>\n",
       "      <td>False</td>\n",
       "      <td>None</td>\n",
       "      <td>0</td>\n",
       "      <td>1</td>\n",
       "      <td>...</td>\n",
       "      <td>NaN</td>\n",
       "      <td>NaN</td>\n",
       "      <td>NaN</td>\n",
       "      <td>NaN</td>\n",
       "      <td>NaN</td>\n",
       "      <td>NaN</td>\n",
       "      <td>NaN</td>\n",
       "      <td>NaN</td>\n",
       "      <td>NaN</td>\n",
       "      <td>2</td>\n",
       "    </tr>\n",
       "    <tr>\n",
       "      <th>4</th>\n",
       "      <td>2016-05-15 00:13:04</td>\n",
       "      <td>0</td>\n",
       "      <td>False</td>\n",
       "      <td>en</td>\n",
       "      <td>None</td>\n",
       "      <td>4</td>\n",
       "      <td>False</td>\n",
       "      <td>None</td>\n",
       "      <td>0</td>\n",
       "      <td>1</td>\n",
       "      <td>...</td>\n",
       "      <td>NaN</td>\n",
       "      <td>NaN</td>\n",
       "      <td>NaN</td>\n",
       "      <td>NaN</td>\n",
       "      <td>NaN</td>\n",
       "      <td>NaN</td>\n",
       "      <td>NaN</td>\n",
       "      <td>NaN</td>\n",
       "      <td>NaN</td>\n",
       "      <td>2</td>\n",
       "    </tr>\n",
       "  </tbody>\n",
       "</table>\n",
       "<p>5 rows × 8704 columns</p>\n",
       "</div>"
      ],
      "text/plain": [
       "                 date  favorite_count favorited language geocode  \\\n",
       "0 2016-05-15 01:01:57               0     False       en    None   \n",
       "1 2016-05-15 00:59:44               0     False       en    None   \n",
       "2 2016-05-15 00:58:28               0     False       en    None   \n",
       "3 2016-05-15 00:53:08               4     False       en    None   \n",
       "4 2016-05-15 00:13:04               0     False       en    None   \n",
       "\n",
       "   retweet_count retweeted coordinates  candidate  party   ...     zgsdaqulrq  \\\n",
       "0              2     False        None          0      1   ...            NaN   \n",
       "1              1     False        None          0      1   ...            NaN   \n",
       "2              2     False        None          0      1   ...            NaN   \n",
       "3              1     False        None          0      1   ...            NaN   \n",
       "4              4     False        None          0      1   ...            NaN   \n",
       "\n",
       "   zika  zika decidedly  zika decidedly honest  zpum0flkkq  zvpprrysz4  \\\n",
       "0   NaN             NaN                    NaN         NaN         NaN   \n",
       "1   NaN             NaN                    NaN         NaN         NaN   \n",
       "2   NaN             NaN                    NaN         NaN         NaN   \n",
       "3   NaN             NaN                    NaN         NaN         NaN   \n",
       "4   NaN             NaN                    NaN         NaN         NaN   \n",
       "\n",
       "   zvpprrysz4 realdonaldtrump  zvpprrysz4 realdonaldtrump trump2016  \\\n",
       "0                         NaN                                   NaN   \n",
       "1                         NaN                                   NaN   \n",
       "2                         NaN                                   NaN   \n",
       "3                         NaN                                   NaN   \n",
       "4                         NaN                                   NaN   \n",
       "\n",
       "   zvsx2u3u7x  cluster  \n",
       "0         NaN        2  \n",
       "1         NaN        2  \n",
       "2         NaN        2  \n",
       "3         NaN        2  \n",
       "4         NaN        2  \n",
       "\n",
       "[5 rows x 8704 columns]"
      ]
     },
     "execution_count": 439,
     "metadata": {},
     "output_type": "execute_result"
    }
   ],
   "source": [
    "# 8 Create a column called 'democrat' and assign it to the corresponding candidate name for all the records\n",
    "# 1 for bernie and hillary and 0 for donald trump\n",
    "\n",
    "# 1 for democrat(bernie and hillary) and 0 for republican (donald trump) \n",
    "df['democrat'] = np.where(df.party == 1, 1, 0) \n",
    "df.head()"
   ]
  },
  {
   "cell_type": "code",
   "execution_count": 440,
   "metadata": {
    "collapsed": true
   },
   "outputs": [],
   "source": [
    "# 9 Estimate classification models using knn and logistic regession.  Dont forget to use cross validation \n",
    "    # (do not use cross_val_score because we will want a confusion matrix).\n",
    "# Use a three class response variable for knn.  For logistic regression predict democrat or republic?\n",
    "\n",
    "#Assess the pros and cons of both approaches\n",
    "# Extra Credit: Estimate multinomial regression model using the three class response variable\n"
   ]
  },
  {
   "cell_type": "code",
   "execution_count": 463,
   "metadata": {
    "collapsed": true
   },
   "outputs": [],
   "source": [
    "# 10 Initialize a classification model (for both knn and logistic)\n",
    "\n",
    "from sklearn.linear_model import LogisticRegression\n",
    "from sklearn.cross_validation import train_test_split\n",
    "from sklearn.neighbors import KNeighborsClassifier\n",
    "from sklearn.metrics import confusion_matrix\n",
    "\n",
    "# set up test train split and feature columns\n",
    "X = sentences_train\n",
    "# y = df.democrat\n",
    "y = df.candidate\n",
    "X_train, X_test, y_train, y_test = train_test_split(X, y, random_state=1)\n"
   ]
  },
  {
   "cell_type": "code",
   "execution_count": 464,
   "metadata": {
    "collapsed": false
   },
   "outputs": [],
   "source": [
    "# 11 Train your classification model  (for both knn and logistic)\n",
    "\n",
    "# knn\n",
    "k = 3\n",
    "knn = KNeighborsClassifier(n_neighbors=k)\n",
    "knn.fit(X_train, y_train)\n",
    "knn.score(X_train, y_train)\n",
    "\n",
    "# from sklearn.grid_search import GridSearchCV\n",
    "# k_range = range(2, 30, 1)\n",
    "# param_grid = dict(n_neighbors=k_range)\n",
    "# grid = GridSearchCV(knn, param_grid, cv=5, scoring='accuracy')\n",
    "# grid.fit(X_train, y_train)\n",
    "# grid.grid_scores_\n",
    "# grid_mean_scores = [result[1] for result in grid.grid_scores_] # get scores from grid.grid_scores_\n",
    "# visualize results\n",
    "# plt.figure()\n",
    "# plt.plot(k_range, grid_mean_scores)\n",
    "\n",
    "# LogReg\n",
    "logreg = LogisticRegression(C=1e9)\n",
    "logreg.fit(X_train, y_train)\n",
    "assorted_pred_class = logreg.predict(X_train)\n",
    "# assorted_pred_class_test = logreg.predict(X_test) \n",
    "\n",
    "logregm = zip(features,logreg.coef_[0])\n",
    "# print logreg.intercept_\n",
    "# print logreg.coef_\n",
    "# assorted_pred_class"
   ]
  },
  {
   "cell_type": "code",
   "execution_count": 465,
   "metadata": {
    "collapsed": false
   },
   "outputs": [],
   "source": [
    "# 12 Predict on your test features and targets (for both knn and logistic)\n",
    "\n",
    "# knn\n",
    "# print grid.best_score_\n",
    "# print grid.best_params_\n",
    "preds_knn = knn.predict(X_test)\n",
    "preds_knn\n",
    "\n",
    "# logreg \n",
    "preds_logreg = logreg.predict(X_test)\n",
    "# preds_logreg"
   ]
  },
  {
   "cell_type": "code",
   "execution_count": 466,
   "metadata": {
    "collapsed": false
   },
   "outputs": [
    {
     "name": "stdout",
     "output_type": "stream",
     "text": [
      "Accuracy for KNN model\n",
      "0.875\n",
      "Accuracy for Logistic Regression model\n",
      "0.891129032258\n"
     ]
    }
   ],
   "source": [
    "# 13 output your accuracy (for both knn and logistic)\n",
    "from sklearn.metrics import accuracy_score\n",
    "\n",
    "print 'Accuracy for KNN model'\n",
    "print accuracy_score(y_test, preds_knn)\n",
    "\n",
    "print 'Accuracy for Logistic Regression model'\n",
    "print accuracy_score(y_test, preds_logreg)"
   ]
  },
  {
   "cell_type": "code",
   "execution_count": 469,
   "metadata": {
    "collapsed": false
   },
   "outputs": [
    {
     "name": "stdout",
     "output_type": "stream",
     "text": [
      "KNN Confusion Matrix\n",
      "[[ 56   6   9]\n",
      " [  7  61   2]\n",
      " [  7   0 100]]\n",
      "             precision    recall  f1-score   support\n",
      "\n",
      "  Hillary 0       0.80      0.79      0.79        71\n",
      "   Bernie 1       0.91      0.87      0.89        70\n",
      "   Donald 2       0.90      0.93      0.92       107\n",
      "\n",
      "avg / total       0.87      0.88      0.87       248\n",
      "\n",
      "Logistic Regression Confusion Matrix\n",
      "[[ 62   1   8]\n",
      " [  9  59   2]\n",
      " [  7   0 100]]\n",
      "             precision    recall  f1-score   support\n",
      "\n",
      "  Hillary 0       0.79      0.87      0.83        71\n",
      "   Bernie 1       0.98      0.84      0.91        70\n",
      "   Donald 2       0.91      0.93      0.92       107\n",
      "\n",
      "avg / total       0.90      0.89      0.89       248\n",
      "\n"
     ]
    }
   ],
   "source": [
    "# 14 Create a confusion matrix for your predictions (for both knn and logistic)\n",
    "from sklearn.metrics import classification_report\n",
    "# Hillary Clinton = 0\n",
    "# Bernie Sanders = 1\n",
    "# Donald Trump = 2\n",
    "target_names = ['Hillary 0', 'Bernie 1', 'Donald 2']\n",
    "\n",
    "print 'KNN Confusion Matrix'\n",
    "print metrics.confusion_matrix(y_test, preds_knn)\n",
    "print(classification_report(y_test, preds_knn, target_names=target_names))\n",
    "\n",
    "print 'Logistic Regression Confusion Matrix'\n",
    "print metrics.confusion_matrix(y_test, preds_logreg)\n",
    "print(classification_report(y_test, preds_logreg, target_names=target_names))"
   ]
  },
  {
   "cell_type": "code",
   "execution_count": null,
   "metadata": {
    "collapsed": true
   },
   "outputs": [],
   "source": [
    "# 15 Who is the easiest candidate to predict? Why do you think? Who is the hardest? Why do you think?\n",
    "# Write your answers in markdown (for both knn and logistic)"
   ]
  },
  {
   "cell_type": "markdown",
   "metadata": {},
   "source": [
    "For KNN prediction: \n",
    "Donald Trump appears to be the easiest (most accuract with the most confidence) The recall is highest and the precision is second highest. \n",
    "This could be because he is the only republican in the race- separates him from others and draws a differnt crowd with possibly differnt language used in tweeting because of demographic information. \n",
    "\n",
    "For Logistic Regression prediction: \n",
    "Donald Trump appears to be the easiest (most accuract with the most confidence). The recall is the highest and again the precision is the second highest. \n"
   ]
  },
  {
   "cell_type": "code",
   "execution_count": null,
   "metadata": {
    "collapsed": true
   },
   "outputs": [],
   "source": [
    "# 16 What are some extra features (data points) you would like to add to this data set. Explain in markdown.\n",
    "# (hint maybe something like a boolean, \"has_hashtag\")"
   ]
  },
  {
   "cell_type": "markdown",
   "metadata": {},
   "source": [
    "Extra features added could be: \n",
    "gender of candidate\n",
    "gender of tweeter\n",
    "has hashtag\n",
    "if tweet is from a verified account (news source, celebrity) - would have a lot of views in population. \n",
    "number of hashtags used"
   ]
  },
  {
   "cell_type": "code",
   "execution_count": null,
   "metadata": {
    "collapsed": true
   },
   "outputs": [],
   "source": [
    "# 17 Try adding extra features to improve the quality of your predictions (for both knn and logistic)\n",
    "df['is_male_candidate'] = np.where(df.candidate == 0, 0, 1) \n"
   ]
  },
  {
   "cell_type": "code",
   "execution_count": 470,
   "metadata": {
    "collapsed": false
   },
   "outputs": [
    {
     "name": "stdout",
     "output_type": "stream",
     "text": [
      "Accuracy for KNN model\n",
      "0.875\n",
      "KNN Confusion Matrix\n",
      "[[ 56   6   9]\n",
      " [  7  61   2]\n",
      " [  7   0 100]]\n",
      "             precision    recall  f1-score   support\n",
      "\n",
      "  Hillary 0       0.80      0.79      0.79        71\n",
      "   Bernie 1       0.91      0.87      0.89        70\n",
      "   Donald 2       0.90      0.93      0.92       107\n",
      "\n",
      "avg / total       0.87      0.88      0.87       248\n",
      "\n",
      "Accuracy for Logistic Regression model\n",
      "0.891129032258\n",
      "Logistic Regression Confusion Matrix\n",
      "[[ 62   1   8]\n",
      " [  9  59   2]\n",
      " [  7   0 100]]\n",
      "             precision    recall  f1-score   support\n",
      "\n",
      "  Hillary 0       0.79      0.87      0.83        71\n",
      "   Bernie 1       0.98      0.84      0.91        70\n",
      "   Donald 2       0.91      0.93      0.92       107\n",
      "\n",
      "avg / total       0.90      0.89      0.89       248\n",
      "\n"
     ]
    }
   ],
   "source": [
    "# retraining with added column\n",
    "# knn\n",
    "k = 3\n",
    "knn = KNeighborsClassifier(n_neighbors=k)\n",
    "knn.fit(X_train, y_train)\n",
    "knn.score(X_train, y_train)\n",
    "preds_knn = knn.predict(X_test)\n",
    "print 'Accuracy for KNN model'\n",
    "print accuracy_score(y_test, preds_knn)\n",
    "print 'KNN Confusion Matrix'\n",
    "print metrics.confusion_matrix(y_test, preds_knn)\n",
    "print(classification_report(y_test, preds_knn, target_names=target_names))\n",
    "\n",
    "\n",
    "# LogReg\n",
    "logreg = LogisticRegression(C=1e9)\n",
    "logreg.fit(X_train, y_train)\n",
    "assorted_pred_class = logreg.predict(X_train)\n",
    "logregm = zip(features,logreg.coef_[0])\n",
    "preds_logreg = logreg.predict(X_test)\n",
    "print 'Accuracy for Logistic Regression model'\n",
    "print accuracy_score(y_test, preds_logreg)\n",
    "print 'Logistic Regression Confusion Matrix'\n",
    "print metrics.confusion_matrix(y_test, preds_logreg)\n",
    "print(classification_report(y_test, preds_logreg, target_names=target_names))"
   ]
  },
  {
   "cell_type": "code",
   "execution_count": null,
   "metadata": {
    "collapsed": true
   },
   "outputs": [],
   "source": []
  }
 ],
 "metadata": {
  "kernelspec": {
   "display_name": "Python 2",
   "language": "python",
   "name": "python2"
  },
  "language_info": {
   "codemirror_mode": {
    "name": "ipython",
    "version": 2
   },
   "file_extension": ".py",
   "mimetype": "text/x-python",
   "name": "python",
   "nbconvert_exporter": "python",
   "pygments_lexer": "ipython2",
   "version": "2.7.11"
  }
 },
 "nbformat": 4,
 "nbformat_minor": 0
}
